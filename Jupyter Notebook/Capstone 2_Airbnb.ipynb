{
 "cells": [
  {
   "cell_type": "markdown",
   "id": "dea6b933",
   "metadata": {},
   "source": [
    "\n",
    "## Background\n",
    "\n",
    "Bangkok has become one of Southeast Asia’s most visited cities, attracting millions of tourists annually.  \n",
    "The rapid growth of short-term rental platforms like Airbnb has significantly influenced the city’s hospitality landscape.  \n",
    "As tourism flourishes, understanding patterns in Airbnb usage is crucial for hosts, investors, policymakers, and platform managers  \n",
    "to ensure sustainable and profitable participation.\n",
    "\n",
    "---\n",
    "\n",
    "## Problem Statement\n",
    "\n",
    "Despite the platform’s popularity, there is a lack of structured insight into how Airbnb listings in Bangkok perform across neighborhoods,  \n",
    "price ranges, room types, and host behaviors.  \n",
    "Without this understanding, stakeholders may struggle with inefficient pricing strategies, overlooked district opportunities,  \n",
    "and poorly optimized guest experiences.\n",
    "\n",
    "---\n",
    "\n",
    "## Key Objective\n",
    "\n",
    "This analysis aims to provide a data-driven overview of the Airbnb landscape in Bangkok by focusing on:\n",
    "- Distribution of listings and reviews across neighborhoods.\n",
    "- Price range preferences of guests.\n",
    "- Temporal patterns in reviews (seasonality and COVID-19 impact).\n",
    "- Popularity of different room types.\n",
    "- Identification of top-performing hosts based on listing volume."
   ]
  },
  {
   "cell_type": "code",
   "execution_count": 1,
   "id": "f4c2aeb5",
   "metadata": {},
   "outputs": [],
   "source": [
    "import pandas as pd\n",
    "import numpy as np\n",
    "import matplotlib.pyplot as plt\n",
    "import seaborn as sns\n",
    "import plotly.express as px\n",
    "import pandas as pd\n",
    "import plotly.graph_objs as go\n",
    "from plotly.subplots import make_subplots\n",
    "import calendar\n"
   ]
  },
  {
   "cell_type": "markdown",
   "id": "016e4747",
   "metadata": {},
   "source": [
    "## Load Data"
   ]
  },
  {
   "cell_type": "code",
   "execution_count": 2,
   "id": "5dfcb04b",
   "metadata": {},
   "outputs": [
    {
     "data": {
      "text/html": [
       "<div>\n",
       "<style scoped>\n",
       "    .dataframe tbody tr th:only-of-type {\n",
       "        vertical-align: middle;\n",
       "    }\n",
       "\n",
       "    .dataframe tbody tr th {\n",
       "        vertical-align: top;\n",
       "    }\n",
       "\n",
       "    .dataframe thead th {\n",
       "        text-align: right;\n",
       "    }\n",
       "</style>\n",
       "<table border=\"1\" class=\"dataframe\">\n",
       "  <thead>\n",
       "    <tr style=\"text-align: right;\">\n",
       "      <th></th>\n",
       "      <th>Unnamed: 0</th>\n",
       "      <th>id</th>\n",
       "      <th>name</th>\n",
       "      <th>host_id</th>\n",
       "      <th>host_name</th>\n",
       "      <th>neighbourhood</th>\n",
       "      <th>latitude</th>\n",
       "      <th>longitude</th>\n",
       "      <th>room_type</th>\n",
       "      <th>price</th>\n",
       "      <th>minimum_nights</th>\n",
       "      <th>number_of_reviews</th>\n",
       "      <th>last_review</th>\n",
       "      <th>reviews_per_month</th>\n",
       "      <th>calculated_host_listings_count</th>\n",
       "      <th>availability_365</th>\n",
       "      <th>number_of_reviews_ltm</th>\n",
       "    </tr>\n",
       "  </thead>\n",
       "  <tbody>\n",
       "    <tr>\n",
       "      <th>15849</th>\n",
       "      <td>15849</td>\n",
       "      <td>790465040741092826</td>\n",
       "      <td>素坤逸核心两房公寓42楼，靠近BTSon nut/无边天际泳池观赏曼谷夜景/出门当地美食街</td>\n",
       "      <td>94899359</td>\n",
       "      <td>Renee</td>\n",
       "      <td>Pra Wet</td>\n",
       "      <td>13.715132</td>\n",
       "      <td>100.653458</td>\n",
       "      <td>Private room</td>\n",
       "      <td>2298</td>\n",
       "      <td>28</td>\n",
       "      <td>0</td>\n",
       "      <td>NaN</td>\n",
       "      <td>NaN</td>\n",
       "      <td>1</td>\n",
       "      <td>362</td>\n",
       "      <td>0</td>\n",
       "    </tr>\n",
       "    <tr>\n",
       "      <th>15850</th>\n",
       "      <td>15850</td>\n",
       "      <td>790474503157243541</td>\n",
       "      <td>Euro LuxuryHotel PratunamMKt TripleBdNrShoping...</td>\n",
       "      <td>491526222</td>\n",
       "      <td>Phakhamon</td>\n",
       "      <td>Ratchathewi</td>\n",
       "      <td>13.753052</td>\n",
       "      <td>100.538738</td>\n",
       "      <td>Private room</td>\n",
       "      <td>1429</td>\n",
       "      <td>1</td>\n",
       "      <td>0</td>\n",
       "      <td>NaN</td>\n",
       "      <td>NaN</td>\n",
       "      <td>14</td>\n",
       "      <td>365</td>\n",
       "      <td>0</td>\n",
       "    </tr>\n",
       "    <tr>\n",
       "      <th>15851</th>\n",
       "      <td>15851</td>\n",
       "      <td>790475335086864240</td>\n",
       "      <td>Euro LuxuryHotel PratunamMKt TwinBedNrShopingArea</td>\n",
       "      <td>491526222</td>\n",
       "      <td>Phakhamon</td>\n",
       "      <td>Ratchathewi</td>\n",
       "      <td>13.753169</td>\n",
       "      <td>100.538700</td>\n",
       "      <td>Private room</td>\n",
       "      <td>1214</td>\n",
       "      <td>1</td>\n",
       "      <td>0</td>\n",
       "      <td>NaN</td>\n",
       "      <td>NaN</td>\n",
       "      <td>14</td>\n",
       "      <td>365</td>\n",
       "      <td>0</td>\n",
       "    </tr>\n",
       "    <tr>\n",
       "      <th>15852</th>\n",
       "      <td>15852</td>\n",
       "      <td>790475546213717328</td>\n",
       "      <td>Euro LuxuryHotel PratunamMKt TwinBedNrShopingArea</td>\n",
       "      <td>491526222</td>\n",
       "      <td>Phakhamon</td>\n",
       "      <td>Ratchathewi</td>\n",
       "      <td>13.754789</td>\n",
       "      <td>100.538757</td>\n",
       "      <td>Private room</td>\n",
       "      <td>1214</td>\n",
       "      <td>1</td>\n",
       "      <td>0</td>\n",
       "      <td>NaN</td>\n",
       "      <td>NaN</td>\n",
       "      <td>14</td>\n",
       "      <td>365</td>\n",
       "      <td>0</td>\n",
       "    </tr>\n",
       "    <tr>\n",
       "      <th>15853</th>\n",
       "      <td>15853</td>\n",
       "      <td>790476492384199044</td>\n",
       "      <td>Euro LuxuryHotel PratunamMKt TwinBedNrShopingArea</td>\n",
       "      <td>491526222</td>\n",
       "      <td>Phakhamon</td>\n",
       "      <td>Ratchathewi</td>\n",
       "      <td>13.752960</td>\n",
       "      <td>100.540820</td>\n",
       "      <td>Private room</td>\n",
       "      <td>1214</td>\n",
       "      <td>1</td>\n",
       "      <td>0</td>\n",
       "      <td>NaN</td>\n",
       "      <td>NaN</td>\n",
       "      <td>14</td>\n",
       "      <td>365</td>\n",
       "      <td>0</td>\n",
       "    </tr>\n",
       "  </tbody>\n",
       "</table>\n",
       "</div>"
      ],
      "text/plain": [
       "       Unnamed: 0                  id  \\\n",
       "15849       15849  790465040741092826   \n",
       "15850       15850  790474503157243541   \n",
       "15851       15851  790475335086864240   \n",
       "15852       15852  790475546213717328   \n",
       "15853       15853  790476492384199044   \n",
       "\n",
       "                                                    name    host_id  \\\n",
       "15849      素坤逸核心两房公寓42楼，靠近BTSon nut/无边天际泳池观赏曼谷夜景/出门当地美食街   94899359   \n",
       "15850  Euro LuxuryHotel PratunamMKt TripleBdNrShoping...  491526222   \n",
       "15851  Euro LuxuryHotel PratunamMKt TwinBedNrShopingArea  491526222   \n",
       "15852  Euro LuxuryHotel PratunamMKt TwinBedNrShopingArea  491526222   \n",
       "15853  Euro LuxuryHotel PratunamMKt TwinBedNrShopingArea  491526222   \n",
       "\n",
       "       host_name neighbourhood   latitude   longitude     room_type  price  \\\n",
       "15849      Renee       Pra Wet  13.715132  100.653458  Private room   2298   \n",
       "15850  Phakhamon   Ratchathewi  13.753052  100.538738  Private room   1429   \n",
       "15851  Phakhamon   Ratchathewi  13.753169  100.538700  Private room   1214   \n",
       "15852  Phakhamon   Ratchathewi  13.754789  100.538757  Private room   1214   \n",
       "15853  Phakhamon   Ratchathewi  13.752960  100.540820  Private room   1214   \n",
       "\n",
       "       minimum_nights  number_of_reviews last_review  reviews_per_month  \\\n",
       "15849              28                  0         NaN                NaN   \n",
       "15850               1                  0         NaN                NaN   \n",
       "15851               1                  0         NaN                NaN   \n",
       "15852               1                  0         NaN                NaN   \n",
       "15853               1                  0         NaN                NaN   \n",
       "\n",
       "       calculated_host_listings_count  availability_365  number_of_reviews_ltm  \n",
       "15849                               1               362                      0  \n",
       "15850                              14               365                      0  \n",
       "15851                              14               365                      0  \n",
       "15852                              14               365                      0  \n",
       "15853                              14               365                      0  "
      ]
     },
     "execution_count": 2,
     "metadata": {},
     "output_type": "execute_result"
    }
   ],
   "source": [
    "df=pd.read_csv('Airbnb Listings Bangkok.csv')\n",
    "bangkok = r'Bangkok-districts.geojson'\n",
    "bangkok_loc = [13.7563,100.5018]\n",
    "\n",
    "df.tail()"
   ]
  },
  {
   "cell_type": "code",
   "execution_count": 3,
   "id": "8373e7c0",
   "metadata": {},
   "outputs": [
    {
     "name": "stdout",
     "output_type": "stream",
     "text": [
      "Amount of rows and columns in this dataset is (15854, 17)\n",
      "<class 'pandas.core.frame.DataFrame'>\n",
      "RangeIndex: 15854 entries, 0 to 15853\n",
      "Data columns (total 17 columns):\n",
      " #   Column                          Non-Null Count  Dtype  \n",
      "---  ------                          --------------  -----  \n",
      " 0   Unnamed: 0                      15854 non-null  int64  \n",
      " 1   id                              15854 non-null  int64  \n",
      " 2   name                            15846 non-null  object \n",
      " 3   host_id                         15854 non-null  int64  \n",
      " 4   host_name                       15853 non-null  object \n",
      " 5   neighbourhood                   15854 non-null  object \n",
      " 6   latitude                        15854 non-null  float64\n",
      " 7   longitude                       15854 non-null  float64\n",
      " 8   room_type                       15854 non-null  object \n",
      " 9   price                           15854 non-null  int64  \n",
      " 10  minimum_nights                  15854 non-null  int64  \n",
      " 11  number_of_reviews               15854 non-null  int64  \n",
      " 12  last_review                     10064 non-null  object \n",
      " 13  reviews_per_month               10064 non-null  float64\n",
      " 14  calculated_host_listings_count  15854 non-null  int64  \n",
      " 15  availability_365                15854 non-null  int64  \n",
      " 16  number_of_reviews_ltm           15854 non-null  int64  \n",
      "dtypes: float64(3), int64(9), object(5)\n",
      "memory usage: 2.1+ MB\n"
     ]
    }
   ],
   "source": [
    "print(f'Amount of rows and columns in this dataset is {df.shape}')\n",
    "df.info()"
   ]
  },
  {
   "cell_type": "markdown",
   "id": "0e96063b",
   "metadata": {},
   "source": [
    "## Data Cleaning and Data Understanding"
   ]
  },
  {
   "cell_type": "markdown",
   "id": "29b3108d",
   "metadata": {},
   "source": [
    "### Missing Value"
   ]
  },
  {
   "cell_type": "code",
   "execution_count": 4,
   "id": "83081fef",
   "metadata": {},
   "outputs": [
    {
     "data": {
      "text/plain": [
       "Unnamed: 0                           0\n",
       "id                                   0\n",
       "name                                 8\n",
       "host_id                              0\n",
       "host_name                            1\n",
       "neighbourhood                        0\n",
       "latitude                             0\n",
       "longitude                            0\n",
       "room_type                            0\n",
       "price                                0\n",
       "minimum_nights                       0\n",
       "number_of_reviews                    0\n",
       "last_review                       5790\n",
       "reviews_per_month                 5790\n",
       "calculated_host_listings_count       0\n",
       "availability_365                     0\n",
       "number_of_reviews_ltm                0\n",
       "dtype: int64"
      ]
     },
     "execution_count": 4,
     "metadata": {},
     "output_type": "execute_result"
    }
   ],
   "source": [
    "df.isna().sum()"
   ]
  },
  {
   "cell_type": "code",
   "execution_count": 5,
   "id": "0aa48f2a",
   "metadata": {},
   "outputs": [
    {
     "data": {
      "text/plain": [
       "<Axes: >"
      ]
     },
     "execution_count": 5,
     "metadata": {},
     "output_type": "execute_result"
    },
    {
     "data": {
      "image/png": "[encoded data removed]",
      "text/plain": [
       "<Figure size 1000x1000 with 2 Axes>"
      ]
     },
     "metadata": {},
     "output_type": "display_data"
    }
   ],
   "source": [
    "plt.figure(figsize=(10,10))\n",
    "sns.heatmap(df[['name','host_name','last_review','reviews_per_month']].isna())"
   ]
  },
  {
   "cell_type": "code",
   "execution_count": 6,
   "id": "ca90f443",
   "metadata": {},
   "outputs": [
    {
     "data": {
      "text/html": [
       "<div>\n",
       "<style scoped>\n",
       "    .dataframe tbody tr th:only-of-type {\n",
       "        vertical-align: middle;\n",
       "    }\n",
       "\n",
       "    .dataframe tbody tr th {\n",
       "        vertical-align: top;\n",
       "    }\n",
       "\n",
       "    .dataframe thead th {\n",
       "        text-align: right;\n",
       "    }\n",
       "</style>\n",
       "<table border=\"1\" class=\"dataframe\">\n",
       "  <thead>\n",
       "    <tr style=\"text-align: right;\">\n",
       "      <th></th>\n",
       "      <th>Unnamed: 0</th>\n",
       "      <th>id</th>\n",
       "      <th>name</th>\n",
       "      <th>host_id</th>\n",
       "      <th>host_name</th>\n",
       "      <th>neighbourhood</th>\n",
       "      <th>latitude</th>\n",
       "      <th>longitude</th>\n",
       "      <th>room_type</th>\n",
       "      <th>price</th>\n",
       "      <th>minimum_nights</th>\n",
       "      <th>number_of_reviews</th>\n",
       "      <th>last_review</th>\n",
       "      <th>reviews_per_month</th>\n",
       "      <th>calculated_host_listings_count</th>\n",
       "      <th>availability_365</th>\n",
       "      <th>number_of_reviews_ltm</th>\n",
       "    </tr>\n",
       "  </thead>\n",
       "  <tbody>\n",
       "    <tr>\n",
       "      <th>439</th>\n",
       "      <td>439</td>\n",
       "      <td>4549768</td>\n",
       "      <td>NaN</td>\n",
       "      <td>18852579</td>\n",
       "      <td>Titawan</td>\n",
       "      <td>Phra Khanong</td>\n",
       "      <td>13.69406</td>\n",
       "      <td>100.59619</td>\n",
       "      <td>Private room</td>\n",
       "      <td>1080</td>\n",
       "      <td>5</td>\n",
       "      <td>0</td>\n",
       "      <td>NaN</td>\n",
       "      <td>NaN</td>\n",
       "      <td>1</td>\n",
       "      <td>365</td>\n",
       "      <td>0</td>\n",
       "    </tr>\n",
       "    <tr>\n",
       "      <th>544</th>\n",
       "      <td>544</td>\n",
       "      <td>4720818</td>\n",
       "      <td>NaN</td>\n",
       "      <td>24386225</td>\n",
       "      <td>Cherry</td>\n",
       "      <td>Din Daeng</td>\n",
       "      <td>13.77562</td>\n",
       "      <td>100.57346</td>\n",
       "      <td>Private room</td>\n",
       "      <td>1200</td>\n",
       "      <td>1</td>\n",
       "      <td>0</td>\n",
       "      <td>NaN</td>\n",
       "      <td>NaN</td>\n",
       "      <td>1</td>\n",
       "      <td>365</td>\n",
       "      <td>0</td>\n",
       "    </tr>\n",
       "    <tr>\n",
       "      <th>572</th>\n",
       "      <td>572</td>\n",
       "      <td>4245018</td>\n",
       "      <td>NaN</td>\n",
       "      <td>22030043</td>\n",
       "      <td>Parichart</td>\n",
       "      <td>Bang Phlat</td>\n",
       "      <td>13.78376</td>\n",
       "      <td>100.49821</td>\n",
       "      <td>Private room</td>\n",
       "      <td>1200</td>\n",
       "      <td>1</td>\n",
       "      <td>0</td>\n",
       "      <td>NaN</td>\n",
       "      <td>NaN</td>\n",
       "      <td>1</td>\n",
       "      <td>365</td>\n",
       "      <td>0</td>\n",
       "    </tr>\n",
       "    <tr>\n",
       "      <th>669</th>\n",
       "      <td>669</td>\n",
       "      <td>6148415</td>\n",
       "      <td>NaN</td>\n",
       "      <td>31895202</td>\n",
       "      <td>Chira</td>\n",
       "      <td>Bang Na</td>\n",
       "      <td>13.68276</td>\n",
       "      <td>100.60894</td>\n",
       "      <td>Entire home/apt</td>\n",
       "      <td>2424</td>\n",
       "      <td>2</td>\n",
       "      <td>0</td>\n",
       "      <td>NaN</td>\n",
       "      <td>NaN</td>\n",
       "      <td>1</td>\n",
       "      <td>365</td>\n",
       "      <td>0</td>\n",
       "    </tr>\n",
       "    <tr>\n",
       "      <th>1030</th>\n",
       "      <td>1030</td>\n",
       "      <td>8055144</td>\n",
       "      <td>NaN</td>\n",
       "      <td>42521288</td>\n",
       "      <td>Nantida</td>\n",
       "      <td>Vadhana</td>\n",
       "      <td>13.74126</td>\n",
       "      <td>100.55761</td>\n",
       "      <td>Private room</td>\n",
       "      <td>5000</td>\n",
       "      <td>3</td>\n",
       "      <td>0</td>\n",
       "      <td>NaN</td>\n",
       "      <td>NaN</td>\n",
       "      <td>1</td>\n",
       "      <td>365</td>\n",
       "      <td>0</td>\n",
       "    </tr>\n",
       "    <tr>\n",
       "      <th>1282</th>\n",
       "      <td>1282</td>\n",
       "      <td>10000742</td>\n",
       "      <td>NaN</td>\n",
       "      <td>51374914</td>\n",
       "      <td>Diamond Bangkok</td>\n",
       "      <td>Ratchathewi</td>\n",
       "      <td>13.75328</td>\n",
       "      <td>100.52928</td>\n",
       "      <td>Private room</td>\n",
       "      <td>930</td>\n",
       "      <td>1</td>\n",
       "      <td>6</td>\n",
       "      <td>2017-05-13</td>\n",
       "      <td>0.07</td>\n",
       "      <td>1</td>\n",
       "      <td>365</td>\n",
       "      <td>0</td>\n",
       "    </tr>\n",
       "    <tr>\n",
       "      <th>1594</th>\n",
       "      <td>1594</td>\n",
       "      <td>10710165</td>\n",
       "      <td>NaN</td>\n",
       "      <td>55347997</td>\n",
       "      <td>Khaneungnit</td>\n",
       "      <td>Vadhana</td>\n",
       "      <td>13.71757</td>\n",
       "      <td>100.60464</td>\n",
       "      <td>Private room</td>\n",
       "      <td>1000</td>\n",
       "      <td>1</td>\n",
       "      <td>0</td>\n",
       "      <td>NaN</td>\n",
       "      <td>NaN</td>\n",
       "      <td>1</td>\n",
       "      <td>365</td>\n",
       "      <td>0</td>\n",
       "    </tr>\n",
       "    <tr>\n",
       "      <th>2075</th>\n",
       "      <td>2075</td>\n",
       "      <td>13142743</td>\n",
       "      <td>NaN</td>\n",
       "      <td>73275200</td>\n",
       "      <td>Pakaphol</td>\n",
       "      <td>Khlong Toei</td>\n",
       "      <td>13.72566</td>\n",
       "      <td>100.56416</td>\n",
       "      <td>Private room</td>\n",
       "      <td>850</td>\n",
       "      <td>1</td>\n",
       "      <td>2</td>\n",
       "      <td>2017-12-11</td>\n",
       "      <td>0.03</td>\n",
       "      <td>3</td>\n",
       "      <td>220</td>\n",
       "      <td>0</td>\n",
       "    </tr>\n",
       "  </tbody>\n",
       "</table>\n",
       "</div>"
      ],
      "text/plain": [
       "      Unnamed: 0        id name   host_id        host_name neighbourhood  \\\n",
       "439          439   4549768  NaN  18852579          Titawan  Phra Khanong   \n",
       "544          544   4720818  NaN  24386225           Cherry     Din Daeng   \n",
       "572          572   4245018  NaN  22030043        Parichart    Bang Phlat   \n",
       "669          669   6148415  NaN  31895202            Chira       Bang Na   \n",
       "1030        1030   8055144  NaN  42521288          Nantida       Vadhana   \n",
       "1282        1282  10000742  NaN  51374914  Diamond Bangkok   Ratchathewi   \n",
       "1594        1594  10710165  NaN  55347997      Khaneungnit       Vadhana   \n",
       "2075        2075  13142743  NaN  73275200         Pakaphol   Khlong Toei   \n",
       "\n",
       "      latitude  longitude        room_type  price  minimum_nights  \\\n",
       "439   13.69406  100.59619     Private room   1080               5   \n",
       "544   13.77562  100.57346     Private room   1200               1   \n",
       "572   13.78376  100.49821     Private room   1200               1   \n",
       "669   13.68276  100.60894  Entire home/apt   2424               2   \n",
       "1030  13.74126  100.55761     Private room   5000               3   \n",
       "1282  13.75328  100.52928     Private room    930               1   \n",
       "1594  13.71757  100.60464     Private room   1000               1   \n",
       "2075  13.72566  100.56416     Private room    850               1   \n",
       "\n",
       "      number_of_reviews last_review  reviews_per_month  \\\n",
       "439                   0         NaN                NaN   \n",
       "544                   0         NaN                NaN   \n",
       "572                   0         NaN                NaN   \n",
       "669                   0         NaN                NaN   \n",
       "1030                  0         NaN                NaN   \n",
       "1282                  6  2017-05-13               0.07   \n",
       "1594                  0         NaN                NaN   \n",
       "2075                  2  2017-12-11               0.03   \n",
       "\n",
       "      calculated_host_listings_count  availability_365  number_of_reviews_ltm  \n",
       "439                                1               365                      0  \n",
       "544                                1               365                      0  \n",
       "572                                1               365                      0  \n",
       "669                                1               365                      0  \n",
       "1030                               1               365                      0  \n",
       "1282                               1               365                      0  \n",
       "1594                               1               365                      0  \n",
       "2075                               3               220                      0  "
      ]
     },
     "execution_count": 6,
     "metadata": {},
     "output_type": "execute_result"
    }
   ],
   "source": [
    "df[df['name'].isna()]"
   ]
  },
  {
   "cell_type": "code",
   "execution_count": 7,
   "id": "b64ec58c",
   "metadata": {},
   "outputs": [
    {
     "data": {
      "text/html": [
       "<div>\n",
       "<style scoped>\n",
       "    .dataframe tbody tr th:only-of-type {\n",
       "        vertical-align: middle;\n",
       "    }\n",
       "\n",
       "    .dataframe tbody tr th {\n",
       "        vertical-align: top;\n",
       "    }\n",
       "\n",
       "    .dataframe thead th {\n",
       "        text-align: right;\n",
       "    }\n",
       "</style>\n",
       "<table border=\"1\" class=\"dataframe\">\n",
       "  <thead>\n",
       "    <tr style=\"text-align: right;\">\n",
       "      <th></th>\n",
       "      <th>Unnamed: 0</th>\n",
       "      <th>id</th>\n",
       "      <th>name</th>\n",
       "      <th>host_id</th>\n",
       "      <th>host_name</th>\n",
       "      <th>neighbourhood</th>\n",
       "      <th>latitude</th>\n",
       "      <th>longitude</th>\n",
       "      <th>room_type</th>\n",
       "      <th>price</th>\n",
       "      <th>minimum_nights</th>\n",
       "      <th>number_of_reviews</th>\n",
       "      <th>last_review</th>\n",
       "      <th>reviews_per_month</th>\n",
       "      <th>calculated_host_listings_count</th>\n",
       "      <th>availability_365</th>\n",
       "      <th>number_of_reviews_ltm</th>\n",
       "    </tr>\n",
       "  </thead>\n",
       "  <tbody>\n",
       "    <tr>\n",
       "      <th>439</th>\n",
       "      <td>439</td>\n",
       "      <td>4549768</td>\n",
       "      <td>Unknown</td>\n",
       "      <td>18852579</td>\n",
       "      <td>Titawan</td>\n",
       "      <td>Phra Khanong</td>\n",
       "      <td>13.69406</td>\n",
       "      <td>100.59619</td>\n",
       "      <td>Private room</td>\n",
       "      <td>1080</td>\n",
       "      <td>5</td>\n",
       "      <td>0</td>\n",
       "      <td>NaN</td>\n",
       "      <td>NaN</td>\n",
       "      <td>1</td>\n",
       "      <td>365</td>\n",
       "      <td>0</td>\n",
       "    </tr>\n",
       "    <tr>\n",
       "      <th>544</th>\n",
       "      <td>544</td>\n",
       "      <td>4720818</td>\n",
       "      <td>Unknown</td>\n",
       "      <td>24386225</td>\n",
       "      <td>Cherry</td>\n",
       "      <td>Din Daeng</td>\n",
       "      <td>13.77562</td>\n",
       "      <td>100.57346</td>\n",
       "      <td>Private room</td>\n",
       "      <td>1200</td>\n",
       "      <td>1</td>\n",
       "      <td>0</td>\n",
       "      <td>NaN</td>\n",
       "      <td>NaN</td>\n",
       "      <td>1</td>\n",
       "      <td>365</td>\n",
       "      <td>0</td>\n",
       "    </tr>\n",
       "    <tr>\n",
       "      <th>572</th>\n",
       "      <td>572</td>\n",
       "      <td>4245018</td>\n",
       "      <td>Unknown</td>\n",
       "      <td>22030043</td>\n",
       "      <td>Parichart</td>\n",
       "      <td>Bang Phlat</td>\n",
       "      <td>13.78376</td>\n",
       "      <td>100.49821</td>\n",
       "      <td>Private room</td>\n",
       "      <td>1200</td>\n",
       "      <td>1</td>\n",
       "      <td>0</td>\n",
       "      <td>NaN</td>\n",
       "      <td>NaN</td>\n",
       "      <td>1</td>\n",
       "      <td>365</td>\n",
       "      <td>0</td>\n",
       "    </tr>\n",
       "    <tr>\n",
       "      <th>669</th>\n",
       "      <td>669</td>\n",
       "      <td>6148415</td>\n",
       "      <td>Unknown</td>\n",
       "      <td>31895202</td>\n",
       "      <td>Chira</td>\n",
       "      <td>Bang Na</td>\n",
       "      <td>13.68276</td>\n",
       "      <td>100.60894</td>\n",
       "      <td>Entire home/apt</td>\n",
       "      <td>2424</td>\n",
       "      <td>2</td>\n",
       "      <td>0</td>\n",
       "      <td>NaN</td>\n",
       "      <td>NaN</td>\n",
       "      <td>1</td>\n",
       "      <td>365</td>\n",
       "      <td>0</td>\n",
       "    </tr>\n",
       "    <tr>\n",
       "      <th>1030</th>\n",
       "      <td>1030</td>\n",
       "      <td>8055144</td>\n",
       "      <td>Unknown</td>\n",
       "      <td>42521288</td>\n",
       "      <td>Nantida</td>\n",
       "      <td>Vadhana</td>\n",
       "      <td>13.74126</td>\n",
       "      <td>100.55761</td>\n",
       "      <td>Private room</td>\n",
       "      <td>5000</td>\n",
       "      <td>3</td>\n",
       "      <td>0</td>\n",
       "      <td>NaN</td>\n",
       "      <td>NaN</td>\n",
       "      <td>1</td>\n",
       "      <td>365</td>\n",
       "      <td>0</td>\n",
       "    </tr>\n",
       "    <tr>\n",
       "      <th>1282</th>\n",
       "      <td>1282</td>\n",
       "      <td>10000742</td>\n",
       "      <td>Unknown</td>\n",
       "      <td>51374914</td>\n",
       "      <td>Diamond Bangkok</td>\n",
       "      <td>Ratchathewi</td>\n",
       "      <td>13.75328</td>\n",
       "      <td>100.52928</td>\n",
       "      <td>Private room</td>\n",
       "      <td>930</td>\n",
       "      <td>1</td>\n",
       "      <td>6</td>\n",
       "      <td>2017-05-13</td>\n",
       "      <td>0.07</td>\n",
       "      <td>1</td>\n",
       "      <td>365</td>\n",
       "      <td>0</td>\n",
       "    </tr>\n",
       "    <tr>\n",
       "      <th>1594</th>\n",
       "      <td>1594</td>\n",
       "      <td>10710165</td>\n",
       "      <td>Unknown</td>\n",
       "      <td>55347997</td>\n",
       "      <td>Khaneungnit</td>\n",
       "      <td>Vadhana</td>\n",
       "      <td>13.71757</td>\n",
       "      <td>100.60464</td>\n",
       "      <td>Private room</td>\n",
       "      <td>1000</td>\n",
       "      <td>1</td>\n",
       "      <td>0</td>\n",
       "      <td>NaN</td>\n",
       "      <td>NaN</td>\n",
       "      <td>1</td>\n",
       "      <td>365</td>\n",
       "      <td>0</td>\n",
       "    </tr>\n",
       "    <tr>\n",
       "      <th>2075</th>\n",
       "      <td>2075</td>\n",
       "      <td>13142743</td>\n",
       "      <td>Unknown</td>\n",
       "      <td>73275200</td>\n",
       "      <td>Pakaphol</td>\n",
       "      <td>Khlong Toei</td>\n",
       "      <td>13.72566</td>\n",
       "      <td>100.56416</td>\n",
       "      <td>Private room</td>\n",
       "      <td>850</td>\n",
       "      <td>1</td>\n",
       "      <td>2</td>\n",
       "      <td>2017-12-11</td>\n",
       "      <td>0.03</td>\n",
       "      <td>3</td>\n",
       "      <td>220</td>\n",
       "      <td>0</td>\n",
       "    </tr>\n",
       "  </tbody>\n",
       "</table>\n",
       "</div>"
      ],
      "text/plain": [
       "      Unnamed: 0        id     name   host_id        host_name neighbourhood  \\\n",
       "439          439   4549768  Unknown  18852579          Titawan  Phra Khanong   \n",
       "544          544   4720818  Unknown  24386225           Cherry     Din Daeng   \n",
       "572          572   4245018  Unknown  22030043        Parichart    Bang Phlat   \n",
       "669          669   6148415  Unknown  31895202            Chira       Bang Na   \n",
       "1030        1030   8055144  Unknown  42521288          Nantida       Vadhana   \n",
       "1282        1282  10000742  Unknown  51374914  Diamond Bangkok   Ratchathewi   \n",
       "1594        1594  10710165  Unknown  55347997      Khaneungnit       Vadhana   \n",
       "2075        2075  13142743  Unknown  73275200         Pakaphol   Khlong Toei   \n",
       "\n",
       "      latitude  longitude        room_type  price  minimum_nights  \\\n",
       "439   13.69406  100.59619     Private room   1080               5   \n",
       "544   13.77562  100.57346     Private room   1200               1   \n",
       "572   13.78376  100.49821     Private room   1200               1   \n",
       "669   13.68276  100.60894  Entire home/apt   2424               2   \n",
       "1030  13.74126  100.55761     Private room   5000               3   \n",
       "1282  13.75328  100.52928     Private room    930               1   \n",
       "1594  13.71757  100.60464     Private room   1000               1   \n",
       "2075  13.72566  100.56416     Private room    850               1   \n",
       "\n",
       "      number_of_reviews last_review  reviews_per_month  \\\n",
       "439                   0         NaN                NaN   \n",
       "544                   0         NaN                NaN   \n",
       "572                   0         NaN                NaN   \n",
       "669                   0         NaN                NaN   \n",
       "1030                  0         NaN                NaN   \n",
       "1282                  6  2017-05-13               0.07   \n",
       "1594                  0         NaN                NaN   \n",
       "2075                  2  2017-12-11               0.03   \n",
       "\n",
       "      calculated_host_listings_count  availability_365  number_of_reviews_ltm  \n",
       "439                                1               365                      0  \n",
       "544                                1               365                      0  \n",
       "572                                1               365                      0  \n",
       "669                                1               365                      0  \n",
       "1030                               1               365                      0  \n",
       "1282                               1               365                      0  \n",
       "1594                               1               365                      0  \n",
       "2075                               3               220                      0  "
      ]
     },
     "execution_count": 7,
     "metadata": {},
     "output_type": "execute_result"
    }
   ],
   "source": [
    "df['name'].fillna('Unknown', inplace= True)\n",
    "df[df['name'] == 'Unknown']"
   ]
  },
  {
   "cell_type": "code",
   "execution_count": 8,
   "id": "d15310c7",
   "metadata": {},
   "outputs": [
    {
     "data": {
      "text/html": [
       "<div>\n",
       "<style scoped>\n",
       "    .dataframe tbody tr th:only-of-type {\n",
       "        vertical-align: middle;\n",
       "    }\n",
       "\n",
       "    .dataframe tbody tr th {\n",
       "        vertical-align: top;\n",
       "    }\n",
       "\n",
       "    .dataframe thead th {\n",
       "        text-align: right;\n",
       "    }\n",
       "</style>\n",
       "<table border=\"1\" class=\"dataframe\">\n",
       "  <thead>\n",
       "    <tr style=\"text-align: right;\">\n",
       "      <th></th>\n",
       "      <th>Unnamed: 0</th>\n",
       "      <th>id</th>\n",
       "      <th>name</th>\n",
       "      <th>host_id</th>\n",
       "      <th>host_name</th>\n",
       "      <th>neighbourhood</th>\n",
       "      <th>latitude</th>\n",
       "      <th>longitude</th>\n",
       "      <th>room_type</th>\n",
       "      <th>price</th>\n",
       "      <th>minimum_nights</th>\n",
       "      <th>number_of_reviews</th>\n",
       "      <th>last_review</th>\n",
       "      <th>reviews_per_month</th>\n",
       "      <th>calculated_host_listings_count</th>\n",
       "      <th>availability_365</th>\n",
       "      <th>number_of_reviews_ltm</th>\n",
       "    </tr>\n",
       "  </thead>\n",
       "  <tbody>\n",
       "    <tr>\n",
       "      <th>3571</th>\n",
       "      <td>3571</td>\n",
       "      <td>19682464</td>\n",
       "      <td>Cozy Hideaway</td>\n",
       "      <td>137488762</td>\n",
       "      <td>NaN</td>\n",
       "      <td>Bang Kapi</td>\n",
       "      <td>13.76999</td>\n",
       "      <td>100.63769</td>\n",
       "      <td>Private room</td>\n",
       "      <td>1399</td>\n",
       "      <td>3</td>\n",
       "      <td>1</td>\n",
       "      <td>2017-07-29</td>\n",
       "      <td>0.02</td>\n",
       "      <td>1</td>\n",
       "      <td>365</td>\n",
       "      <td>0</td>\n",
       "    </tr>\n",
       "  </tbody>\n",
       "</table>\n",
       "</div>"
      ],
      "text/plain": [
       "      Unnamed: 0        id           name    host_id host_name neighbourhood  \\\n",
       "3571        3571  19682464  Cozy Hideaway  137488762       NaN     Bang Kapi   \n",
       "\n",
       "      latitude  longitude     room_type  price  minimum_nights  \\\n",
       "3571  13.76999  100.63769  Private room   1399               3   \n",
       "\n",
       "      number_of_reviews last_review  reviews_per_month  \\\n",
       "3571                  1  2017-07-29               0.02   \n",
       "\n",
       "      calculated_host_listings_count  availability_365  number_of_reviews_ltm  \n",
       "3571                               1               365                      0  "
      ]
     },
     "execution_count": 8,
     "metadata": {},
     "output_type": "execute_result"
    }
   ],
   "source": [
    "df[df['host_name'].isna()]"
   ]
  },
  {
   "cell_type": "code",
   "execution_count": 9,
   "id": "859433b1",
   "metadata": {},
   "outputs": [
    {
     "data": {
      "text/html": [
       "<div>\n",
       "<style scoped>\n",
       "    .dataframe tbody tr th:only-of-type {\n",
       "        vertical-align: middle;\n",
       "    }\n",
       "\n",
       "    .dataframe tbody tr th {\n",
       "        vertical-align: top;\n",
       "    }\n",
       "\n",
       "    .dataframe thead th {\n",
       "        text-align: right;\n",
       "    }\n",
       "</style>\n",
       "<table border=\"1\" class=\"dataframe\">\n",
       "  <thead>\n",
       "    <tr style=\"text-align: right;\">\n",
       "      <th></th>\n",
       "      <th>Unnamed: 0</th>\n",
       "      <th>id</th>\n",
       "      <th>name</th>\n",
       "      <th>host_id</th>\n",
       "      <th>host_name</th>\n",
       "      <th>neighbourhood</th>\n",
       "      <th>latitude</th>\n",
       "      <th>longitude</th>\n",
       "      <th>room_type</th>\n",
       "      <th>price</th>\n",
       "      <th>minimum_nights</th>\n",
       "      <th>number_of_reviews</th>\n",
       "      <th>last_review</th>\n",
       "      <th>reviews_per_month</th>\n",
       "      <th>calculated_host_listings_count</th>\n",
       "      <th>availability_365</th>\n",
       "      <th>number_of_reviews_ltm</th>\n",
       "    </tr>\n",
       "  </thead>\n",
       "  <tbody>\n",
       "    <tr>\n",
       "      <th>3571</th>\n",
       "      <td>3571</td>\n",
       "      <td>19682464</td>\n",
       "      <td>Cozy Hideaway</td>\n",
       "      <td>137488762</td>\n",
       "      <td>Unknown</td>\n",
       "      <td>Bang Kapi</td>\n",
       "      <td>13.76999</td>\n",
       "      <td>100.63769</td>\n",
       "      <td>Private room</td>\n",
       "      <td>1399</td>\n",
       "      <td>3</td>\n",
       "      <td>1</td>\n",
       "      <td>2017-07-29</td>\n",
       "      <td>0.02</td>\n",
       "      <td>1</td>\n",
       "      <td>365</td>\n",
       "      <td>0</td>\n",
       "    </tr>\n",
       "  </tbody>\n",
       "</table>\n",
       "</div>"
      ],
      "text/plain": [
       "      Unnamed: 0        id           name    host_id host_name neighbourhood  \\\n",
       "3571        3571  19682464  Cozy Hideaway  137488762   Unknown     Bang Kapi   \n",
       "\n",
       "      latitude  longitude     room_type  price  minimum_nights  \\\n",
       "3571  13.76999  100.63769  Private room   1399               3   \n",
       "\n",
       "      number_of_reviews last_review  reviews_per_month  \\\n",
       "3571                  1  2017-07-29               0.02   \n",
       "\n",
       "      calculated_host_listings_count  availability_365  number_of_reviews_ltm  \n",
       "3571                               1               365                      0  "
      ]
     },
     "execution_count": 9,
     "metadata": {},
     "output_type": "execute_result"
    }
   ],
   "source": [
    "df['host_name'].fillna('Unknown', inplace=True)\n",
    "df[df['host_name'] == 'Unknown']"
   ]
  },
  {
   "cell_type": "code",
   "execution_count": 10,
   "id": "c26d4f40",
   "metadata": {},
   "outputs": [
    {
     "data": {
      "text/html": [
       "<div>\n",
       "<style scoped>\n",
       "    .dataframe tbody tr th:only-of-type {\n",
       "        vertical-align: middle;\n",
       "    }\n",
       "\n",
       "    .dataframe tbody tr th {\n",
       "        vertical-align: top;\n",
       "    }\n",
       "\n",
       "    .dataframe thead th {\n",
       "        text-align: right;\n",
       "    }\n",
       "</style>\n",
       "<table border=\"1\" class=\"dataframe\">\n",
       "  <thead>\n",
       "    <tr style=\"text-align: right;\">\n",
       "      <th></th>\n",
       "      <th>Unnamed: 0</th>\n",
       "      <th>id</th>\n",
       "      <th>name</th>\n",
       "      <th>host_id</th>\n",
       "      <th>host_name</th>\n",
       "      <th>neighbourhood</th>\n",
       "      <th>latitude</th>\n",
       "      <th>longitude</th>\n",
       "      <th>room_type</th>\n",
       "      <th>price</th>\n",
       "      <th>minimum_nights</th>\n",
       "      <th>number_of_reviews</th>\n",
       "      <th>last_review</th>\n",
       "      <th>reviews_per_month</th>\n",
       "      <th>calculated_host_listings_count</th>\n",
       "      <th>availability_365</th>\n",
       "      <th>number_of_reviews_ltm</th>\n",
       "    </tr>\n",
       "  </thead>\n",
       "  <tbody>\n",
       "    <tr>\n",
       "      <th>15849</th>\n",
       "      <td>15849</td>\n",
       "      <td>790465040741092826</td>\n",
       "      <td>素坤逸核心两房公寓42楼，靠近BTSon nut/无边天际泳池观赏曼谷夜景/出门当地美食街</td>\n",
       "      <td>94899359</td>\n",
       "      <td>Renee</td>\n",
       "      <td>Pra Wet</td>\n",
       "      <td>13.715132</td>\n",
       "      <td>100.653458</td>\n",
       "      <td>Private room</td>\n",
       "      <td>2298</td>\n",
       "      <td>28</td>\n",
       "      <td>0</td>\n",
       "      <td>NaN</td>\n",
       "      <td>NaN</td>\n",
       "      <td>1</td>\n",
       "      <td>362</td>\n",
       "      <td>0</td>\n",
       "    </tr>\n",
       "    <tr>\n",
       "      <th>15850</th>\n",
       "      <td>15850</td>\n",
       "      <td>790474503157243541</td>\n",
       "      <td>Euro LuxuryHotel PratunamMKt TripleBdNrShoping...</td>\n",
       "      <td>491526222</td>\n",
       "      <td>Phakhamon</td>\n",
       "      <td>Ratchathewi</td>\n",
       "      <td>13.753052</td>\n",
       "      <td>100.538738</td>\n",
       "      <td>Private room</td>\n",
       "      <td>1429</td>\n",
       "      <td>1</td>\n",
       "      <td>0</td>\n",
       "      <td>NaN</td>\n",
       "      <td>NaN</td>\n",
       "      <td>14</td>\n",
       "      <td>365</td>\n",
       "      <td>0</td>\n",
       "    </tr>\n",
       "    <tr>\n",
       "      <th>15851</th>\n",
       "      <td>15851</td>\n",
       "      <td>790475335086864240</td>\n",
       "      <td>Euro LuxuryHotel PratunamMKt TwinBedNrShopingArea</td>\n",
       "      <td>491526222</td>\n",
       "      <td>Phakhamon</td>\n",
       "      <td>Ratchathewi</td>\n",
       "      <td>13.753169</td>\n",
       "      <td>100.538700</td>\n",
       "      <td>Private room</td>\n",
       "      <td>1214</td>\n",
       "      <td>1</td>\n",
       "      <td>0</td>\n",
       "      <td>NaN</td>\n",
       "      <td>NaN</td>\n",
       "      <td>14</td>\n",
       "      <td>365</td>\n",
       "      <td>0</td>\n",
       "    </tr>\n",
       "    <tr>\n",
       "      <th>15852</th>\n",
       "      <td>15852</td>\n",
       "      <td>790475546213717328</td>\n",
       "      <td>Euro LuxuryHotel PratunamMKt TwinBedNrShopingArea</td>\n",
       "      <td>491526222</td>\n",
       "      <td>Phakhamon</td>\n",
       "      <td>Ratchathewi</td>\n",
       "      <td>13.754789</td>\n",
       "      <td>100.538757</td>\n",
       "      <td>Private room</td>\n",
       "      <td>1214</td>\n",
       "      <td>1</td>\n",
       "      <td>0</td>\n",
       "      <td>NaN</td>\n",
       "      <td>NaN</td>\n",
       "      <td>14</td>\n",
       "      <td>365</td>\n",
       "      <td>0</td>\n",
       "    </tr>\n",
       "    <tr>\n",
       "      <th>15853</th>\n",
       "      <td>15853</td>\n",
       "      <td>790476492384199044</td>\n",
       "      <td>Euro LuxuryHotel PratunamMKt TwinBedNrShopingArea</td>\n",
       "      <td>491526222</td>\n",
       "      <td>Phakhamon</td>\n",
       "      <td>Ratchathewi</td>\n",
       "      <td>13.752960</td>\n",
       "      <td>100.540820</td>\n",
       "      <td>Private room</td>\n",
       "      <td>1214</td>\n",
       "      <td>1</td>\n",
       "      <td>0</td>\n",
       "      <td>NaN</td>\n",
       "      <td>NaN</td>\n",
       "      <td>14</td>\n",
       "      <td>365</td>\n",
       "      <td>0</td>\n",
       "    </tr>\n",
       "  </tbody>\n",
       "</table>\n",
       "</div>"
      ],
      "text/plain": [
       "       Unnamed: 0                  id  \\\n",
       "15849       15849  790465040741092826   \n",
       "15850       15850  790474503157243541   \n",
       "15851       15851  790475335086864240   \n",
       "15852       15852  790475546213717328   \n",
       "15853       15853  790476492384199044   \n",
       "\n",
       "                                                    name    host_id  \\\n",
       "15849      素坤逸核心两房公寓42楼，靠近BTSon nut/无边天际泳池观赏曼谷夜景/出门当地美食街   94899359   \n",
       "15850  Euro LuxuryHotel PratunamMKt TripleBdNrShoping...  491526222   \n",
       "15851  Euro LuxuryHotel PratunamMKt TwinBedNrShopingArea  491526222   \n",
       "15852  Euro LuxuryHotel PratunamMKt TwinBedNrShopingArea  491526222   \n",
       "15853  Euro LuxuryHotel PratunamMKt TwinBedNrShopingArea  491526222   \n",
       "\n",
       "       host_name neighbourhood   latitude   longitude     room_type  price  \\\n",
       "15849      Renee       Pra Wet  13.715132  100.653458  Private room   2298   \n",
       "15850  Phakhamon   Ratchathewi  13.753052  100.538738  Private room   1429   \n",
       "15851  Phakhamon   Ratchathewi  13.753169  100.538700  Private room   1214   \n",
       "15852  Phakhamon   Ratchathewi  13.754789  100.538757  Private room   1214   \n",
       "15853  Phakhamon   Ratchathewi  13.752960  100.540820  Private room   1214   \n",
       "\n",
       "       minimum_nights  number_of_reviews last_review  reviews_per_month  \\\n",
       "15849              28                  0         NaN                NaN   \n",
       "15850               1                  0         NaN                NaN   \n",
       "15851               1                  0         NaN                NaN   \n",
       "15852               1                  0         NaN                NaN   \n",
       "15853               1                  0         NaN                NaN   \n",
       "\n",
       "       calculated_host_listings_count  availability_365  number_of_reviews_ltm  \n",
       "15849                               1               362                      0  \n",
       "15850                              14               365                      0  \n",
       "15851                              14               365                      0  \n",
       "15852                              14               365                      0  \n",
       "15853                              14               365                      0  "
      ]
     },
     "execution_count": 10,
     "metadata": {},
     "output_type": "execute_result"
    }
   ],
   "source": [
    "df[df['last_review'].isna()].tail()"
   ]
  },
  {
   "cell_type": "code",
   "execution_count": 11,
   "id": "59adb189",
   "metadata": {},
   "outputs": [
    {
     "data": {
      "text/html": [
       "<div>\n",
       "<style scoped>\n",
       "    .dataframe tbody tr th:only-of-type {\n",
       "        vertical-align: middle;\n",
       "    }\n",
       "\n",
       "    .dataframe tbody tr th {\n",
       "        vertical-align: top;\n",
       "    }\n",
       "\n",
       "    .dataframe thead th {\n",
       "        text-align: right;\n",
       "    }\n",
       "</style>\n",
       "<table border=\"1\" class=\"dataframe\">\n",
       "  <thead>\n",
       "    <tr style=\"text-align: right;\">\n",
       "      <th></th>\n",
       "      <th>Unnamed: 0</th>\n",
       "      <th>id</th>\n",
       "      <th>name</th>\n",
       "      <th>host_id</th>\n",
       "      <th>host_name</th>\n",
       "      <th>neighbourhood</th>\n",
       "      <th>latitude</th>\n",
       "      <th>longitude</th>\n",
       "      <th>room_type</th>\n",
       "      <th>price</th>\n",
       "      <th>minimum_nights</th>\n",
       "      <th>number_of_reviews</th>\n",
       "      <th>last_review</th>\n",
       "      <th>reviews_per_month</th>\n",
       "      <th>calculated_host_listings_count</th>\n",
       "      <th>availability_365</th>\n",
       "      <th>number_of_reviews_ltm</th>\n",
       "    </tr>\n",
       "  </thead>\n",
       "  <tbody>\n",
       "    <tr>\n",
       "      <th>15849</th>\n",
       "      <td>15849</td>\n",
       "      <td>790465040741092826</td>\n",
       "      <td>素坤逸核心两房公寓42楼，靠近BTSon nut/无边天际泳池观赏曼谷夜景/出门当地美食街</td>\n",
       "      <td>94899359</td>\n",
       "      <td>Renee</td>\n",
       "      <td>Pra Wet</td>\n",
       "      <td>13.715132</td>\n",
       "      <td>100.653458</td>\n",
       "      <td>Private room</td>\n",
       "      <td>2298</td>\n",
       "      <td>28</td>\n",
       "      <td>0</td>\n",
       "      <td>-</td>\n",
       "      <td>NaN</td>\n",
       "      <td>1</td>\n",
       "      <td>362</td>\n",
       "      <td>0</td>\n",
       "    </tr>\n",
       "    <tr>\n",
       "      <th>15850</th>\n",
       "      <td>15850</td>\n",
       "      <td>790474503157243541</td>\n",
       "      <td>Euro LuxuryHotel PratunamMKt TripleBdNrShoping...</td>\n",
       "      <td>491526222</td>\n",
       "      <td>Phakhamon</td>\n",
       "      <td>Ratchathewi</td>\n",
       "      <td>13.753052</td>\n",
       "      <td>100.538738</td>\n",
       "      <td>Private room</td>\n",
       "      <td>1429</td>\n",
       "      <td>1</td>\n",
       "      <td>0</td>\n",
       "      <td>-</td>\n",
       "      <td>NaN</td>\n",
       "      <td>14</td>\n",
       "      <td>365</td>\n",
       "      <td>0</td>\n",
       "    </tr>\n",
       "    <tr>\n",
       "      <th>15851</th>\n",
       "      <td>15851</td>\n",
       "      <td>790475335086864240</td>\n",
       "      <td>Euro LuxuryHotel PratunamMKt TwinBedNrShopingArea</td>\n",
       "      <td>491526222</td>\n",
       "      <td>Phakhamon</td>\n",
       "      <td>Ratchathewi</td>\n",
       "      <td>13.753169</td>\n",
       "      <td>100.538700</td>\n",
       "      <td>Private room</td>\n",
       "      <td>1214</td>\n",
       "      <td>1</td>\n",
       "      <td>0</td>\n",
       "      <td>-</td>\n",
       "      <td>NaN</td>\n",
       "      <td>14</td>\n",
       "      <td>365</td>\n",
       "      <td>0</td>\n",
       "    </tr>\n",
       "    <tr>\n",
       "      <th>15852</th>\n",
       "      <td>15852</td>\n",
       "      <td>790475546213717328</td>\n",
       "      <td>Euro LuxuryHotel PratunamMKt TwinBedNrShopingArea</td>\n",
       "      <td>491526222</td>\n",
       "      <td>Phakhamon</td>\n",
       "      <td>Ratchathewi</td>\n",
       "      <td>13.754789</td>\n",
       "      <td>100.538757</td>\n",
       "      <td>Private room</td>\n",
       "      <td>1214</td>\n",
       "      <td>1</td>\n",
       "      <td>0</td>\n",
       "      <td>-</td>\n",
       "      <td>NaN</td>\n",
       "      <td>14</td>\n",
       "      <td>365</td>\n",
       "      <td>0</td>\n",
       "    </tr>\n",
       "    <tr>\n",
       "      <th>15853</th>\n",
       "      <td>15853</td>\n",
       "      <td>790476492384199044</td>\n",
       "      <td>Euro LuxuryHotel PratunamMKt TwinBedNrShopingArea</td>\n",
       "      <td>491526222</td>\n",
       "      <td>Phakhamon</td>\n",
       "      <td>Ratchathewi</td>\n",
       "      <td>13.752960</td>\n",
       "      <td>100.540820</td>\n",
       "      <td>Private room</td>\n",
       "      <td>1214</td>\n",
       "      <td>1</td>\n",
       "      <td>0</td>\n",
       "      <td>-</td>\n",
       "      <td>NaN</td>\n",
       "      <td>14</td>\n",
       "      <td>365</td>\n",
       "      <td>0</td>\n",
       "    </tr>\n",
       "  </tbody>\n",
       "</table>\n",
       "</div>"
      ],
      "text/plain": [
       "       Unnamed: 0                  id  \\\n",
       "15849       15849  790465040741092826   \n",
       "15850       15850  790474503157243541   \n",
       "15851       15851  790475335086864240   \n",
       "15852       15852  790475546213717328   \n",
       "15853       15853  790476492384199044   \n",
       "\n",
       "                                                    name    host_id  \\\n",
       "15849      素坤逸核心两房公寓42楼，靠近BTSon nut/无边天际泳池观赏曼谷夜景/出门当地美食街   94899359   \n",
       "15850  Euro LuxuryHotel PratunamMKt TripleBdNrShoping...  491526222   \n",
       "15851  Euro LuxuryHotel PratunamMKt TwinBedNrShopingArea  491526222   \n",
       "15852  Euro LuxuryHotel PratunamMKt TwinBedNrShopingArea  491526222   \n",
       "15853  Euro LuxuryHotel PratunamMKt TwinBedNrShopingArea  491526222   \n",
       "\n",
       "       host_name neighbourhood   latitude   longitude     room_type  price  \\\n",
       "15849      Renee       Pra Wet  13.715132  100.653458  Private room   2298   \n",
       "15850  Phakhamon   Ratchathewi  13.753052  100.538738  Private room   1429   \n",
       "15851  Phakhamon   Ratchathewi  13.753169  100.538700  Private room   1214   \n",
       "15852  Phakhamon   Ratchathewi  13.754789  100.538757  Private room   1214   \n",
       "15853  Phakhamon   Ratchathewi  13.752960  100.540820  Private room   1214   \n",
       "\n",
       "       minimum_nights  number_of_reviews last_review  reviews_per_month  \\\n",
       "15849              28                  0           -                NaN   \n",
       "15850               1                  0           -                NaN   \n",
       "15851               1                  0           -                NaN   \n",
       "15852               1                  0           -                NaN   \n",
       "15853               1                  0           -                NaN   \n",
       "\n",
       "       calculated_host_listings_count  availability_365  number_of_reviews_ltm  \n",
       "15849                               1               362                      0  \n",
       "15850                              14               365                      0  \n",
       "15851                              14               365                      0  \n",
       "15852                              14               365                      0  \n",
       "15853                              14               365                      0  "
      ]
     },
     "execution_count": 11,
     "metadata": {},
     "output_type": "execute_result"
    }
   ],
   "source": [
    "df['last_review'].fillna('-', inplace=True)\n",
    "df[df['last_review'] == '-'].tail()"
   ]
  },
  {
   "cell_type": "code",
   "execution_count": 12,
   "id": "a11c83dd",
   "metadata": {},
   "outputs": [],
   "source": [
    "df['last_review_datetime'] = pd.to_datetime(df['last_review'].replace('-', pd.NaT), errors='coerce')"
   ]
  },
  {
   "cell_type": "code",
   "execution_count": 13,
   "id": "f8178f16",
   "metadata": {},
   "outputs": [
    {
     "data": {
      "text/html": [
       "<div>\n",
       "<style scoped>\n",
       "    .dataframe tbody tr th:only-of-type {\n",
       "        vertical-align: middle;\n",
       "    }\n",
       "\n",
       "    .dataframe tbody tr th {\n",
       "        vertical-align: top;\n",
       "    }\n",
       "\n",
       "    .dataframe thead th {\n",
       "        text-align: right;\n",
       "    }\n",
       "</style>\n",
       "<table border=\"1\" class=\"dataframe\">\n",
       "  <thead>\n",
       "    <tr style=\"text-align: right;\">\n",
       "      <th></th>\n",
       "      <th>Unnamed: 0</th>\n",
       "      <th>id</th>\n",
       "      <th>name</th>\n",
       "      <th>host_id</th>\n",
       "      <th>host_name</th>\n",
       "      <th>neighbourhood</th>\n",
       "      <th>latitude</th>\n",
       "      <th>longitude</th>\n",
       "      <th>room_type</th>\n",
       "      <th>price</th>\n",
       "      <th>minimum_nights</th>\n",
       "      <th>number_of_reviews</th>\n",
       "      <th>last_review</th>\n",
       "      <th>reviews_per_month</th>\n",
       "      <th>calculated_host_listings_count</th>\n",
       "      <th>availability_365</th>\n",
       "      <th>number_of_reviews_ltm</th>\n",
       "      <th>last_review_datetime</th>\n",
       "    </tr>\n",
       "  </thead>\n",
       "  <tbody>\n",
       "    <tr>\n",
       "      <th>15849</th>\n",
       "      <td>15849</td>\n",
       "      <td>790465040741092826</td>\n",
       "      <td>素坤逸核心两房公寓42楼，靠近BTSon nut/无边天际泳池观赏曼谷夜景/出门当地美食街</td>\n",
       "      <td>94899359</td>\n",
       "      <td>Renee</td>\n",
       "      <td>Pra Wet</td>\n",
       "      <td>13.715132</td>\n",
       "      <td>100.653458</td>\n",
       "      <td>Private room</td>\n",
       "      <td>2298</td>\n",
       "      <td>28</td>\n",
       "      <td>0</td>\n",
       "      <td>-</td>\n",
       "      <td>NaN</td>\n",
       "      <td>1</td>\n",
       "      <td>362</td>\n",
       "      <td>0</td>\n",
       "      <td>NaT</td>\n",
       "    </tr>\n",
       "    <tr>\n",
       "      <th>15850</th>\n",
       "      <td>15850</td>\n",
       "      <td>790474503157243541</td>\n",
       "      <td>Euro LuxuryHotel PratunamMKt TripleBdNrShoping...</td>\n",
       "      <td>491526222</td>\n",
       "      <td>Phakhamon</td>\n",
       "      <td>Ratchathewi</td>\n",
       "      <td>13.753052</td>\n",
       "      <td>100.538738</td>\n",
       "      <td>Private room</td>\n",
       "      <td>1429</td>\n",
       "      <td>1</td>\n",
       "      <td>0</td>\n",
       "      <td>-</td>\n",
       "      <td>NaN</td>\n",
       "      <td>14</td>\n",
       "      <td>365</td>\n",
       "      <td>0</td>\n",
       "      <td>NaT</td>\n",
       "    </tr>\n",
       "    <tr>\n",
       "      <th>15851</th>\n",
       "      <td>15851</td>\n",
       "      <td>790475335086864240</td>\n",
       "      <td>Euro LuxuryHotel PratunamMKt TwinBedNrShopingArea</td>\n",
       "      <td>491526222</td>\n",
       "      <td>Phakhamon</td>\n",
       "      <td>Ratchathewi</td>\n",
       "      <td>13.753169</td>\n",
       "      <td>100.538700</td>\n",
       "      <td>Private room</td>\n",
       "      <td>1214</td>\n",
       "      <td>1</td>\n",
       "      <td>0</td>\n",
       "      <td>-</td>\n",
       "      <td>NaN</td>\n",
       "      <td>14</td>\n",
       "      <td>365</td>\n",
       "      <td>0</td>\n",
       "      <td>NaT</td>\n",
       "    </tr>\n",
       "    <tr>\n",
       "      <th>15852</th>\n",
       "      <td>15852</td>\n",
       "      <td>790475546213717328</td>\n",
       "      <td>Euro LuxuryHotel PratunamMKt TwinBedNrShopingArea</td>\n",
       "      <td>491526222</td>\n",
       "      <td>Phakhamon</td>\n",
       "      <td>Ratchathewi</td>\n",
       "      <td>13.754789</td>\n",
       "      <td>100.538757</td>\n",
       "      <td>Private room</td>\n",
       "      <td>1214</td>\n",
       "      <td>1</td>\n",
       "      <td>0</td>\n",
       "      <td>-</td>\n",
       "      <td>NaN</td>\n",
       "      <td>14</td>\n",
       "      <td>365</td>\n",
       "      <td>0</td>\n",
       "      <td>NaT</td>\n",
       "    </tr>\n",
       "    <tr>\n",
       "      <th>15853</th>\n",
       "      <td>15853</td>\n",
       "      <td>790476492384199044</td>\n",
       "      <td>Euro LuxuryHotel PratunamMKt TwinBedNrShopingArea</td>\n",
       "      <td>491526222</td>\n",
       "      <td>Phakhamon</td>\n",
       "      <td>Ratchathewi</td>\n",
       "      <td>13.752960</td>\n",
       "      <td>100.540820</td>\n",
       "      <td>Private room</td>\n",
       "      <td>1214</td>\n",
       "      <td>1</td>\n",
       "      <td>0</td>\n",
       "      <td>-</td>\n",
       "      <td>NaN</td>\n",
       "      <td>14</td>\n",
       "      <td>365</td>\n",
       "      <td>0</td>\n",
       "      <td>NaT</td>\n",
       "    </tr>\n",
       "  </tbody>\n",
       "</table>\n",
       "</div>"
      ],
      "text/plain": [
       "       Unnamed: 0                  id  \\\n",
       "15849       15849  790465040741092826   \n",
       "15850       15850  790474503157243541   \n",
       "15851       15851  790475335086864240   \n",
       "15852       15852  790475546213717328   \n",
       "15853       15853  790476492384199044   \n",
       "\n",
       "                                                    name    host_id  \\\n",
       "15849      素坤逸核心两房公寓42楼，靠近BTSon nut/无边天际泳池观赏曼谷夜景/出门当地美食街   94899359   \n",
       "15850  Euro LuxuryHotel PratunamMKt TripleBdNrShoping...  491526222   \n",
       "15851  Euro LuxuryHotel PratunamMKt TwinBedNrShopingArea  491526222   \n",
       "15852  Euro LuxuryHotel PratunamMKt TwinBedNrShopingArea  491526222   \n",
       "15853  Euro LuxuryHotel PratunamMKt TwinBedNrShopingArea  491526222   \n",
       "\n",
       "       host_name neighbourhood   latitude   longitude     room_type  price  \\\n",
       "15849      Renee       Pra Wet  13.715132  100.653458  Private room   2298   \n",
       "15850  Phakhamon   Ratchathewi  13.753052  100.538738  Private room   1429   \n",
       "15851  Phakhamon   Ratchathewi  13.753169  100.538700  Private room   1214   \n",
       "15852  Phakhamon   Ratchathewi  13.754789  100.538757  Private room   1214   \n",
       "15853  Phakhamon   Ratchathewi  13.752960  100.540820  Private room   1214   \n",
       "\n",
       "       minimum_nights  number_of_reviews last_review  reviews_per_month  \\\n",
       "15849              28                  0           -                NaN   \n",
       "15850               1                  0           -                NaN   \n",
       "15851               1                  0           -                NaN   \n",
       "15852               1                  0           -                NaN   \n",
       "15853               1                  0           -                NaN   \n",
       "\n",
       "       calculated_host_listings_count  availability_365  \\\n",
       "15849                               1               362   \n",
       "15850                              14               365   \n",
       "15851                              14               365   \n",
       "15852                              14               365   \n",
       "15853                              14               365   \n",
       "\n",
       "       number_of_reviews_ltm last_review_datetime  \n",
       "15849                      0                  NaT  \n",
       "15850                      0                  NaT  \n",
       "15851                      0                  NaT  \n",
       "15852                      0                  NaT  \n",
       "15853                      0                  NaT  "
      ]
     },
     "execution_count": 13,
     "metadata": {},
     "output_type": "execute_result"
    }
   ],
   "source": [
    "df[df['reviews_per_month'].isna()].tail()"
   ]
  },
  {
   "cell_type": "code",
   "execution_count": 14,
   "id": "59b39782",
   "metadata": {},
   "outputs": [
    {
     "data": {
      "text/html": [
       "<div>\n",
       "<style scoped>\n",
       "    .dataframe tbody tr th:only-of-type {\n",
       "        vertical-align: middle;\n",
       "    }\n",
       "\n",
       "    .dataframe tbody tr th {\n",
       "        vertical-align: top;\n",
       "    }\n",
       "\n",
       "    .dataframe thead th {\n",
       "        text-align: right;\n",
       "    }\n",
       "</style>\n",
       "<table border=\"1\" class=\"dataframe\">\n",
       "  <thead>\n",
       "    <tr style=\"text-align: right;\">\n",
       "      <th></th>\n",
       "      <th>Unnamed: 0</th>\n",
       "      <th>id</th>\n",
       "      <th>name</th>\n",
       "      <th>host_id</th>\n",
       "      <th>host_name</th>\n",
       "      <th>neighbourhood</th>\n",
       "      <th>latitude</th>\n",
       "      <th>longitude</th>\n",
       "      <th>room_type</th>\n",
       "      <th>price</th>\n",
       "      <th>minimum_nights</th>\n",
       "      <th>number_of_reviews</th>\n",
       "      <th>last_review</th>\n",
       "      <th>reviews_per_month</th>\n",
       "      <th>calculated_host_listings_count</th>\n",
       "      <th>availability_365</th>\n",
       "      <th>number_of_reviews_ltm</th>\n",
       "      <th>last_review_datetime</th>\n",
       "    </tr>\n",
       "  </thead>\n",
       "  <tbody>\n",
       "    <tr>\n",
       "      <th>15849</th>\n",
       "      <td>15849</td>\n",
       "      <td>790465040741092826</td>\n",
       "      <td>素坤逸核心两房公寓42楼，靠近BTSon nut/无边天际泳池观赏曼谷夜景/出门当地美食街</td>\n",
       "      <td>94899359</td>\n",
       "      <td>Renee</td>\n",
       "      <td>Pra Wet</td>\n",
       "      <td>13.715132</td>\n",
       "      <td>100.653458</td>\n",
       "      <td>Private room</td>\n",
       "      <td>2298</td>\n",
       "      <td>28</td>\n",
       "      <td>0</td>\n",
       "      <td>-</td>\n",
       "      <td>0.0</td>\n",
       "      <td>1</td>\n",
       "      <td>362</td>\n",
       "      <td>0</td>\n",
       "      <td>NaT</td>\n",
       "    </tr>\n",
       "    <tr>\n",
       "      <th>15850</th>\n",
       "      <td>15850</td>\n",
       "      <td>790474503157243541</td>\n",
       "      <td>Euro LuxuryHotel PratunamMKt TripleBdNrShoping...</td>\n",
       "      <td>491526222</td>\n",
       "      <td>Phakhamon</td>\n",
       "      <td>Ratchathewi</td>\n",
       "      <td>13.753052</td>\n",
       "      <td>100.538738</td>\n",
       "      <td>Private room</td>\n",
       "      <td>1429</td>\n",
       "      <td>1</td>\n",
       "      <td>0</td>\n",
       "      <td>-</td>\n",
       "      <td>0.0</td>\n",
       "      <td>14</td>\n",
       "      <td>365</td>\n",
       "      <td>0</td>\n",
       "      <td>NaT</td>\n",
       "    </tr>\n",
       "    <tr>\n",
       "      <th>15851</th>\n",
       "      <td>15851</td>\n",
       "      <td>790475335086864240</td>\n",
       "      <td>Euro LuxuryHotel PratunamMKt TwinBedNrShopingArea</td>\n",
       "      <td>491526222</td>\n",
       "      <td>Phakhamon</td>\n",
       "      <td>Ratchathewi</td>\n",
       "      <td>13.753169</td>\n",
       "      <td>100.538700</td>\n",
       "      <td>Private room</td>\n",
       "      <td>1214</td>\n",
       "      <td>1</td>\n",
       "      <td>0</td>\n",
       "      <td>-</td>\n",
       "      <td>0.0</td>\n",
       "      <td>14</td>\n",
       "      <td>365</td>\n",
       "      <td>0</td>\n",
       "      <td>NaT</td>\n",
       "    </tr>\n",
       "    <tr>\n",
       "      <th>15852</th>\n",
       "      <td>15852</td>\n",
       "      <td>790475546213717328</td>\n",
       "      <td>Euro LuxuryHotel PratunamMKt TwinBedNrShopingArea</td>\n",
       "      <td>491526222</td>\n",
       "      <td>Phakhamon</td>\n",
       "      <td>Ratchathewi</td>\n",
       "      <td>13.754789</td>\n",
       "      <td>100.538757</td>\n",
       "      <td>Private room</td>\n",
       "      <td>1214</td>\n",
       "      <td>1</td>\n",
       "      <td>0</td>\n",
       "      <td>-</td>\n",
       "      <td>0.0</td>\n",
       "      <td>14</td>\n",
       "      <td>365</td>\n",
       "      <td>0</td>\n",
       "      <td>NaT</td>\n",
       "    </tr>\n",
       "    <tr>\n",
       "      <th>15853</th>\n",
       "      <td>15853</td>\n",
       "      <td>790476492384199044</td>\n",
       "      <td>Euro LuxuryHotel PratunamMKt TwinBedNrShopingArea</td>\n",
       "      <td>491526222</td>\n",
       "      <td>Phakhamon</td>\n",
       "      <td>Ratchathewi</td>\n",
       "      <td>13.752960</td>\n",
       "      <td>100.540820</td>\n",
       "      <td>Private room</td>\n",
       "      <td>1214</td>\n",
       "      <td>1</td>\n",
       "      <td>0</td>\n",
       "      <td>-</td>\n",
       "      <td>0.0</td>\n",
       "      <td>14</td>\n",
       "      <td>365</td>\n",
       "      <td>0</td>\n",
       "      <td>NaT</td>\n",
       "    </tr>\n",
       "  </tbody>\n",
       "</table>\n",
       "</div>"
      ],
      "text/plain": [
       "       Unnamed: 0                  id  \\\n",
       "15849       15849  790465040741092826   \n",
       "15850       15850  790474503157243541   \n",
       "15851       15851  790475335086864240   \n",
       "15852       15852  790475546213717328   \n",
       "15853       15853  790476492384199044   \n",
       "\n",
       "                                                    name    host_id  \\\n",
       "15849      素坤逸核心两房公寓42楼，靠近BTSon nut/无边天际泳池观赏曼谷夜景/出门当地美食街   94899359   \n",
       "15850  Euro LuxuryHotel PratunamMKt TripleBdNrShoping...  491526222   \n",
       "15851  Euro LuxuryHotel PratunamMKt TwinBedNrShopingArea  491526222   \n",
       "15852  Euro LuxuryHotel PratunamMKt TwinBedNrShopingArea  491526222   \n",
       "15853  Euro LuxuryHotel PratunamMKt TwinBedNrShopingArea  491526222   \n",
       "\n",
       "       host_name neighbourhood   latitude   longitude     room_type  price  \\\n",
       "15849      Renee       Pra Wet  13.715132  100.653458  Private room   2298   \n",
       "15850  Phakhamon   Ratchathewi  13.753052  100.538738  Private room   1429   \n",
       "15851  Phakhamon   Ratchathewi  13.753169  100.538700  Private room   1214   \n",
       "15852  Phakhamon   Ratchathewi  13.754789  100.538757  Private room   1214   \n",
       "15853  Phakhamon   Ratchathewi  13.752960  100.540820  Private room   1214   \n",
       "\n",
       "       minimum_nights  number_of_reviews last_review  reviews_per_month  \\\n",
       "15849              28                  0           -                0.0   \n",
       "15850               1                  0           -                0.0   \n",
       "15851               1                  0           -                0.0   \n",
       "15852               1                  0           -                0.0   \n",
       "15853               1                  0           -                0.0   \n",
       "\n",
       "       calculated_host_listings_count  availability_365  \\\n",
       "15849                               1               362   \n",
       "15850                              14               365   \n",
       "15851                              14               365   \n",
       "15852                              14               365   \n",
       "15853                              14               365   \n",
       "\n",
       "       number_of_reviews_ltm last_review_datetime  \n",
       "15849                      0                  NaT  \n",
       "15850                      0                  NaT  \n",
       "15851                      0                  NaT  \n",
       "15852                      0                  NaT  \n",
       "15853                      0                  NaT  "
      ]
     },
     "execution_count": 14,
     "metadata": {},
     "output_type": "execute_result"
    }
   ],
   "source": [
    "df['reviews_per_month'].fillna(0, inplace=True)\n",
    "df[df['reviews_per_month']== 0].tail()"
   ]
  },
  {
   "cell_type": "markdown",
   "id": "2f984438",
   "metadata": {},
   "source": [
    "### Unnecessary Columns"
   ]
  },
  {
   "cell_type": "code",
   "execution_count": 15,
   "id": "c65eb0ff",
   "metadata": {},
   "outputs": [
    {
     "data": {
      "text/html": [
       "<div>\n",
       "<style scoped>\n",
       "    .dataframe tbody tr th:only-of-type {\n",
       "        vertical-align: middle;\n",
       "    }\n",
       "\n",
       "    .dataframe tbody tr th {\n",
       "        vertical-align: top;\n",
       "    }\n",
       "\n",
       "    .dataframe thead th {\n",
       "        text-align: right;\n",
       "    }\n",
       "</style>\n",
       "<table border=\"1\" class=\"dataframe\">\n",
       "  <thead>\n",
       "    <tr style=\"text-align: right;\">\n",
       "      <th></th>\n",
       "      <th>id</th>\n",
       "      <th>name</th>\n",
       "      <th>host_id</th>\n",
       "      <th>host_name</th>\n",
       "      <th>neighbourhood</th>\n",
       "      <th>latitude</th>\n",
       "      <th>longitude</th>\n",
       "      <th>room_type</th>\n",
       "      <th>price</th>\n",
       "      <th>minimum_nights</th>\n",
       "      <th>number_of_reviews</th>\n",
       "      <th>last_review</th>\n",
       "      <th>reviews_per_month</th>\n",
       "      <th>calculated_host_listings_count</th>\n",
       "      <th>availability_365</th>\n",
       "      <th>number_of_reviews_ltm</th>\n",
       "      <th>last_review_datetime</th>\n",
       "    </tr>\n",
       "  </thead>\n",
       "  <tbody>\n",
       "    <tr>\n",
       "      <th>15849</th>\n",
       "      <td>790465040741092826</td>\n",
       "      <td>素坤逸核心两房公寓42楼，靠近BTSon nut/无边天际泳池观赏曼谷夜景/出门当地美食街</td>\n",
       "      <td>94899359</td>\n",
       "      <td>Renee</td>\n",
       "      <td>Pra Wet</td>\n",
       "      <td>13.715132</td>\n",
       "      <td>100.653458</td>\n",
       "      <td>Private room</td>\n",
       "      <td>2298</td>\n",
       "      <td>28</td>\n",
       "      <td>0</td>\n",
       "      <td>-</td>\n",
       "      <td>0.0</td>\n",
       "      <td>1</td>\n",
       "      <td>362</td>\n",
       "      <td>0</td>\n",
       "      <td>NaT</td>\n",
       "    </tr>\n",
       "    <tr>\n",
       "      <th>15850</th>\n",
       "      <td>790474503157243541</td>\n",
       "      <td>Euro LuxuryHotel PratunamMKt TripleBdNrShoping...</td>\n",
       "      <td>491526222</td>\n",
       "      <td>Phakhamon</td>\n",
       "      <td>Ratchathewi</td>\n",
       "      <td>13.753052</td>\n",
       "      <td>100.538738</td>\n",
       "      <td>Private room</td>\n",
       "      <td>1429</td>\n",
       "      <td>1</td>\n",
       "      <td>0</td>\n",
       "      <td>-</td>\n",
       "      <td>0.0</td>\n",
       "      <td>14</td>\n",
       "      <td>365</td>\n",
       "      <td>0</td>\n",
       "      <td>NaT</td>\n",
       "    </tr>\n",
       "    <tr>\n",
       "      <th>15851</th>\n",
       "      <td>790475335086864240</td>\n",
       "      <td>Euro LuxuryHotel PratunamMKt TwinBedNrShopingArea</td>\n",
       "      <td>491526222</td>\n",
       "      <td>Phakhamon</td>\n",
       "      <td>Ratchathewi</td>\n",
       "      <td>13.753169</td>\n",
       "      <td>100.538700</td>\n",
       "      <td>Private room</td>\n",
       "      <td>1214</td>\n",
       "      <td>1</td>\n",
       "      <td>0</td>\n",
       "      <td>-</td>\n",
       "      <td>0.0</td>\n",
       "      <td>14</td>\n",
       "      <td>365</td>\n",
       "      <td>0</td>\n",
       "      <td>NaT</td>\n",
       "    </tr>\n",
       "    <tr>\n",
       "      <th>15852</th>\n",
       "      <td>790475546213717328</td>\n",
       "      <td>Euro LuxuryHotel PratunamMKt TwinBedNrShopingArea</td>\n",
       "      <td>491526222</td>\n",
       "      <td>Phakhamon</td>\n",
       "      <td>Ratchathewi</td>\n",
       "      <td>13.754789</td>\n",
       "      <td>100.538757</td>\n",
       "      <td>Private room</td>\n",
       "      <td>1214</td>\n",
       "      <td>1</td>\n",
       "      <td>0</td>\n",
       "      <td>-</td>\n",
       "      <td>0.0</td>\n",
       "      <td>14</td>\n",
       "      <td>365</td>\n",
       "      <td>0</td>\n",
       "      <td>NaT</td>\n",
       "    </tr>\n",
       "    <tr>\n",
       "      <th>15853</th>\n",
       "      <td>790476492384199044</td>\n",
       "      <td>Euro LuxuryHotel PratunamMKt TwinBedNrShopingArea</td>\n",
       "      <td>491526222</td>\n",
       "      <td>Phakhamon</td>\n",
       "      <td>Ratchathewi</td>\n",
       "      <td>13.752960</td>\n",
       "      <td>100.540820</td>\n",
       "      <td>Private room</td>\n",
       "      <td>1214</td>\n",
       "      <td>1</td>\n",
       "      <td>0</td>\n",
       "      <td>-</td>\n",
       "      <td>0.0</td>\n",
       "      <td>14</td>\n",
       "      <td>365</td>\n",
       "      <td>0</td>\n",
       "      <td>NaT</td>\n",
       "    </tr>\n",
       "  </tbody>\n",
       "</table>\n",
       "</div>"
      ],
      "text/plain": [
       "                       id                                               name  \\\n",
       "15849  790465040741092826      素坤逸核心两房公寓42楼，靠近BTSon nut/无边天际泳池观赏曼谷夜景/出门当地美食街   \n",
       "15850  790474503157243541  Euro LuxuryHotel PratunamMKt TripleBdNrShoping...   \n",
       "15851  790475335086864240  Euro LuxuryHotel PratunamMKt TwinBedNrShopingArea   \n",
       "15852  790475546213717328  Euro LuxuryHotel PratunamMKt TwinBedNrShopingArea   \n",
       "15853  790476492384199044  Euro LuxuryHotel PratunamMKt TwinBedNrShopingArea   \n",
       "\n",
       "         host_id  host_name neighbourhood   latitude   longitude  \\\n",
       "15849   94899359      Renee       Pra Wet  13.715132  100.653458   \n",
       "15850  491526222  Phakhamon   Ratchathewi  13.753052  100.538738   \n",
       "15851  491526222  Phakhamon   Ratchathewi  13.753169  100.538700   \n",
       "15852  491526222  Phakhamon   Ratchathewi  13.754789  100.538757   \n",
       "15853  491526222  Phakhamon   Ratchathewi  13.752960  100.540820   \n",
       "\n",
       "          room_type  price  minimum_nights  number_of_reviews last_review  \\\n",
       "15849  Private room   2298              28                  0           -   \n",
       "15850  Private room   1429               1                  0           -   \n",
       "15851  Private room   1214               1                  0           -   \n",
       "15852  Private room   1214               1                  0           -   \n",
       "15853  Private room   1214               1                  0           -   \n",
       "\n",
       "       reviews_per_month  calculated_host_listings_count  availability_365  \\\n",
       "15849                0.0                               1               362   \n",
       "15850                0.0                              14               365   \n",
       "15851                0.0                              14               365   \n",
       "15852                0.0                              14               365   \n",
       "15853                0.0                              14               365   \n",
       "\n",
       "       number_of_reviews_ltm last_review_datetime  \n",
       "15849                      0                  NaT  \n",
       "15850                      0                  NaT  \n",
       "15851                      0                  NaT  \n",
       "15852                      0                  NaT  \n",
       "15853                      0                  NaT  "
      ]
     },
     "execution_count": 15,
     "metadata": {},
     "output_type": "execute_result"
    }
   ],
   "source": [
    "df.drop(columns=['Unnamed: 0'], inplace=True)\n",
    "df.tail()"
   ]
  },
  {
   "cell_type": "markdown",
   "id": "5b31cca3",
   "metadata": {},
   "source": [
    "### New Columns"
   ]
  },
  {
   "cell_type": "code",
   "execution_count": 16,
   "id": "b9eb4f89",
   "metadata": {},
   "outputs": [],
   "source": [
    "max_price = df['price'].max()\n",
    "\n",
    "\n",
    "bins = list(range(0, int(np.ceil(max_price / 1000) * 1000) + 1000, 1000))\n",
    "\n",
    "\n",
    "labels = [f'{bins[i]} - {bins[i+1]}' for i in range(len(bins)-1)]\n",
    "\n",
    "\n",
    "df['price_range'] = pd.cut(df['price'], bins=bins, labels=labels, right=False)"
   ]
  },
  {
   "cell_type": "markdown",
   "id": "5535976b",
   "metadata": {},
   "source": [
    "### Outliers"
   ]
  },
  {
   "cell_type": "code",
   "execution_count": 17,
   "id": "731abd60",
   "metadata": {},
   "outputs": [
    {
     "data": {
      "image/png": "[encoded data removed]",
      "text/plain": [
       "<Figure size 1000x400 with 1 Axes>"
      ]
     },
     "metadata": {},
     "output_type": "display_data"
    }
   ],
   "source": [
    "plt.figure(figsize=(10, 4))\n",
    "sns.boxplot(y=df['price'], color='skyblue')\n",
    "plt.title('Boxplot of Price')\n",
    "plt.ylabel('Price')\n",
    "plt.show()"
   ]
  },
  {
   "cell_type": "code",
   "execution_count": 18,
   "id": "31631e17",
   "metadata": {},
   "outputs": [
    {
     "data": {
      "text/html": [
       "<div>\n",
       "<style scoped>\n",
       "    .dataframe tbody tr th:only-of-type {\n",
       "        vertical-align: middle;\n",
       "    }\n",
       "\n",
       "    .dataframe tbody tr th {\n",
       "        vertical-align: top;\n",
       "    }\n",
       "\n",
       "    .dataframe thead th {\n",
       "        text-align: right;\n",
       "    }\n",
       "</style>\n",
       "<table border=\"1\" class=\"dataframe\">\n",
       "  <thead>\n",
       "    <tr style=\"text-align: right;\">\n",
       "      <th></th>\n",
       "      <th>id</th>\n",
       "      <th>name</th>\n",
       "      <th>host_id</th>\n",
       "      <th>host_name</th>\n",
       "      <th>neighbourhood</th>\n",
       "      <th>latitude</th>\n",
       "      <th>longitude</th>\n",
       "      <th>room_type</th>\n",
       "      <th>price</th>\n",
       "      <th>minimum_nights</th>\n",
       "      <th>number_of_reviews</th>\n",
       "      <th>last_review</th>\n",
       "      <th>reviews_per_month</th>\n",
       "      <th>calculated_host_listings_count</th>\n",
       "      <th>availability_365</th>\n",
       "      <th>number_of_reviews_ltm</th>\n",
       "      <th>last_review_datetime</th>\n",
       "      <th>price_range</th>\n",
       "    </tr>\n",
       "  </thead>\n",
       "  <tbody>\n",
       "    <tr>\n",
       "      <th>17</th>\n",
       "      <td>66046</td>\n",
       "      <td>24Flr- 1br Apt near JJ, MRT, BTS</td>\n",
       "      <td>323158</td>\n",
       "      <td>Sue</td>\n",
       "      <td>Chatu Chak</td>\n",
       "      <td>13.822980</td>\n",
       "      <td>100.564840</td>\n",
       "      <td>Entire home/apt</td>\n",
       "      <td>122594</td>\n",
       "      <td>2</td>\n",
       "      <td>9</td>\n",
       "      <td>2020-03-04</td>\n",
       "      <td>0.09</td>\n",
       "      <td>6</td>\n",
       "      <td>180</td>\n",
       "      <td>0</td>\n",
       "      <td>2020-03-04</td>\n",
       "      <td>122000 - 123000</td>\n",
       "    </tr>\n",
       "    <tr>\n",
       "      <th>275</th>\n",
       "      <td>1547429</td>\n",
       "      <td>บ้านใกล้สุวรรณภูมิ ตรงข้ามแอร์พอร์ตลิ้งบ้านทับ...</td>\n",
       "      <td>8243802</td>\n",
       "      <td>Prare</td>\n",
       "      <td>Saphan Sung</td>\n",
       "      <td>13.736670</td>\n",
       "      <td>100.691410</td>\n",
       "      <td>Entire home/apt</td>\n",
       "      <td>10355</td>\n",
       "      <td>1</td>\n",
       "      <td>0</td>\n",
       "      <td>-</td>\n",
       "      <td>0.00</td>\n",
       "      <td>1</td>\n",
       "      <td>365</td>\n",
       "      <td>0</td>\n",
       "      <td>NaT</td>\n",
       "      <td>10000 - 11000</td>\n",
       "    </tr>\n",
       "    <tr>\n",
       "      <th>393</th>\n",
       "      <td>4450156</td>\n",
       "      <td>Stylish Apartment in Bangkok, MRT</td>\n",
       "      <td>23095883</td>\n",
       "      <td>Thanakrit</td>\n",
       "      <td>Huai Khwang</td>\n",
       "      <td>13.755950</td>\n",
       "      <td>100.567800</td>\n",
       "      <td>Entire home/apt</td>\n",
       "      <td>100000</td>\n",
       "      <td>365</td>\n",
       "      <td>0</td>\n",
       "      <td>-</td>\n",
       "      <td>0.00</td>\n",
       "      <td>1</td>\n",
       "      <td>365</td>\n",
       "      <td>0</td>\n",
       "      <td>NaT</td>\n",
       "      <td>100000 - 101000</td>\n",
       "    </tr>\n",
       "    <tr>\n",
       "      <th>420</th>\n",
       "      <td>4526250</td>\n",
       "      <td>Luxury Apt Heart of Bkk Sukh soi 10</td>\n",
       "      <td>23464259</td>\n",
       "      <td>Jean-Michel</td>\n",
       "      <td>Khlong Toei</td>\n",
       "      <td>13.721380</td>\n",
       "      <td>100.582360</td>\n",
       "      <td>Entire home/apt</td>\n",
       "      <td>15000</td>\n",
       "      <td>1</td>\n",
       "      <td>1</td>\n",
       "      <td>2014-11-20</td>\n",
       "      <td>0.01</td>\n",
       "      <td>1</td>\n",
       "      <td>365</td>\n",
       "      <td>0</td>\n",
       "      <td>2014-11-20</td>\n",
       "      <td>15000 - 16000</td>\n",
       "    </tr>\n",
       "    <tr>\n",
       "      <th>484</th>\n",
       "      <td>3480807</td>\n",
       "      <td>Benviar - Three Bedroom Suite(225 Sqm) @Chitlom</td>\n",
       "      <td>17499526</td>\n",
       "      <td>Benjamin</td>\n",
       "      <td>Parthum Wan</td>\n",
       "      <td>13.740340</td>\n",
       "      <td>100.545550</td>\n",
       "      <td>Entire home/apt</td>\n",
       "      <td>17265</td>\n",
       "      <td>1</td>\n",
       "      <td>344</td>\n",
       "      <td>2022-12-27</td>\n",
       "      <td>3.38</td>\n",
       "      <td>7</td>\n",
       "      <td>351</td>\n",
       "      <td>59</td>\n",
       "      <td>2022-12-27</td>\n",
       "      <td>17000 - 18000</td>\n",
       "    </tr>\n",
       "    <tr>\n",
       "      <th>...</th>\n",
       "      <td>...</td>\n",
       "      <td>...</td>\n",
       "      <td>...</td>\n",
       "      <td>...</td>\n",
       "      <td>...</td>\n",
       "      <td>...</td>\n",
       "      <td>...</td>\n",
       "      <td>...</td>\n",
       "      <td>...</td>\n",
       "      <td>...</td>\n",
       "      <td>...</td>\n",
       "      <td>...</td>\n",
       "      <td>...</td>\n",
       "      <td>...</td>\n",
       "      <td>...</td>\n",
       "      <td>...</td>\n",
       "      <td>...</td>\n",
       "      <td>...</td>\n",
       "    </tr>\n",
       "    <tr>\n",
       "      <th>15690</th>\n",
       "      <td>790714578921259876</td>\n",
       "      <td>Pool Villa 107B</td>\n",
       "      <td>351309638</td>\n",
       "      <td>Smirah</td>\n",
       "      <td>Bang Na</td>\n",
       "      <td>13.652708</td>\n",
       "      <td>100.626089</td>\n",
       "      <td>Entire home/apt</td>\n",
       "      <td>17000</td>\n",
       "      <td>1</td>\n",
       "      <td>0</td>\n",
       "      <td>-</td>\n",
       "      <td>0.00</td>\n",
       "      <td>5</td>\n",
       "      <td>361</td>\n",
       "      <td>0</td>\n",
       "      <td>NaT</td>\n",
       "      <td>17000 - 18000</td>\n",
       "    </tr>\n",
       "    <tr>\n",
       "      <th>15693</th>\n",
       "      <td>790816217344482012</td>\n",
       "      <td>Astounding view on river bank</td>\n",
       "      <td>83677585</td>\n",
       "      <td>Nina</td>\n",
       "      <td>Bang Rak</td>\n",
       "      <td>13.721984</td>\n",
       "      <td>100.516085</td>\n",
       "      <td>Entire home/apt</td>\n",
       "      <td>12000</td>\n",
       "      <td>1</td>\n",
       "      <td>0</td>\n",
       "      <td>-</td>\n",
       "      <td>0.00</td>\n",
       "      <td>1</td>\n",
       "      <td>3</td>\n",
       "      <td>0</td>\n",
       "      <td>NaT</td>\n",
       "      <td>12000 - 13000</td>\n",
       "    </tr>\n",
       "    <tr>\n",
       "      <th>15721</th>\n",
       "      <td>785892679369172786</td>\n",
       "      <td>Modern 2 Bedrooms Suite</td>\n",
       "      <td>434168399</td>\n",
       "      <td>Krittika</td>\n",
       "      <td>Vadhana</td>\n",
       "      <td>13.735210</td>\n",
       "      <td>100.598480</td>\n",
       "      <td>Entire home/apt</td>\n",
       "      <td>11429</td>\n",
       "      <td>1</td>\n",
       "      <td>0</td>\n",
       "      <td>-</td>\n",
       "      <td>0.00</td>\n",
       "      <td>44</td>\n",
       "      <td>365</td>\n",
       "      <td>0</td>\n",
       "      <td>NaT</td>\n",
       "      <td>11000 - 12000</td>\n",
       "    </tr>\n",
       "    <tr>\n",
       "      <th>15756</th>\n",
       "      <td>786741911434733026</td>\n",
       "      <td>Private Home for 12-16 Guests 8 Parking</td>\n",
       "      <td>435016000</td>\n",
       "      <td>Tadchon</td>\n",
       "      <td>Lat Phrao</td>\n",
       "      <td>13.827958</td>\n",
       "      <td>100.591895</td>\n",
       "      <td>Entire home/apt</td>\n",
       "      <td>17900</td>\n",
       "      <td>2</td>\n",
       "      <td>0</td>\n",
       "      <td>-</td>\n",
       "      <td>0.00</td>\n",
       "      <td>10</td>\n",
       "      <td>362</td>\n",
       "      <td>0</td>\n",
       "      <td>NaT</td>\n",
       "      <td>17000 - 18000</td>\n",
       "    </tr>\n",
       "    <tr>\n",
       "      <th>15757</th>\n",
       "      <td>786742271004207966</td>\n",
       "      <td>Private Hotel for 12-16 Guests</td>\n",
       "      <td>435016000</td>\n",
       "      <td>Tadchon</td>\n",
       "      <td>Chatu Chak</td>\n",
       "      <td>13.821809</td>\n",
       "      <td>100.563067</td>\n",
       "      <td>Private room</td>\n",
       "      <td>17900</td>\n",
       "      <td>2</td>\n",
       "      <td>0</td>\n",
       "      <td>-</td>\n",
       "      <td>0.00</td>\n",
       "      <td>10</td>\n",
       "      <td>362</td>\n",
       "      <td>0</td>\n",
       "      <td>NaT</td>\n",
       "      <td>17000 - 18000</td>\n",
       "    </tr>\n",
       "  </tbody>\n",
       "</table>\n",
       "<p>375 rows × 18 columns</p>\n",
       "</div>"
      ],
      "text/plain": [
       "                       id                                               name  \\\n",
       "17                  66046                   24Flr- 1br Apt near JJ, MRT, BTS   \n",
       "275               1547429  บ้านใกล้สุวรรณภูมิ ตรงข้ามแอร์พอร์ตลิ้งบ้านทับ...   \n",
       "393               4450156                  Stylish Apartment in Bangkok, MRT   \n",
       "420               4526250                Luxury Apt Heart of Bkk Sukh soi 10   \n",
       "484               3480807    Benviar - Three Bedroom Suite(225 Sqm) @Chitlom   \n",
       "...                   ...                                                ...   \n",
       "15690  790714578921259876                                    Pool Villa 107B   \n",
       "15693  790816217344482012                      Astounding view on river bank   \n",
       "15721  785892679369172786                            Modern 2 Bedrooms Suite   \n",
       "15756  786741911434733026            Private Home for 12-16 Guests 8 Parking   \n",
       "15757  786742271004207966                     Private Hotel for 12-16 Guests   \n",
       "\n",
       "         host_id    host_name neighbourhood   latitude   longitude  \\\n",
       "17        323158          Sue    Chatu Chak  13.822980  100.564840   \n",
       "275      8243802        Prare   Saphan Sung  13.736670  100.691410   \n",
       "393     23095883    Thanakrit   Huai Khwang  13.755950  100.567800   \n",
       "420     23464259  Jean-Michel   Khlong Toei  13.721380  100.582360   \n",
       "484     17499526     Benjamin   Parthum Wan  13.740340  100.545550   \n",
       "...          ...          ...           ...        ...         ...   \n",
       "15690  351309638       Smirah       Bang Na  13.652708  100.626089   \n",
       "15693   83677585         Nina      Bang Rak  13.721984  100.516085   \n",
       "15721  434168399     Krittika       Vadhana  13.735210  100.598480   \n",
       "15756  435016000      Tadchon     Lat Phrao  13.827958  100.591895   \n",
       "15757  435016000      Tadchon    Chatu Chak  13.821809  100.563067   \n",
       "\n",
       "             room_type   price  minimum_nights  number_of_reviews last_review  \\\n",
       "17     Entire home/apt  122594               2                  9  2020-03-04   \n",
       "275    Entire home/apt   10355               1                  0           -   \n",
       "393    Entire home/apt  100000             365                  0           -   \n",
       "420    Entire home/apt   15000               1                  1  2014-11-20   \n",
       "484    Entire home/apt   17265               1                344  2022-12-27   \n",
       "...                ...     ...             ...                ...         ...   \n",
       "15690  Entire home/apt   17000               1                  0           -   \n",
       "15693  Entire home/apt   12000               1                  0           -   \n",
       "15721  Entire home/apt   11429               1                  0           -   \n",
       "15756  Entire home/apt   17900               2                  0           -   \n",
       "15757     Private room   17900               2                  0           -   \n",
       "\n",
       "       reviews_per_month  calculated_host_listings_count  availability_365  \\\n",
       "17                  0.09                               6               180   \n",
       "275                 0.00                               1               365   \n",
       "393                 0.00                               1               365   \n",
       "420                 0.01                               1               365   \n",
       "484                 3.38                               7               351   \n",
       "...                  ...                             ...               ...   \n",
       "15690               0.00                               5               361   \n",
       "15693               0.00                               1                 3   \n",
       "15721               0.00                              44               365   \n",
       "15756               0.00                              10               362   \n",
       "15757               0.00                              10               362   \n",
       "\n",
       "       number_of_reviews_ltm last_review_datetime      price_range  \n",
       "17                         0           2020-03-04  122000 - 123000  \n",
       "275                        0                  NaT    10000 - 11000  \n",
       "393                        0                  NaT  100000 - 101000  \n",
       "420                        0           2014-11-20    15000 - 16000  \n",
       "484                       59           2022-12-27    17000 - 18000  \n",
       "...                      ...                  ...              ...  \n",
       "15690                      0                  NaT    17000 - 18000  \n",
       "15693                      0                  NaT    12000 - 13000  \n",
       "15721                      0                  NaT    11000 - 12000  \n",
       "15756                      0                  NaT    17000 - 18000  \n",
       "15757                      0                  NaT    17000 - 18000  \n",
       "\n",
       "[375 rows x 18 columns]"
      ]
     },
     "execution_count": 18,
     "metadata": {},
     "output_type": "execute_result"
    }
   ],
   "source": [
    "df[df['price'] > 10000]"
   ]
  },
  {
   "cell_type": "code",
   "execution_count": 19,
   "id": "84fb16ed",
   "metadata": {},
   "outputs": [],
   "source": [
    "\n",
    "df = df[df['price'] <= 10000]"
   ]
  },
  {
   "cell_type": "code",
   "execution_count": 20,
   "id": "abc5e920",
   "metadata": {},
   "outputs": [
    {
     "data": {
      "image/png": "[encoded data removed]",
      "text/plain": [
       "<Figure size 1000x400 with 1 Axes>"
      ]
     },
     "metadata": {},
     "output_type": "display_data"
    }
   ],
   "source": [
    "plt.figure(figsize=(10, 4))\n",
    "sns.boxplot(y=df['price'], color='skyblue')\n",
    "plt.title('Boxplot of Price')\n",
    "plt.ylabel('Price')\n",
    "plt.show()"
   ]
  },
  {
   "cell_type": "code",
   "execution_count": 21,
   "id": "4d20aa6e",
   "metadata": {},
   "outputs": [
    {
     "data": {
      "image/png": "[encoded data removed]",
      "text/plain": [
       "<Figure size 1000x400 with 1 Axes>"
      ]
     },
     "metadata": {},
     "output_type": "display_data"
    }
   ],
   "source": [
    "plt.figure(figsize=(10, 4))\n",
    "sns.boxplot(y=df['minimum_nights'], color='skyblue')\n",
    "plt.title('Boxplot of Minimum Nights')\n",
    "plt.ylabel('Minimum Nights')\n",
    "plt.show()"
   ]
  },
  {
   "cell_type": "code",
   "execution_count": 22,
   "id": "e37bfab9",
   "metadata": {},
   "outputs": [
    {
     "data": {
      "text/html": [
       "<div>\n",
       "<style scoped>\n",
       "    .dataframe tbody tr th:only-of-type {\n",
       "        vertical-align: middle;\n",
       "    }\n",
       "\n",
       "    .dataframe tbody tr th {\n",
       "        vertical-align: top;\n",
       "    }\n",
       "\n",
       "    .dataframe thead th {\n",
       "        text-align: right;\n",
       "    }\n",
       "</style>\n",
       "<table border=\"1\" class=\"dataframe\">\n",
       "  <thead>\n",
       "    <tr style=\"text-align: right;\">\n",
       "      <th></th>\n",
       "      <th>id</th>\n",
       "      <th>name</th>\n",
       "      <th>host_id</th>\n",
       "      <th>host_name</th>\n",
       "      <th>neighbourhood</th>\n",
       "      <th>latitude</th>\n",
       "      <th>longitude</th>\n",
       "      <th>room_type</th>\n",
       "      <th>price</th>\n",
       "      <th>minimum_nights</th>\n",
       "      <th>number_of_reviews</th>\n",
       "      <th>last_review</th>\n",
       "      <th>reviews_per_month</th>\n",
       "      <th>calculated_host_listings_count</th>\n",
       "      <th>availability_365</th>\n",
       "      <th>number_of_reviews_ltm</th>\n",
       "      <th>last_review_datetime</th>\n",
       "      <th>price_range</th>\n",
       "    </tr>\n",
       "  </thead>\n",
       "  <tbody>\n",
       "    <tr>\n",
       "      <th>61</th>\n",
       "      <td>1041976</td>\n",
       "      <td>Long-stay special rate spacious entire floor Siam</td>\n",
       "      <td>5735895</td>\n",
       "      <td>Pariya</td>\n",
       "      <td>Parthum Wan</td>\n",
       "      <td>13.74814</td>\n",
       "      <td>100.52016</td>\n",
       "      <td>Entire home/apt</td>\n",
       "      <td>2900</td>\n",
       "      <td>1125</td>\n",
       "      <td>295</td>\n",
       "      <td>2021-08-21</td>\n",
       "      <td>2.61</td>\n",
       "      <td>3</td>\n",
       "      <td>0</td>\n",
       "      <td>0</td>\n",
       "      <td>2021-08-21</td>\n",
       "      <td>2000 - 3000</td>\n",
       "    </tr>\n",
       "    <tr>\n",
       "      <th>7986</th>\n",
       "      <td>35165443</td>\n",
       "      <td>Wonderful apartment for you holiday in Thai</td>\n",
       "      <td>86991723</td>\n",
       "      <td>Yang</td>\n",
       "      <td>Bang Na</td>\n",
       "      <td>13.67260</td>\n",
       "      <td>100.60352</td>\n",
       "      <td>Entire home/apt</td>\n",
       "      <td>2000</td>\n",
       "      <td>1115</td>\n",
       "      <td>0</td>\n",
       "      <td>-</td>\n",
       "      <td>0.00</td>\n",
       "      <td>2</td>\n",
       "      <td>358</td>\n",
       "      <td>0</td>\n",
       "      <td>NaT</td>\n",
       "      <td>2000 - 3000</td>\n",
       "    </tr>\n",
       "    <tr>\n",
       "      <th>10153</th>\n",
       "      <td>41623113</td>\n",
       "      <td>blossom condo舒适双床房摩天轮夜市周边免费泳池健身房@Sathon surasa...</td>\n",
       "      <td>162537040</td>\n",
       "      <td>Songnya</td>\n",
       "      <td>Sathon</td>\n",
       "      <td>13.71195</td>\n",
       "      <td>100.52055</td>\n",
       "      <td>Entire home/apt</td>\n",
       "      <td>650</td>\n",
       "      <td>1000</td>\n",
       "      <td>2</td>\n",
       "      <td>2020-03-08</td>\n",
       "      <td>0.06</td>\n",
       "      <td>13</td>\n",
       "      <td>179</td>\n",
       "      <td>0</td>\n",
       "      <td>2020-03-08</td>\n",
       "      <td>0 - 1000</td>\n",
       "    </tr>\n",
       "    <tr>\n",
       "      <th>11243</th>\n",
       "      <td>45051929</td>\n",
       "      <td>Bellevue Boutique Bangkok | Airport Link HUA-MAK</td>\n",
       "      <td>165329146</td>\n",
       "      <td>Sataporn</td>\n",
       "      <td>Suanluang</td>\n",
       "      <td>13.73633</td>\n",
       "      <td>100.63836</td>\n",
       "      <td>Private room</td>\n",
       "      <td>1314</td>\n",
       "      <td>999</td>\n",
       "      <td>0</td>\n",
       "      <td>-</td>\n",
       "      <td>0.00</td>\n",
       "      <td>2</td>\n",
       "      <td>181</td>\n",
       "      <td>0</td>\n",
       "      <td>NaT</td>\n",
       "      <td>1000 - 2000</td>\n",
       "    </tr>\n",
       "    <tr>\n",
       "      <th>11524</th>\n",
       "      <td>49032568</td>\n",
       "      <td>Freehold  Condo near Bangsue Grand Station</td>\n",
       "      <td>4661237</td>\n",
       "      <td>Chayanid</td>\n",
       "      <td>Bang Sue</td>\n",
       "      <td>13.80697</td>\n",
       "      <td>100.52362</td>\n",
       "      <td>Entire home/apt</td>\n",
       "      <td>554</td>\n",
       "      <td>1095</td>\n",
       "      <td>0</td>\n",
       "      <td>-</td>\n",
       "      <td>0.00</td>\n",
       "      <td>1</td>\n",
       "      <td>358</td>\n",
       "      <td>0</td>\n",
       "      <td>NaT</td>\n",
       "      <td>0 - 1000</td>\n",
       "    </tr>\n",
       "  </tbody>\n",
       "</table>\n",
       "</div>"
      ],
      "text/plain": [
       "             id                                               name    host_id  \\\n",
       "61      1041976  Long-stay special rate spacious entire floor Siam    5735895   \n",
       "7986   35165443        Wonderful apartment for you holiday in Thai   86991723   \n",
       "10153  41623113  blossom condo舒适双床房摩天轮夜市周边免费泳池健身房@Sathon surasa...  162537040   \n",
       "11243  45051929   Bellevue Boutique Bangkok | Airport Link HUA-MAK  165329146   \n",
       "11524  49032568         Freehold  Condo near Bangsue Grand Station    4661237   \n",
       "\n",
       "      host_name neighbourhood  latitude  longitude        room_type  price  \\\n",
       "61       Pariya   Parthum Wan  13.74814  100.52016  Entire home/apt   2900   \n",
       "7986       Yang       Bang Na  13.67260  100.60352  Entire home/apt   2000   \n",
       "10153   Songnya        Sathon  13.71195  100.52055  Entire home/apt    650   \n",
       "11243  Sataporn     Suanluang  13.73633  100.63836     Private room   1314   \n",
       "11524  Chayanid      Bang Sue  13.80697  100.52362  Entire home/apt    554   \n",
       "\n",
       "       minimum_nights  number_of_reviews last_review  reviews_per_month  \\\n",
       "61               1125                295  2021-08-21               2.61   \n",
       "7986             1115                  0           -               0.00   \n",
       "10153            1000                  2  2020-03-08               0.06   \n",
       "11243             999                  0           -               0.00   \n",
       "11524            1095                  0           -               0.00   \n",
       "\n",
       "       calculated_host_listings_count  availability_365  \\\n",
       "61                                  3                 0   \n",
       "7986                                2               358   \n",
       "10153                              13               179   \n",
       "11243                               2               181   \n",
       "11524                               1               358   \n",
       "\n",
       "       number_of_reviews_ltm last_review_datetime  price_range  \n",
       "61                         0           2021-08-21  2000 - 3000  \n",
       "7986                       0                  NaT  2000 - 3000  \n",
       "10153                      0           2020-03-08     0 - 1000  \n",
       "11243                      0                  NaT  1000 - 2000  \n",
       "11524                      0                  NaT     0 - 1000  "
      ]
     },
     "execution_count": 22,
     "metadata": {},
     "output_type": "execute_result"
    }
   ],
   "source": [
    "df[df['minimum_nights'] > 731]"
   ]
  },
  {
   "cell_type": "code",
   "execution_count": 23,
   "id": "05659aae",
   "metadata": {},
   "outputs": [],
   "source": [
    "df = df[df['minimum_nights'] <= 731]"
   ]
  },
  {
   "cell_type": "code",
   "execution_count": 24,
   "id": "bf9bcecf",
   "metadata": {},
   "outputs": [
    {
     "data": {
      "image/png": "[encoded data removed]",
      "text/plain": [
       "<Figure size 1000x400 with 1 Axes>"
      ]
     },
     "metadata": {},
     "output_type": "display_data"
    }
   ],
   "source": [
    "plt.figure(figsize=(10, 4))\n",
    "sns.boxplot(y=df['minimum_nights'], color='skyblue')\n",
    "plt.title('Boxplot of Minimum Nights')\n",
    "plt.ylabel('Minimum Nights')\n",
    "plt.show()"
   ]
  },
  {
   "cell_type": "markdown",
   "id": "566783ac",
   "metadata": {},
   "source": [
    "### Data Anomalies"
   ]
  },
  {
   "cell_type": "code",
   "execution_count": 25,
   "id": "e011dbbf",
   "metadata": {},
   "outputs": [
    {
     "data": {
      "text/html": [
       "<div>\n",
       "<style scoped>\n",
       "    .dataframe tbody tr th:only-of-type {\n",
       "        vertical-align: middle;\n",
       "    }\n",
       "\n",
       "    .dataframe tbody tr th {\n",
       "        vertical-align: top;\n",
       "    }\n",
       "\n",
       "    .dataframe thead th {\n",
       "        text-align: right;\n",
       "    }\n",
       "</style>\n",
       "<table border=\"1\" class=\"dataframe\">\n",
       "  <thead>\n",
       "    <tr style=\"text-align: right;\">\n",
       "      <th></th>\n",
       "      <th>id</th>\n",
       "      <th>name</th>\n",
       "      <th>host_id</th>\n",
       "      <th>host_name</th>\n",
       "      <th>neighbourhood</th>\n",
       "      <th>latitude</th>\n",
       "      <th>longitude</th>\n",
       "      <th>room_type</th>\n",
       "      <th>price</th>\n",
       "      <th>minimum_nights</th>\n",
       "      <th>number_of_reviews</th>\n",
       "      <th>last_review</th>\n",
       "      <th>reviews_per_month</th>\n",
       "      <th>calculated_host_listings_count</th>\n",
       "      <th>availability_365</th>\n",
       "      <th>number_of_reviews_ltm</th>\n",
       "      <th>last_review_datetime</th>\n",
       "      <th>price_range</th>\n",
       "    </tr>\n",
       "  </thead>\n",
       "  <tbody>\n",
       "    <tr>\n",
       "      <th>11103</th>\n",
       "      <td>44563108</td>\n",
       "      <td>Somerset Maison Asoke Bangkok</td>\n",
       "      <td>360620448</td>\n",
       "      <td>Somerset Maison Asoke</td>\n",
       "      <td>Vadhana</td>\n",
       "      <td>13.73815</td>\n",
       "      <td>100.5642</td>\n",
       "      <td>Hotel room</td>\n",
       "      <td>0</td>\n",
       "      <td>1</td>\n",
       "      <td>0</td>\n",
       "      <td>-</td>\n",
       "      <td>0.0</td>\n",
       "      <td>1</td>\n",
       "      <td>0</td>\n",
       "      <td>0</td>\n",
       "      <td>NaT</td>\n",
       "      <td>0 - 1000</td>\n",
       "    </tr>\n",
       "  </tbody>\n",
       "</table>\n",
       "</div>"
      ],
      "text/plain": [
       "             id                           name    host_id  \\\n",
       "11103  44563108  Somerset Maison Asoke Bangkok  360620448   \n",
       "\n",
       "                   host_name neighbourhood  latitude  longitude   room_type  \\\n",
       "11103  Somerset Maison Asoke       Vadhana  13.73815   100.5642  Hotel room   \n",
       "\n",
       "       price  minimum_nights  number_of_reviews last_review  \\\n",
       "11103      0               1                  0           -   \n",
       "\n",
       "       reviews_per_month  calculated_host_listings_count  availability_365  \\\n",
       "11103                0.0                               1                 0   \n",
       "\n",
       "       number_of_reviews_ltm last_review_datetime price_range  \n",
       "11103                      0                  NaT    0 - 1000  "
      ]
     },
     "execution_count": 25,
     "metadata": {},
     "output_type": "execute_result"
    }
   ],
   "source": [
    "df[df['price'] == df['price'].min()]"
   ]
  },
  {
   "cell_type": "code",
   "execution_count": 26,
   "id": "5078be7d",
   "metadata": {},
   "outputs": [],
   "source": [
    "df = df[df['price'] != 0]"
   ]
  },
  {
   "cell_type": "markdown",
   "id": "c5c9b71f",
   "metadata": {},
   "source": [
    "### Duplicated Data"
   ]
  },
  {
   "cell_type": "code",
   "execution_count": 27,
   "id": "e636b7f2",
   "metadata": {},
   "outputs": [
    {
     "data": {
      "text/plain": [
       "False    15473\n",
       "Name: count, dtype: int64"
      ]
     },
     "execution_count": 27,
     "metadata": {},
     "output_type": "execute_result"
    }
   ],
   "source": [
    "df.duplicated().value_counts()"
   ]
  },
  {
   "cell_type": "code",
   "execution_count": 28,
   "id": "3f155410",
   "metadata": {},
   "outputs": [
    {
     "name": "stdout",
     "output_type": "stream",
     "text": [
      "<class 'pandas.core.frame.DataFrame'>\n",
      "Index: 15473 entries, 0 to 15853\n",
      "Data columns (total 18 columns):\n",
      " #   Column                          Non-Null Count  Dtype         \n",
      "---  ------                          --------------  -----         \n",
      " 0   id                              15473 non-null  int64         \n",
      " 1   name                            15473 non-null  object        \n",
      " 2   host_id                         15473 non-null  int64         \n",
      " 3   host_name                       15473 non-null  object        \n",
      " 4   neighbourhood                   15473 non-null  object        \n",
      " 5   latitude                        15473 non-null  float64       \n",
      " 6   longitude                       15473 non-null  float64       \n",
      " 7   room_type                       15473 non-null  object        \n",
      " 8   price                           15473 non-null  int64         \n",
      " 9   minimum_nights                  15473 non-null  int64         \n",
      " 10  number_of_reviews               15473 non-null  int64         \n",
      " 11  last_review                     15473 non-null  object        \n",
      " 12  reviews_per_month               15473 non-null  float64       \n",
      " 13  calculated_host_listings_count  15473 non-null  int64         \n",
      " 14  availability_365                15473 non-null  int64         \n",
      " 15  number_of_reviews_ltm           15473 non-null  int64         \n",
      " 16  last_review_datetime            9890 non-null   datetime64[ns]\n",
      " 17  price_range                     15473 non-null  category      \n",
      "dtypes: category(1), datetime64[ns](1), float64(3), int64(8), object(5)\n",
      "memory usage: 2.2+ MB\n"
     ]
    }
   ],
   "source": [
    "df.info()"
   ]
  },
  {
   "cell_type": "code",
   "execution_count": 29,
   "id": "c15dfa65",
   "metadata": {},
   "outputs": [],
   "source": [
    "df.to_csv('airbnb_bangkok_cleaned.csv', index=False)"
   ]
  },
  {
   "cell_type": "markdown",
   "id": "c114b1f5",
   "metadata": {},
   "source": [
    "### Data Distribution"
   ]
  },
  {
   "cell_type": "code",
   "execution_count": 30,
   "id": "0eb9d2c2",
   "metadata": {},
   "outputs": [
    {
     "data": {
      "text/plain": [
       "array([[<Axes: title={'center': 'id'}>,\n",
       "        <Axes: title={'center': 'host_id'}>,\n",
       "        <Axes: title={'center': 'latitude'}>],\n",
       "       [<Axes: title={'center': 'longitude'}>,\n",
       "        <Axes: title={'center': 'price'}>,\n",
       "        <Axes: title={'center': 'minimum_nights'}>],\n",
       "       [<Axes: title={'center': 'number_of_reviews'}>,\n",
       "        <Axes: title={'center': 'reviews_per_month'}>,\n",
       "        <Axes: title={'center': 'calculated_host_listings_count'}>],\n",
       "       [<Axes: title={'center': 'availability_365'}>,\n",
       "        <Axes: title={'center': 'number_of_reviews_ltm'}>,\n",
       "        <Axes: title={'center': 'last_review_datetime'}>]], dtype=object)"
      ]
     },
     "execution_count": 30,
     "metadata": {},
     "output_type": "execute_result"
    },
    {
     "data": {
      "image/png": "[encoded data removed]",
      "text/plain": [
       "<Figure size 1600x900 with 12 Axes>"
      ]
     },
     "metadata": {},
     "output_type": "display_data"
    }
   ],
   "source": [
    "df.hist(bins=16, figsize=(16,9))"
   ]
  },
  {
   "cell_type": "markdown",
   "id": "c5b66435",
   "metadata": {},
   "source": [
    "## Data Analysis"
   ]
  },
  {
   "cell_type": "markdown",
   "id": "67512b75",
   "metadata": {},
   "source": [
    "### 1. Distribution of Listing by Neighbourhood"
   ]
  },
  {
   "cell_type": "code",
   "execution_count": 31,
   "id": "ae1e388b",
   "metadata": {},
   "outputs": [
    {
     "name": "stderr",
     "output_type": "stream",
     "text": [
      "/var/folders/k5/btcb7n5557sf9xy2f7wdrcnr0000gn/T/ipykernel_11070/533812067.py:9: DeprecationWarning: *choropleth_mapbox* is deprecated! Use *choropleth_map* instead. Learn more at: https://plotly.com/python/mapbox-to-maplibre/\n",
      "  fig = px.choropleth_mapbox(\n"
     ]
    },
    {
     "data": {
      "application/vnd.plotly.v1+json": {
       "config": {
        "plotlyServerURL": "https://plot.ly"
       },
       "data": [
        {
         "coloraxis": "coloraxis",
         "featureidkey": "properties.dname_e",
         "geojson": "Bangkok-districts.geojson",
         "hovertemplate": "District=%{location}<br>Number of Listings in Airbnb=%{z}<extra></extra>",
         "locations": [
          "Bang Bon",
          "Bang Kapi",
          "Bang Khae",
          "Bang Khen",
          "Bang Kho laen",
          "Bang Khun thain",
          "Bang Na",
          "Bang Phlat",
          "Bang Rak",
          "Bang Sue",
          "Bangkok Noi",
          "Bangkok Yai",
          "Bueng Kum",
          "Chatu Chak",
          "Chom Thong",
          "Din Daeng",
          "Don Mueang",
          "Dusit",
          "Huai Khwang",
          "Khan Na Yao",
          "Khlong Sam Wa",
          "Khlong San",
          "Khlong Toei",
          "Lak Si",
          "Lat Krabang",
          "Lat Phrao",
          "Min Buri",
          "Nong Chok",
          "Nong Khaem",
          "Parthum Wan",
          "Phasi Charoen",
          "Phaya Thai",
          "Phra Khanong",
          "Phra Nakhon",
          "Pom Prap Sattru Phai",
          "Pra Wet",
          "Rat Burana",
          "Ratchathewi",
          "Sai Mai",
          "Samphanthawong",
          "Saphan Sung",
          "Sathon",
          "Suanluang",
          "Taling Chan",
          "Thawi Watthana",
          "Thon buri",
          "Thung khru",
          "Vadhana",
          "Wang Thong Lang",
          "Yan na wa"
         ],
         "name": "",
         "subplot": "mapbox",
         "type": "choroplethmapbox",
         "z": {
          "bdata": "BQAAAVoAcQCEABMAvAHTACID9QCUAFkANQAaAkkAtAGnAFoASwQ1AB4AXgH0B34AlQA2AD0ADgAJAK4BmgClASoCZQJ5AJoANQBRBCgAcAArABMDcwExAAwAsgAXABkIYgC+AA==",
          "dtype": "i2"
         }
        }
       ],
       "layout": {
        "coloraxis": {
         "colorbar": {
          "title": {
           "text": "Number of Listings in Airbnb"
          }
         },
         "colorscale": [
          [
           0,
           "#ffe0ec"
          ],
          [
           0.25,
           "#f9b3d1"
          ],
          [
           0.5,
           "#f47fb7"
          ],
          [
           0.75,
           "#ec4b9e"
          ],
          [
           1,
           "#d91377"
          ]
         ]
        },
        "legend": {
         "tracegroupgap": 0
        },
        "mapbox": {
         "center": {
          "lat": 13.7563,
          "lon": 100.5018
         },
         "domain": {
          "x": [
           0,
           1
          ],
          "y": [
           0,
           1
          ]
         },
         "style": "carto-positron",
         "zoom": 9
        },
        "margin": {
         "b": 0,
         "l": 0,
         "r": 0,
         "t": 0
        },
        "template": {
         "data": {
          "bar": [
           {
            "error_x": {
             "color": "#2a3f5f"
            },
            "error_y": {
             "color": "#2a3f5f"
            },
            "marker": {
             "line": {
              "color": "#E5ECF6",
              "width": 0.5
             },
             "pattern": {
              "fillmode": "overlay",
              "size": 10,
              "solidity": 0.2
             }
            },
            "type": "bar"
           }
          ],
          "barpolar": [
           {
            "marker": {
             "line": {
              "color": "#E5ECF6",
              "width": 0.5
             },
             "pattern": {
              "fillmode": "overlay",
              "size": 10,
              "solidity": 0.2
             }
            },
            "type": "barpolar"
           }
          ],
          "carpet": [
           {
            "aaxis": {
             "endlinecolor": "#2a3f5f",
             "gridcolor": "white",
             "linecolor": "white",
             "minorgridcolor": "white",
             "startlinecolor": "#2a3f5f"
            },
            "baxis": {
             "endlinecolor": "#2a3f5f",
             "gridcolor": "white",
             "linecolor": "white",
             "minorgridcolor": "white",
             "startlinecolor": "#2a3f5f"
            },
            "type": "carpet"
           }
          ],
          "choropleth": [
           {
            "colorbar": {
             "outlinewidth": 0,
             "ticks": ""
            },
            "type": "choropleth"
           }
          ],
          "contour": [
           {
            "colorbar": {
             "outlinewidth": 0,
             "ticks": ""
            },
            "colorscale": [
             [
              0,
              "#0d0887"
             ],
             [
              0.1111111111111111,
              "#46039f"
             ],
             [
              0.2222222222222222,
              "#7201a8"
             ],
             [
              0.3333333333333333,
              "#9c179e"
             ],
             [
              0.4444444444444444,
              "#bd3786"
             ],
             [
              0.5555555555555556,
              "#d8576b"
             ],
             [
              0.6666666666666666,
              "#ed7953"
             ],
             [
              0.7777777777777778,
              "#fb9f3a"
             ],
             [
              0.8888888888888888,
              "#fdca26"
             ],
             [
              1,
              "#f0f921"
             ]
            ],
            "type": "contour"
           }
          ],
          "contourcarpet": [
           {
            "colorbar": {
             "outlinewidth": 0,
             "ticks": ""
            },
            "type": "contourcarpet"
           }
          ],
          "heatmap": [
           {
            "colorbar": {
             "outlinewidth": 0,
             "ticks": ""
            },
            "colorscale": [
             [
              0,
              "#0d0887"
             ],
             [
              0.1111111111111111,
              "#46039f"
             ],
             [
              0.2222222222222222,
              "#7201a8"
             ],
             [
              0.3333333333333333,
              "#9c179e"
             ],
             [
              0.4444444444444444,
              "#bd3786"
             ],
             [
              0.5555555555555556,
              "#d8576b"
             ],
             [
              0.6666666666666666,
              "#ed7953"
             ],
             [
              0.7777777777777778,
              "#fb9f3a"
             ],
             [
              0.8888888888888888,
              "#fdca26"
             ],
             [
              1,
              "#f0f921"
             ]
            ],
            "type": "heatmap"
           }
          ],
          "histogram": [
           {
            "marker": {
             "pattern": {
              "fillmode": "overlay",
              "size": 10,
              "solidity": 0.2
             }
            },
            "type": "histogram"
           }
          ],
          "histogram2d": [
           {
            "colorbar": {
             "outlinewidth": 0,
             "ticks": ""
            },
            "colorscale": [
             [
              0,
              "#0d0887"
             ],
             [
              0.1111111111111111,
              "#46039f"
             ],
             [
              0.2222222222222222,
              "#7201a8"
             ],
             [
              0.3333333333333333,
              "#9c179e"
             ],
             [
              0.4444444444444444,
              "#bd3786"
             ],
             [
              0.5555555555555556,
              "#d8576b"
             ],
             [
              0.6666666666666666,
              "#ed7953"
             ],
             [
              0.7777777777777778,
              "#fb9f3a"
             ],
             [
              0.8888888888888888,
              "#fdca26"
             ],
             [
              1,
              "#f0f921"
             ]
            ],
            "type": "histogram2d"
           }
          ],
          "histogram2dcontour": [
           {
            "colorbar": {
             "outlinewidth": 0,
             "ticks": ""
            },
            "colorscale": [
             [
              0,
              "#0d0887"
             ],
             [
              0.1111111111111111,
              "#46039f"
             ],
             [
              0.2222222222222222,
              "#7201a8"
             ],
             [
              0.3333333333333333,
              "#9c179e"
             ],
             [
              0.4444444444444444,
              "#bd3786"
             ],
             [
              0.5555555555555556,
              "#d8576b"
             ],
             [
              0.6666666666666666,
              "#ed7953"
             ],
             [
              0.7777777777777778,
              "#fb9f3a"
             ],
             [
              0.8888888888888888,
              "#fdca26"
             ],
             [
              1,
              "#f0f921"
             ]
            ],
            "type": "histogram2dcontour"
           }
          ],
          "mesh3d": [
           {
            "colorbar": {
             "outlinewidth": 0,
             "ticks": ""
            },
            "type": "mesh3d"
           }
          ],
          "parcoords": [
           {
            "line": {
             "colorbar": {
              "outlinewidth": 0,
              "ticks": ""
             }
            },
            "type": "parcoords"
           }
          ],
          "pie": [
           {
            "automargin": true,
            "type": "pie"
           }
          ],
          "scatter": [
           {
            "fillpattern": {
             "fillmode": "overlay",
             "size": 10,
             "solidity": 0.2
            },
            "type": "scatter"
           }
          ],
          "scatter3d": [
           {
            "line": {
             "colorbar": {
              "outlinewidth": 0,
              "ticks": ""
             }
            },
            "marker": {
             "colorbar": {
              "outlinewidth": 0,
              "ticks": ""
             }
            },
            "type": "scatter3d"
           }
          ],
          "scattercarpet": [
           {
            "marker": {
             "colorbar": {
              "outlinewidth": 0,
              "ticks": ""
             }
            },
            "type": "scattercarpet"
           }
          ],
          "scattergeo": [
           {
            "marker": {
             "colorbar": {
              "outlinewidth": 0,
              "ticks": ""
             }
            },
            "type": "scattergeo"
           }
          ],
          "scattergl": [
           {
            "marker": {
             "colorbar": {
              "outlinewidth": 0,
              "ticks": ""
             }
            },
            "type": "scattergl"
           }
          ],
          "scattermap": [
           {
            "marker": {
             "colorbar": {
              "outlinewidth": 0,
              "ticks": ""
             }
            },
            "type": "scattermap"
           }
          ],
          "scattermapbox": [
           {
            "marker": {
             "colorbar": {
              "outlinewidth": 0,
              "ticks": ""
             }
            },
            "type": "scattermapbox"
           }
          ],
          "scatterpolar": [
           {
            "marker": {
             "colorbar": {
              "outlinewidth": 0,
              "ticks": ""
             }
            },
            "type": "scatterpolar"
           }
          ],
          "scatterpolargl": [
           {
            "marker": {
             "colorbar": {
              "outlinewidth": 0,
              "ticks": ""
             }
            },
            "type": "scatterpolargl"
           }
          ],
          "scatterternary": [
           {
            "marker": {
             "colorbar": {
              "outlinewidth": 0,
              "ticks": ""
             }
            },
            "type": "scatterternary"
           }
          ],
          "surface": [
           {
            "colorbar": {
             "outlinewidth": 0,
             "ticks": ""
            },
            "colorscale": [
             [
              0,
              "#0d0887"
             ],
             [
              0.1111111111111111,
              "#46039f"
             ],
             [
              0.2222222222222222,
              "#7201a8"
             ],
             [
              0.3333333333333333,
              "#9c179e"
             ],
             [
              0.4444444444444444,
              "#bd3786"
             ],
             [
              0.5555555555555556,
              "#d8576b"
             ],
             [
              0.6666666666666666,
              "#ed7953"
             ],
             [
              0.7777777777777778,
              "#fb9f3a"
             ],
             [
              0.8888888888888888,
              "#fdca26"
             ],
             [
              1,
              "#f0f921"
             ]
            ],
            "type": "surface"
           }
          ],
          "table": [
           {
            "cells": {
             "fill": {
              "color": "#EBF0F8"
             },
             "line": {
              "color": "white"
             }
            },
            "header": {
             "fill": {
              "color": "#C8D4E3"
             },
             "line": {
              "color": "white"
             }
            },
            "type": "table"
           }
          ]
         },
         "layout": {
          "annotationdefaults": {
           "arrowcolor": "#2a3f5f",
           "arrowhead": 0,
           "arrowwidth": 1
          },
          "autotypenumbers": "strict",
          "coloraxis": {
           "colorbar": {
            "outlinewidth": 0,
            "ticks": ""
           }
          },
          "colorscale": {
           "diverging": [
            [
             0,
             "#8e0152"
            ],
            [
             0.1,
             "#c51b7d"
            ],
            [
             0.2,
             "#de77ae"
            ],
            [
             0.3,
             "#f1b6da"
            ],
            [
             0.4,
             "#fde0ef"
            ],
            [
             0.5,
             "#f7f7f7"
            ],
            [
             0.6,
             "#e6f5d0"
            ],
            [
             0.7,
             "#b8e186"
            ],
            [
             0.8,
             "#7fbc41"
            ],
            [
             0.9,
             "#4d9221"
            ],
            [
             1,
             "#276419"
            ]
           ],
           "sequential": [
            [
             0,
             "#0d0887"
            ],
            [
             0.1111111111111111,
             "#46039f"
            ],
            [
             0.2222222222222222,
             "#7201a8"
            ],
            [
             0.3333333333333333,
             "#9c179e"
            ],
            [
             0.4444444444444444,
             "#bd3786"
            ],
            [
             0.5555555555555556,
             "#d8576b"
            ],
            [
             0.6666666666666666,
             "#ed7953"
            ],
            [
             0.7777777777777778,
             "#fb9f3a"
            ],
            [
             0.8888888888888888,
             "#fdca26"
            ],
            [
             1,
             "#f0f921"
            ]
           ],
           "sequentialminus": [
            [
             0,
             "#0d0887"
            ],
            [
             0.1111111111111111,
             "#46039f"
            ],
            [
             0.2222222222222222,
             "#7201a8"
            ],
            [
             0.3333333333333333,
             "#9c179e"
            ],
            [
             0.4444444444444444,
             "#bd3786"
            ],
            [
             0.5555555555555556,
             "#d8576b"
            ],
            [
             0.6666666666666666,
             "#ed7953"
            ],
            [
             0.7777777777777778,
             "#fb9f3a"
            ],
            [
             0.8888888888888888,
             "#fdca26"
            ],
            [
             1,
             "#f0f921"
            ]
           ]
          },
          "colorway": [
           "#636efa",
           "#EF553B",
           "#00cc96",
           "#ab63fa",
           "#FFA15A",
           "#19d3f3",
           "#FF6692",
           "#B6E880",
           "#FF97FF",
           "#FECB52"
          ],
          "font": {
           "color": "#2a3f5f"
          },
          "geo": {
           "bgcolor": "white",
           "lakecolor": "white",
           "landcolor": "#E5ECF6",
           "showlakes": true,
           "showland": true,
           "subunitcolor": "white"
          },
          "hoverlabel": {
           "align": "left"
          },
          "hovermode": "closest",
          "mapbox": {
           "style": "light"
          },
          "paper_bgcolor": "white",
          "plot_bgcolor": "#E5ECF6",
          "polar": {
           "angularaxis": {
            "gridcolor": "white",
            "linecolor": "white",
            "ticks": ""
           },
           "bgcolor": "#E5ECF6",
           "radialaxis": {
            "gridcolor": "white",
            "linecolor": "white",
            "ticks": ""
           }
          },
          "scene": {
           "xaxis": {
            "backgroundcolor": "#E5ECF6",
            "gridcolor": "white",
            "gridwidth": 2,
            "linecolor": "white",
            "showbackground": true,
            "ticks": "",
            "zerolinecolor": "white"
           },
           "yaxis": {
            "backgroundcolor": "#E5ECF6",
            "gridcolor": "white",
            "gridwidth": 2,
            "linecolor": "white",
            "showbackground": true,
            "ticks": "",
            "zerolinecolor": "white"
           },
           "zaxis": {
            "backgroundcolor": "#E5ECF6",
            "gridcolor": "white",
            "gridwidth": 2,
            "linecolor": "white",
            "showbackground": true,
            "ticks": "",
            "zerolinecolor": "white"
           }
          },
          "shapedefaults": {
           "line": {
            "color": "#2a3f5f"
           }
          },
          "ternary": {
           "aaxis": {
            "gridcolor": "white",
            "linecolor": "white",
            "ticks": ""
           },
           "baxis": {
            "gridcolor": "white",
            "linecolor": "white",
            "ticks": ""
           },
           "bgcolor": "#E5ECF6",
           "caxis": {
            "gridcolor": "white",
            "linecolor": "white",
            "ticks": ""
           }
          },
          "title": {
           "x": 0.05
          },
          "xaxis": {
           "automargin": true,
           "gridcolor": "white",
           "linecolor": "white",
           "ticks": "",
           "title": {
            "standoff": 15
           },
           "zerolinecolor": "white",
           "zerolinewidth": 2
          },
          "yaxis": {
           "automargin": true,
           "gridcolor": "white",
           "linecolor": "white",
           "ticks": "",
           "title": {
            "standoff": 15
           },
           "zerolinecolor": "white",
           "zerolinewidth": 2
          }
         }
        }
       }
      }
     },
     "metadata": {},
     "output_type": "display_data"
    }
   ],
   "source": [
    "distrik = pd.DataFrame(data=df.groupby('neighbourhood').count()['id']).reset_index()\n",
    "distrik.columns = ['neighbourhood', 'total_listing']\n",
    "\n",
    "\n",
    "distrik = df.groupby('neighbourhood')['id'].count().reset_index()\n",
    "distrik.columns = ['neighbourhood', 'total_listing']\n",
    "\n",
    "\n",
    "fig = px.choropleth_mapbox(\n",
    "    distrik,\n",
    "    geojson=bangkok,\n",
    "    locations='neighbourhood',\n",
    "    color='total_listing',\n",
    "    featureidkey='properties.dname_e',\n",
    "    center={'lat': 13.7563, 'lon': 100.5018},\n",
    "    mapbox_style='carto-positron',\n",
    "    zoom=9,\n",
    "    labels={\n",
    "        'total_listing': 'Number of Listings in Airbnb',\n",
    "        'neighbourhood': 'District'\n",
    "    },\n",
    "    color_continuous_scale=['#ffe0ec', '#f9b3d1', '#f47fb7', '#ec4b9e', '#d91377']\n",
    ")\n",
    "\n",
    "fig.update_layout(margin={'r':0, 't':0, 'l':0, 'b':0})\n",
    "fig.show()"
   ]
  },
  {
   "cell_type": "code",
   "execution_count": 32,
   "id": "b38d4ff9",
   "metadata": {},
   "outputs": [
    {
     "data": {
      "application/vnd.plotly.v1+json": {
       "config": {
        "plotlyServerURL": "https://plot.ly"
       },
       "data": [
        {
         "hovertemplate": "District=%{x}<br>Reviews per Listing=%{marker.color}<extra></extra>",
         "legendgroup": "",
         "marker": {
          "color": {
           "bdata": "g1Jh4v3IQEAY+Ejo2jhAQIjq9USkvTtAHJSYgWXRNUCB2FQacm40QOnw9aPCATRATjbZZJPNM0DGM57xjGczQAHtsQDtsTJAtdjGT4ttMkA=",
           "dtype": "f8"
          },
          "coloraxis": "coloraxis",
          "pattern": {
           "shape": ""
          }
         },
         "name": "",
         "orientation": "v",
         "showlegend": false,
         "textposition": "auto",
         "type": "bar",
         "x": [
          "Pom Prap Sattru Phai",
          "Phaya Thai",
          "Sathon",
          "Bang Rak",
          "Khlong San",
          "Khlong Toei",
          "Bang Kho laen",
          "Thon buri",
          "Ratchathewi",
          "Parthum Wan"
         ],
         "xaxis": "x",
         "y": {
          "bdata": "g1Jh4v3IQEAY+Ejo2jhAQIjq9USkvTtAHJSYgWXRNUCB2FQacm40QOnw9aPCATRATjbZZJPNM0DGM57xjGczQAHtsQDtsTJAtdjGT4ttMkA=",
          "dtype": "f8"
         },
         "yaxis": "y"
        }
       ],
       "layout": {
        "barmode": "relative",
        "coloraxis": {
         "colorbar": {
          "title": {
           "text": "Reviews per Listing"
          }
         },
         "colorscale": [
          [
           0,
           "#ffe0ec"
          ],
          [
           0.25,
           "#f9b3d1"
          ],
          [
           0.5,
           "#f47fb7"
          ],
          [
           0.75,
           "#ec4b9e"
          ],
          [
           1,
           "#d91377"
          ]
         ]
        },
        "legend": {
         "tracegroupgap": 0
        },
        "plot_bgcolor": "white",
        "template": {
         "data": {
          "bar": [
           {
            "error_x": {
             "color": "#2a3f5f"
            },
            "error_y": {
             "color": "#2a3f5f"
            },
            "marker": {
             "line": {
              "color": "#E5ECF6",
              "width": 0.5
             },
             "pattern": {
              "fillmode": "overlay",
              "size": 10,
              "solidity": 0.2
             }
            },
            "type": "bar"
           }
          ],
          "barpolar": [
           {
            "marker": {
             "line": {
              "color": "#E5ECF6",
              "width": 0.5
             },
             "pattern": {
              "fillmode": "overlay",
              "size": 10,
              "solidity": 0.2
             }
            },
            "type": "barpolar"
           }
          ],
          "carpet": [
           {
            "aaxis": {
             "endlinecolor": "#2a3f5f",
             "gridcolor": "white",
             "linecolor": "white",
             "minorgridcolor": "white",
             "startlinecolor": "#2a3f5f"
            },
            "baxis": {
             "endlinecolor": "#2a3f5f",
             "gridcolor": "white",
             "linecolor": "white",
             "minorgridcolor": "white",
             "startlinecolor": "#2a3f5f"
            },
            "type": "carpet"
           }
          ],
          "choropleth": [
           {
            "colorbar": {
             "outlinewidth": 0,
             "ticks": ""
            },
            "type": "choropleth"
           }
          ],
          "contour": [
           {
            "colorbar": {
             "outlinewidth": 0,
             "ticks": ""
            },
            "colorscale": [
             [
              0,
              "#0d0887"
             ],
             [
              0.1111111111111111,
              "#46039f"
             ],
             [
              0.2222222222222222,
              "#7201a8"
             ],
             [
              0.3333333333333333,
              "#9c179e"
             ],
             [
              0.4444444444444444,
              "#bd3786"
             ],
             [
              0.5555555555555556,
              "#d8576b"
             ],
             [
              0.6666666666666666,
              "#ed7953"
             ],
             [
              0.7777777777777778,
              "#fb9f3a"
             ],
             [
              0.8888888888888888,
              "#fdca26"
             ],
             [
              1,
              "#f0f921"
             ]
            ],
            "type": "contour"
           }
          ],
          "contourcarpet": [
           {
            "colorbar": {
             "outlinewidth": 0,
             "ticks": ""
            },
            "type": "contourcarpet"
           }
          ],
          "heatmap": [
           {
            "colorbar": {
             "outlinewidth": 0,
             "ticks": ""
            },
            "colorscale": [
             [
              0,
              "#0d0887"
             ],
             [
              0.1111111111111111,
              "#46039f"
             ],
             [
              0.2222222222222222,
              "#7201a8"
             ],
             [
              0.3333333333333333,
              "#9c179e"
             ],
             [
              0.4444444444444444,
              "#bd3786"
             ],
             [
              0.5555555555555556,
              "#d8576b"
             ],
             [
              0.6666666666666666,
              "#ed7953"
             ],
             [
              0.7777777777777778,
              "#fb9f3a"
             ],
             [
              0.8888888888888888,
              "#fdca26"
             ],
             [
              1,
              "#f0f921"
             ]
            ],
            "type": "heatmap"
           }
          ],
          "histogram": [
           {
            "marker": {
             "pattern": {
              "fillmode": "overlay",
              "size": 10,
              "solidity": 0.2
             }
            },
            "type": "histogram"
           }
          ],
          "histogram2d": [
           {
            "colorbar": {
             "outlinewidth": 0,
             "ticks": ""
            },
            "colorscale": [
             [
              0,
              "#0d0887"
             ],
             [
              0.1111111111111111,
              "#46039f"
             ],
             [
              0.2222222222222222,
              "#7201a8"
             ],
             [
              0.3333333333333333,
              "#9c179e"
             ],
             [
              0.4444444444444444,
              "#bd3786"
             ],
             [
              0.5555555555555556,
              "#d8576b"
             ],
             [
              0.6666666666666666,
              "#ed7953"
             ],
             [
              0.7777777777777778,
              "#fb9f3a"
             ],
             [
              0.8888888888888888,
              "#fdca26"
             ],
             [
              1,
              "#f0f921"
             ]
            ],
            "type": "histogram2d"
           }
          ],
          "histogram2dcontour": [
           {
            "colorbar": {
             "outlinewidth": 0,
             "ticks": ""
            },
            "colorscale": [
             [
              0,
              "#0d0887"
             ],
             [
              0.1111111111111111,
              "#46039f"
             ],
             [
              0.2222222222222222,
              "#7201a8"
             ],
             [
              0.3333333333333333,
              "#9c179e"
             ],
             [
              0.4444444444444444,
              "#bd3786"
             ],
             [
              0.5555555555555556,
              "#d8576b"
             ],
             [
              0.6666666666666666,
              "#ed7953"
             ],
             [
              0.7777777777777778,
              "#fb9f3a"
             ],
             [
              0.8888888888888888,
              "#fdca26"
             ],
             [
              1,
              "#f0f921"
             ]
            ],
            "type": "histogram2dcontour"
           }
          ],
          "mesh3d": [
           {
            "colorbar": {
             "outlinewidth": 0,
             "ticks": ""
            },
            "type": "mesh3d"
           }
          ],
          "parcoords": [
           {
            "line": {
             "colorbar": {
              "outlinewidth": 0,
              "ticks": ""
             }
            },
            "type": "parcoords"
           }
          ],
          "pie": [
           {
            "automargin": true,
            "type": "pie"
           }
          ],
          "scatter": [
           {
            "fillpattern": {
             "fillmode": "overlay",
             "size": 10,
             "solidity": 0.2
            },
            "type": "scatter"
           }
          ],
          "scatter3d": [
           {
            "line": {
             "colorbar": {
              "outlinewidth": 0,
              "ticks": ""
             }
            },
            "marker": {
             "colorbar": {
              "outlinewidth": 0,
              "ticks": ""
             }
            },
            "type": "scatter3d"
           }
          ],
          "scattercarpet": [
           {
            "marker": {
             "colorbar": {
              "outlinewidth": 0,
              "ticks": ""
             }
            },
            "type": "scattercarpet"
           }
          ],
          "scattergeo": [
           {
            "marker": {
             "colorbar": {
              "outlinewidth": 0,
              "ticks": ""
             }
            },
            "type": "scattergeo"
           }
          ],
          "scattergl": [
           {
            "marker": {
             "colorbar": {
              "outlinewidth": 0,
              "ticks": ""
             }
            },
            "type": "scattergl"
           }
          ],
          "scattermap": [
           {
            "marker": {
             "colorbar": {
              "outlinewidth": 0,
              "ticks": ""
             }
            },
            "type": "scattermap"
           }
          ],
          "scattermapbox": [
           {
            "marker": {
             "colorbar": {
              "outlinewidth": 0,
              "ticks": ""
             }
            },
            "type": "scattermapbox"
           }
          ],
          "scatterpolar": [
           {
            "marker": {
             "colorbar": {
              "outlinewidth": 0,
              "ticks": ""
             }
            },
            "type": "scatterpolar"
           }
          ],
          "scatterpolargl": [
           {
            "marker": {
             "colorbar": {
              "outlinewidth": 0,
              "ticks": ""
             }
            },
            "type": "scatterpolargl"
           }
          ],
          "scatterternary": [
           {
            "marker": {
             "colorbar": {
              "outlinewidth": 0,
              "ticks": ""
             }
            },
            "type": "scatterternary"
           }
          ],
          "surface": [
           {
            "colorbar": {
             "outlinewidth": 0,
             "ticks": ""
            },
            "colorscale": [
             [
              0,
              "#0d0887"
             ],
             [
              0.1111111111111111,
              "#46039f"
             ],
             [
              0.2222222222222222,
              "#7201a8"
             ],
             [
              0.3333333333333333,
              "#9c179e"
             ],
             [
              0.4444444444444444,
              "#bd3786"
             ],
             [
              0.5555555555555556,
              "#d8576b"
             ],
             [
              0.6666666666666666,
              "#ed7953"
             ],
             [
              0.7777777777777778,
              "#fb9f3a"
             ],
             [
              0.8888888888888888,
              "#fdca26"
             ],
             [
              1,
              "#f0f921"
             ]
            ],
            "type": "surface"
           }
          ],
          "table": [
           {
            "cells": {
             "fill": {
              "color": "#EBF0F8"
             },
             "line": {
              "color": "white"
             }
            },
            "header": {
             "fill": {
              "color": "#C8D4E3"
             },
             "line": {
              "color": "white"
             }
            },
            "type": "table"
           }
          ]
         },
         "layout": {
          "annotationdefaults": {
           "arrowcolor": "#2a3f5f",
           "arrowhead": 0,
           "arrowwidth": 1
          },
          "autotypenumbers": "strict",
          "coloraxis": {
           "colorbar": {
            "outlinewidth": 0,
            "ticks": ""
           }
          },
          "colorscale": {
           "diverging": [
            [
             0,
             "#8e0152"
            ],
            [
             0.1,
             "#c51b7d"
            ],
            [
             0.2,
             "#de77ae"
            ],
            [
             0.3,
             "#f1b6da"
            ],
            [
             0.4,
             "#fde0ef"
            ],
            [
             0.5,
             "#f7f7f7"
            ],
            [
             0.6,
             "#e6f5d0"
            ],
            [
             0.7,
             "#b8e186"
            ],
            [
             0.8,
             "#7fbc41"
            ],
            [
             0.9,
             "#4d9221"
            ],
            [
             1,
             "#276419"
            ]
           ],
           "sequential": [
            [
             0,
             "#0d0887"
            ],
            [
             0.1111111111111111,
             "#46039f"
            ],
            [
             0.2222222222222222,
             "#7201a8"
            ],
            [
             0.3333333333333333,
             "#9c179e"
            ],
            [
             0.4444444444444444,
             "#bd3786"
            ],
            [
             0.5555555555555556,
             "#d8576b"
            ],
            [
             0.6666666666666666,
             "#ed7953"
            ],
            [
             0.7777777777777778,
             "#fb9f3a"
            ],
            [
             0.8888888888888888,
             "#fdca26"
            ],
            [
             1,
             "#f0f921"
            ]
           ],
           "sequentialminus": [
            [
             0,
             "#0d0887"
            ],
            [
             0.1111111111111111,
             "#46039f"
            ],
            [
             0.2222222222222222,
             "#7201a8"
            ],
            [
             0.3333333333333333,
             "#9c179e"
            ],
            [
             0.4444444444444444,
             "#bd3786"
            ],
            [
             0.5555555555555556,
             "#d8576b"
            ],
            [
             0.6666666666666666,
             "#ed7953"
            ],
            [
             0.7777777777777778,
             "#fb9f3a"
            ],
            [
             0.8888888888888888,
             "#fdca26"
            ],
            [
             1,
             "#f0f921"
            ]
           ]
          },
          "colorway": [
           "#636efa",
           "#EF553B",
           "#00cc96",
           "#ab63fa",
           "#FFA15A",
           "#19d3f3",
           "#FF6692",
           "#B6E880",
           "#FF97FF",
           "#FECB52"
          ],
          "font": {
           "color": "#2a3f5f"
          },
          "geo": {
           "bgcolor": "white",
           "lakecolor": "white",
           "landcolor": "#E5ECF6",
           "showlakes": true,
           "showland": true,
           "subunitcolor": "white"
          },
          "hoverlabel": {
           "align": "left"
          },
          "hovermode": "closest",
          "mapbox": {
           "style": "light"
          },
          "paper_bgcolor": "white",
          "plot_bgcolor": "#E5ECF6",
          "polar": {
           "angularaxis": {
            "gridcolor": "white",
            "linecolor": "white",
            "ticks": ""
           },
           "bgcolor": "#E5ECF6",
           "radialaxis": {
            "gridcolor": "white",
            "linecolor": "white",
            "ticks": ""
           }
          },
          "scene": {
           "xaxis": {
            "backgroundcolor": "#E5ECF6",
            "gridcolor": "white",
            "gridwidth": 2,
            "linecolor": "white",
            "showbackground": true,
            "ticks": "",
            "zerolinecolor": "white"
           },
           "yaxis": {
            "backgroundcolor": "#E5ECF6",
            "gridcolor": "white",
            "gridwidth": 2,
            "linecolor": "white",
            "showbackground": true,
            "ticks": "",
            "zerolinecolor": "white"
           },
           "zaxis": {
            "backgroundcolor": "#E5ECF6",
            "gridcolor": "white",
            "gridwidth": 2,
            "linecolor": "white",
            "showbackground": true,
            "ticks": "",
            "zerolinecolor": "white"
           }
          },
          "shapedefaults": {
           "line": {
            "color": "#2a3f5f"
           }
          },
          "ternary": {
           "aaxis": {
            "gridcolor": "white",
            "linecolor": "white",
            "ticks": ""
           },
           "baxis": {
            "gridcolor": "white",
            "linecolor": "white",
            "ticks": ""
           },
           "bgcolor": "#E5ECF6",
           "caxis": {
            "gridcolor": "white",
            "linecolor": "white",
            "ticks": ""
           }
          },
          "title": {
           "x": 0.05
          },
          "xaxis": {
           "automargin": true,
           "gridcolor": "white",
           "linecolor": "white",
           "ticks": "",
           "title": {
            "standoff": 15
           },
           "zerolinecolor": "white",
           "zerolinewidth": 2
          },
          "yaxis": {
           "automargin": true,
           "gridcolor": "white",
           "linecolor": "white",
           "ticks": "",
           "title": {
            "standoff": 15
           },
           "zerolinecolor": "white",
           "zerolinewidth": 2
          }
         }
        },
        "title": {
         "font": {
          "size": 20
         },
         "text": "Top 10 Districts with Highest Reviews per Listing"
        },
        "xaxis": {
         "anchor": "y",
         "domain": [
          0,
          1
         ],
         "tickangle": -45,
         "title": {
          "text": "District"
         }
        },
        "yaxis": {
         "anchor": "x",
         "domain": [
          0,
          1
         ],
         "title": {
          "text": "Reviews per Listing"
         }
        }
       }
      }
     },
     "metadata": {},
     "output_type": "display_data"
    }
   ],
   "source": [
    "# Calculate total listings and total reviews per district\n",
    "distrik_review = df.groupby('neighbourhood').agg(\n",
    "    total_listing=('id', 'count'),\n",
    "    total_review=('number_of_reviews', 'sum')\n",
    ").reset_index()\n",
    "\n",
    "# Calculate reviews per listing\n",
    "distrik_review['review_per_listing'] = distrik_review['total_review'] / distrik_review['total_listing']\n",
    "\n",
    "# Plot Top 10 districts by reviews per listing with pink color scale\n",
    "fig = px.bar(\n",
    "    distrik_review.sort_values(by='review_per_listing', ascending=False).head(10),\n",
    "    x='neighbourhood',\n",
    "    y='review_per_listing',\n",
    "    title='Top 10 Districts with Highest Reviews per Listing',\n",
    "    labels={\n",
    "        'neighbourhood': 'District',\n",
    "        'review_per_listing': 'Reviews per Listing'\n",
    "    },\n",
    "    color='review_per_listing',\n",
    "    color_continuous_scale=['#ffe0ec', '#f9b3d1', '#f47fb7', '#ec4b9e', '#d91377']  # pink gradient\n",
    ")\n",
    "\n",
    "fig.update_layout(\n",
    "    xaxis_tickangle=-45,\n",
    "    plot_bgcolor='white',\n",
    "    title_font_size=20\n",
    ")\n",
    "\n",
    "fig.show()"
   ]
  },
  {
   "cell_type": "markdown",
   "id": "693a6c67",
   "metadata": {},
   "source": [
    "#### Key Insights\n",
    "\n",
    "1. **Listings are Highly Concentrated in Central Districts**  \n",
    "   Districts like **Watthana**, **Khlong Toei**, and **Ratchathewi** have the highest number of Airbnb listings, driven by tourist demand and accessibility.\n",
    "\n",
    "2. **Outer Districts Have Untapped Potential**  \n",
    "   Many outer districts have very few listings despite having infrastructure, showing opportunities for market expansion.\n",
    "\n",
    "3. **Some Districts Show High Guest Engagement**  \n",
    "   Districts such as **Pom Prap Sattru Phai**, **Phaya Thai**, and **Sathon** have the highest number of **reviews per listing**, suggesting **high guest satisfaction or occupancy rates**, despite not being the top in total listings.\n",
    "\n",
    "---\n",
    "\n",
    "#### Recommendations\n",
    "\n",
    "1. **Promote Alternative Districts to Reduce Central Overload**  \n",
    "   Encourage growth in mid-tier districts like **Huai Khwang** or **Phaya Thai** to ease pressure on central areas.\n",
    "\n",
    "2. **Provide Incentives in Underrepresented Areas**  \n",
    "   Support new hosts in low-listing districts with **marketing help, fee discounts, or local collaborations** to increase listing diversity across Bangkok.\n",
    "\n",
    "3. **Leverage High-Review Districts for Quality Listings**  \n",
    "   Focus on promoting listings in high-review districts like **Pom Prap Sattru Phai** and **Phaya Thai** as **premium or high-trust options**, and analyze their practices to replicate success in other areas."
   ]
  },
  {
   "cell_type": "markdown",
   "id": "0a2de27d",
   "metadata": {},
   "source": [
    "### 2. Ideal Price Range Based on Number of Reviews"
   ]
  },
  {
   "cell_type": "code",
   "execution_count": 33,
   "id": "edad93ef",
   "metadata": {},
   "outputs": [
    {
     "data": {
      "application/vnd.plotly.v1+json": {
       "config": {
        "plotlyServerURL": "https://plot.ly"
       },
       "data": [
        {
         "hovertemplate": "Price Range (Baht)=%{x}<br>Total Reviews=%{y}<extra></extra>",
         "legendgroup": "",
         "marker": {
          "color": "#FFC0CB",
          "pattern": {
           "shape": ""
          }
         },
         "name": "",
         "orientation": "v",
         "showlegend": false,
         "textposition": "auto",
         "texttemplate": "%{y}",
         "type": "bar",
         "x": [
          "0 - 1000",
          "1000 - 2000",
          "2000 - 3000",
          "3000 - 4000",
          "4000 - 5000",
          "5000 - 6000",
          "6000 - 7000",
          "7000 - 8000",
          "8000 - 9000",
          "9000 - 10000"
         ],
         "xaxis": "x",
         "y": {
          "bdata": "nCcBAD+hAQC8lQAAAUgAAPciAACqEQAAegoAABsHAADXBQAAgAMAAA==",
          "dtype": "i4"
         },
         "yaxis": "y"
        }
       ],
       "layout": {
        "barmode": "relative",
        "legend": {
         "tracegroupgap": 0
        },
        "plot_bgcolor": "white",
        "template": {
         "data": {
          "bar": [
           {
            "error_x": {
             "color": "#2a3f5f"
            },
            "error_y": {
             "color": "#2a3f5f"
            },
            "marker": {
             "line": {
              "color": "#E5ECF6",
              "width": 0.5
             },
             "pattern": {
              "fillmode": "overlay",
              "size": 10,
              "solidity": 0.2
             }
            },
            "type": "bar"
           }
          ],
          "barpolar": [
           {
            "marker": {
             "line": {
              "color": "#E5ECF6",
              "width": 0.5
             },
             "pattern": {
              "fillmode": "overlay",
              "size": 10,
              "solidity": 0.2
             }
            },
            "type": "barpolar"
           }
          ],
          "carpet": [
           {
            "aaxis": {
             "endlinecolor": "#2a3f5f",
             "gridcolor": "white",
             "linecolor": "white",
             "minorgridcolor": "white",
             "startlinecolor": "#2a3f5f"
            },
            "baxis": {
             "endlinecolor": "#2a3f5f",
             "gridcolor": "white",
             "linecolor": "white",
             "minorgridcolor": "white",
             "startlinecolor": "#2a3f5f"
            },
            "type": "carpet"
           }
          ],
          "choropleth": [
           {
            "colorbar": {
             "outlinewidth": 0,
             "ticks": ""
            },
            "type": "choropleth"
           }
          ],
          "contour": [
           {
            "colorbar": {
             "outlinewidth": 0,
             "ticks": ""
            },
            "colorscale": [
             [
              0,
              "#0d0887"
             ],
             [
              0.1111111111111111,
              "#46039f"
             ],
             [
              0.2222222222222222,
              "#7201a8"
             ],
             [
              0.3333333333333333,
              "#9c179e"
             ],
             [
              0.4444444444444444,
              "#bd3786"
             ],
             [
              0.5555555555555556,
              "#d8576b"
             ],
             [
              0.6666666666666666,
              "#ed7953"
             ],
             [
              0.7777777777777778,
              "#fb9f3a"
             ],
             [
              0.8888888888888888,
              "#fdca26"
             ],
             [
              1,
              "#f0f921"
             ]
            ],
            "type": "contour"
           }
          ],
          "contourcarpet": [
           {
            "colorbar": {
             "outlinewidth": 0,
             "ticks": ""
            },
            "type": "contourcarpet"
           }
          ],
          "heatmap": [
           {
            "colorbar": {
             "outlinewidth": 0,
             "ticks": ""
            },
            "colorscale": [
             [
              0,
              "#0d0887"
             ],
             [
              0.1111111111111111,
              "#46039f"
             ],
             [
              0.2222222222222222,
              "#7201a8"
             ],
             [
              0.3333333333333333,
              "#9c179e"
             ],
             [
              0.4444444444444444,
              "#bd3786"
             ],
             [
              0.5555555555555556,
              "#d8576b"
             ],
             [
              0.6666666666666666,
              "#ed7953"
             ],
             [
              0.7777777777777778,
              "#fb9f3a"
             ],
             [
              0.8888888888888888,
              "#fdca26"
             ],
             [
              1,
              "#f0f921"
             ]
            ],
            "type": "heatmap"
           }
          ],
          "histogram": [
           {
            "marker": {
             "pattern": {
              "fillmode": "overlay",
              "size": 10,
              "solidity": 0.2
             }
            },
            "type": "histogram"
           }
          ],
          "histogram2d": [
           {
            "colorbar": {
             "outlinewidth": 0,
             "ticks": ""
            },
            "colorscale": [
             [
              0,
              "#0d0887"
             ],
             [
              0.1111111111111111,
              "#46039f"
             ],
             [
              0.2222222222222222,
              "#7201a8"
             ],
             [
              0.3333333333333333,
              "#9c179e"
             ],
             [
              0.4444444444444444,
              "#bd3786"
             ],
             [
              0.5555555555555556,
              "#d8576b"
             ],
             [
              0.6666666666666666,
              "#ed7953"
             ],
             [
              0.7777777777777778,
              "#fb9f3a"
             ],
             [
              0.8888888888888888,
              "#fdca26"
             ],
             [
              1,
              "#f0f921"
             ]
            ],
            "type": "histogram2d"
           }
          ],
          "histogram2dcontour": [
           {
            "colorbar": {
             "outlinewidth": 0,
             "ticks": ""
            },
            "colorscale": [
             [
              0,
              "#0d0887"
             ],
             [
              0.1111111111111111,
              "#46039f"
             ],
             [
              0.2222222222222222,
              "#7201a8"
             ],
             [
              0.3333333333333333,
              "#9c179e"
             ],
             [
              0.4444444444444444,
              "#bd3786"
             ],
             [
              0.5555555555555556,
              "#d8576b"
             ],
             [
              0.6666666666666666,
              "#ed7953"
             ],
             [
              0.7777777777777778,
              "#fb9f3a"
             ],
             [
              0.8888888888888888,
              "#fdca26"
             ],
             [
              1,
              "#f0f921"
             ]
            ],
            "type": "histogram2dcontour"
           }
          ],
          "mesh3d": [
           {
            "colorbar": {
             "outlinewidth": 0,
             "ticks": ""
            },
            "type": "mesh3d"
           }
          ],
          "parcoords": [
           {
            "line": {
             "colorbar": {
              "outlinewidth": 0,
              "ticks": ""
             }
            },
            "type": "parcoords"
           }
          ],
          "pie": [
           {
            "automargin": true,
            "type": "pie"
           }
          ],
          "scatter": [
           {
            "fillpattern": {
             "fillmode": "overlay",
             "size": 10,
             "solidity": 0.2
            },
            "type": "scatter"
           }
          ],
          "scatter3d": [
           {
            "line": {
             "colorbar": {
              "outlinewidth": 0,
              "ticks": ""
             }
            },
            "marker": {
             "colorbar": {
              "outlinewidth": 0,
              "ticks": ""
             }
            },
            "type": "scatter3d"
           }
          ],
          "scattercarpet": [
           {
            "marker": {
             "colorbar": {
              "outlinewidth": 0,
              "ticks": ""
             }
            },
            "type": "scattercarpet"
           }
          ],
          "scattergeo": [
           {
            "marker": {
             "colorbar": {
              "outlinewidth": 0,
              "ticks": ""
             }
            },
            "type": "scattergeo"
           }
          ],
          "scattergl": [
           {
            "marker": {
             "colorbar": {
              "outlinewidth": 0,
              "ticks": ""
             }
            },
            "type": "scattergl"
           }
          ],
          "scattermap": [
           {
            "marker": {
             "colorbar": {
              "outlinewidth": 0,
              "ticks": ""
             }
            },
            "type": "scattermap"
           }
          ],
          "scattermapbox": [
           {
            "marker": {
             "colorbar": {
              "outlinewidth": 0,
              "ticks": ""
             }
            },
            "type": "scattermapbox"
           }
          ],
          "scatterpolar": [
           {
            "marker": {
             "colorbar": {
              "outlinewidth": 0,
              "ticks": ""
             }
            },
            "type": "scatterpolar"
           }
          ],
          "scatterpolargl": [
           {
            "marker": {
             "colorbar": {
              "outlinewidth": 0,
              "ticks": ""
             }
            },
            "type": "scatterpolargl"
           }
          ],
          "scatterternary": [
           {
            "marker": {
             "colorbar": {
              "outlinewidth": 0,
              "ticks": ""
             }
            },
            "type": "scatterternary"
           }
          ],
          "surface": [
           {
            "colorbar": {
             "outlinewidth": 0,
             "ticks": ""
            },
            "colorscale": [
             [
              0,
              "#0d0887"
             ],
             [
              0.1111111111111111,
              "#46039f"
             ],
             [
              0.2222222222222222,
              "#7201a8"
             ],
             [
              0.3333333333333333,
              "#9c179e"
             ],
             [
              0.4444444444444444,
              "#bd3786"
             ],
             [
              0.5555555555555556,
              "#d8576b"
             ],
             [
              0.6666666666666666,
              "#ed7953"
             ],
             [
              0.7777777777777778,
              "#fb9f3a"
             ],
             [
              0.8888888888888888,
              "#fdca26"
             ],
             [
              1,
              "#f0f921"
             ]
            ],
            "type": "surface"
           }
          ],
          "table": [
           {
            "cells": {
             "fill": {
              "color": "#EBF0F8"
             },
             "line": {
              "color": "white"
             }
            },
            "header": {
             "fill": {
              "color": "#C8D4E3"
             },
             "line": {
              "color": "white"
             }
            },
            "type": "table"
           }
          ]
         },
         "layout": {
          "annotationdefaults": {
           "arrowcolor": "#2a3f5f",
           "arrowhead": 0,
           "arrowwidth": 1
          },
          "autotypenumbers": "strict",
          "coloraxis": {
           "colorbar": {
            "outlinewidth": 0,
            "ticks": ""
           }
          },
          "colorscale": {
           "diverging": [
            [
             0,
             "#8e0152"
            ],
            [
             0.1,
             "#c51b7d"
            ],
            [
             0.2,
             "#de77ae"
            ],
            [
             0.3,
             "#f1b6da"
            ],
            [
             0.4,
             "#fde0ef"
            ],
            [
             0.5,
             "#f7f7f7"
            ],
            [
             0.6,
             "#e6f5d0"
            ],
            [
             0.7,
             "#b8e186"
            ],
            [
             0.8,
             "#7fbc41"
            ],
            [
             0.9,
             "#4d9221"
            ],
            [
             1,
             "#276419"
            ]
           ],
           "sequential": [
            [
             0,
             "#0d0887"
            ],
            [
             0.1111111111111111,
             "#46039f"
            ],
            [
             0.2222222222222222,
             "#7201a8"
            ],
            [
             0.3333333333333333,
             "#9c179e"
            ],
            [
             0.4444444444444444,
             "#bd3786"
            ],
            [
             0.5555555555555556,
             "#d8576b"
            ],
            [
             0.6666666666666666,
             "#ed7953"
            ],
            [
             0.7777777777777778,
             "#fb9f3a"
            ],
            [
             0.8888888888888888,
             "#fdca26"
            ],
            [
             1,
             "#f0f921"
            ]
           ],
           "sequentialminus": [
            [
             0,
             "#0d0887"
            ],
            [
             0.1111111111111111,
             "#46039f"
            ],
            [
             0.2222222222222222,
             "#7201a8"
            ],
            [
             0.3333333333333333,
             "#9c179e"
            ],
            [
             0.4444444444444444,
             "#bd3786"
            ],
            [
             0.5555555555555556,
             "#d8576b"
            ],
            [
             0.6666666666666666,
             "#ed7953"
            ],
            [
             0.7777777777777778,
             "#fb9f3a"
            ],
            [
             0.8888888888888888,
             "#fdca26"
            ],
            [
             1,
             "#f0f921"
            ]
           ]
          },
          "colorway": [
           "#636efa",
           "#EF553B",
           "#00cc96",
           "#ab63fa",
           "#FFA15A",
           "#19d3f3",
           "#FF6692",
           "#B6E880",
           "#FF97FF",
           "#FECB52"
          ],
          "font": {
           "color": "#2a3f5f"
          },
          "geo": {
           "bgcolor": "white",
           "lakecolor": "white",
           "landcolor": "#E5ECF6",
           "showlakes": true,
           "showland": true,
           "subunitcolor": "white"
          },
          "hoverlabel": {
           "align": "left"
          },
          "hovermode": "closest",
          "mapbox": {
           "style": "light"
          },
          "paper_bgcolor": "white",
          "plot_bgcolor": "#E5ECF6",
          "polar": {
           "angularaxis": {
            "gridcolor": "white",
            "linecolor": "white",
            "ticks": ""
           },
           "bgcolor": "#E5ECF6",
           "radialaxis": {
            "gridcolor": "white",
            "linecolor": "white",
            "ticks": ""
           }
          },
          "scene": {
           "xaxis": {
            "backgroundcolor": "#E5ECF6",
            "gridcolor": "white",
            "gridwidth": 2,
            "linecolor": "white",
            "showbackground": true,
            "ticks": "",
            "zerolinecolor": "white"
           },
           "yaxis": {
            "backgroundcolor": "#E5ECF6",
            "gridcolor": "white",
            "gridwidth": 2,
            "linecolor": "white",
            "showbackground": true,
            "ticks": "",
            "zerolinecolor": "white"
           },
           "zaxis": {
            "backgroundcolor": "#E5ECF6",
            "gridcolor": "white",
            "gridwidth": 2,
            "linecolor": "white",
            "showbackground": true,
            "ticks": "",
            "zerolinecolor": "white"
           }
          },
          "shapedefaults": {
           "line": {
            "color": "#2a3f5f"
           }
          },
          "ternary": {
           "aaxis": {
            "gridcolor": "white",
            "linecolor": "white",
            "ticks": ""
           },
           "baxis": {
            "gridcolor": "white",
            "linecolor": "white",
            "ticks": ""
           },
           "bgcolor": "#E5ECF6",
           "caxis": {
            "gridcolor": "white",
            "linecolor": "white",
            "ticks": ""
           }
          },
          "title": {
           "x": 0.05
          },
          "xaxis": {
           "automargin": true,
           "gridcolor": "white",
           "linecolor": "white",
           "ticks": "",
           "title": {
            "standoff": 15
           },
           "zerolinecolor": "white",
           "zerolinewidth": 2
          },
          "yaxis": {
           "automargin": true,
           "gridcolor": "white",
           "linecolor": "white",
           "ticks": "",
           "title": {
            "standoff": 15
           },
           "zerolinecolor": "white",
           "zerolinewidth": 2
          }
         }
        },
        "title": {
         "font": {
          "size": 20
         },
         "text": "Total Number of Reviews by Price Range (per 1000 Baht)"
        },
        "xaxis": {
         "anchor": "y",
         "domain": [
          0,
          1
         ],
         "tickangle": -45,
         "title": {
          "text": "Price Range (Baht)"
         }
        },
        "yaxis": {
         "anchor": "x",
         "domain": [
          0,
          1
         ],
         "title": {
          "text": "Total Reviews"
         }
        }
       }
      }
     },
     "metadata": {},
     "output_type": "display_data"
    }
   ],
   "source": [
    "# Determine the maximum price\n",
    "max_price = df['price'].max()\n",
    "\n",
    "# Create bins with 1000 Baht increments up to the max price (+1000 to ensure all values are included)\n",
    "bins = list(range(0, int(np.ceil(max_price / 1000) * 1000) + 1000, 1000))\n",
    "\n",
    "# Define labels for each price range\n",
    "labels = [f'{bins[i]} - {bins[i+1]}' for i in range(len(bins) - 1)]\n",
    "\n",
    "# Bin the prices into defined ranges\n",
    "df['price_range'] = pd.cut(df['price'], bins=bins, labels=labels, right=False)\n",
    "\n",
    "# Group and sum total reviews per price range\n",
    "grouped = df.groupby('price_range', observed=True)['number_of_reviews'].sum().reset_index()\n",
    "\n",
    "# Plot using Plotly with a pink color palette\n",
    "fig = px.bar(\n",
    "    grouped,\n",
    "    x='price_range',\n",
    "    y='number_of_reviews',\n",
    "    title='Total Number of Reviews by Price Range (per 1000 Baht)',\n",
    "    labels={\n",
    "        'price_range': 'Price Range (Baht)',\n",
    "        'number_of_reviews': 'Total Reviews'\n",
    "    },\n",
    "    text_auto=True,\n",
    "    color_discrete_sequence=['#FFC0CB']  # Light pink\n",
    ")\n",
    "\n",
    "fig.update_layout(\n",
    "    xaxis_tickangle=-45,\n",
    "    plot_bgcolor='white',\n",
    "    title_font_size=20\n",
    ")\n",
    "\n",
    "fig.show()"
   ]
  },
  {
   "cell_type": "markdown",
   "id": "bcc4e84f",
   "metadata": {},
   "source": [
    "#### Insight\n",
    "1.\tHigh Review Volume in Lower Price Ranges\n",
    "Listings priced between 0–2000 Baht dominate in review counts, indicating that budget to mid-range accommodations are the most popular among users.\n",
    "2.\tVery Low Engagement in High-End Listings (>5000 Baht)\n",
    "Listings priced above 5000 Baht received very few reviews, suggesting limited demand or low booking frequency in the premium segment.\n",
    "\n",
    "---\n",
    "\n",
    "#### Recommendation\n",
    "1.\tFocus on Competitive Mid-Range Listings\n",
    "Optimize and promote listings in the 1000–2000 Baht range, which shows the highest customer interest. Enhancing quality and value here can lead to higher occupancy and better reviews.\n",
    "2.\tImprove Premium Listings’ Appeal\n",
    "For high-priced listings, highlight exclusive amenities (e.g., private pools, scenic views) and consider dynamic pricing or promotional offers to increase attractiveness and booking rates."
   ]
  },
  {
   "cell_type": "code",
   "execution_count": 34,
   "id": "745e0db9",
   "metadata": {},
   "outputs": [
    {
     "data": {
      "text/html": [
       "<div>\n",
       "<style scoped>\n",
       "    .dataframe tbody tr th:only-of-type {\n",
       "        vertical-align: middle;\n",
       "    }\n",
       "\n",
       "    .dataframe tbody tr th {\n",
       "        vertical-align: top;\n",
       "    }\n",
       "\n",
       "    .dataframe thead th {\n",
       "        text-align: right;\n",
       "    }\n",
       "</style>\n",
       "<table border=\"1\" class=\"dataframe\">\n",
       "  <thead>\n",
       "    <tr style=\"text-align: right;\">\n",
       "      <th></th>\n",
       "      <th>price</th>\n",
       "      <th>number_of_reviews</th>\n",
       "    </tr>\n",
       "  </thead>\n",
       "  <tbody>\n",
       "    <tr>\n",
       "      <th>price</th>\n",
       "      <td>1.000000</td>\n",
       "      <td>-0.007376</td>\n",
       "    </tr>\n",
       "    <tr>\n",
       "      <th>number_of_reviews</th>\n",
       "      <td>-0.007376</td>\n",
       "      <td>1.000000</td>\n",
       "    </tr>\n",
       "  </tbody>\n",
       "</table>\n",
       "</div>"
      ],
      "text/plain": [
       "                      price  number_of_reviews\n",
       "price              1.000000          -0.007376\n",
       "number_of_reviews -0.007376           1.000000"
      ]
     },
     "execution_count": 34,
     "metadata": {},
     "output_type": "execute_result"
    }
   ],
   "source": [
    "df[['price', 'number_of_reviews']].corr(method='spearman')"
   ]
  },
  {
   "cell_type": "code",
   "execution_count": 35,
   "id": "cf0ec3c3",
   "metadata": {},
   "outputs": [
    {
     "data": {
      "text/plain": [
       "SignificanceResult(statistic=-0.007376303204286715, pvalue=0.35889090616692565)"
      ]
     },
     "execution_count": 35,
     "metadata": {},
     "output_type": "execute_result"
    }
   ],
   "source": [
    "from scipy.stats import spearmanr\n",
    "spearmanr(df['price'], df['number_of_reviews'])"
   ]
  },
  {
   "cell_type": "markdown",
   "id": "352510c8",
   "metadata": {},
   "source": [
    "#### Interpretation (Spearman Correlation)\n",
    "1.\tVery Weak Negative Correlation\n",
    "The Spearman correlation coefficient is -0.0074, indicating almost no monotonic relationship between price and number of reviews. In other words, changes in price are not associated with consistent increases or decreases in the number of reviews.\n",
    "2.\tStatistically Not Significant\n",
    "The p-value is 0.3589 (> 0.05), suggesting that the correlation is not statistically significant. We fail to reject the null hypothesis, meaning there is no meaningful monotonic correlation between price and number of reviews in this dataset.\n"
   ]
  },
  {
   "cell_type": "markdown",
   "id": "4cdf79d8",
   "metadata": {},
   "source": [
    "### 3. Monthly Review Counts by Year"
   ]
  },
  {
   "cell_type": "code",
   "execution_count": 36,
   "id": "3003c1d0",
   "metadata": {},
   "outputs": [
    {
     "data": {
      "application/vnd.plotly.v1+json": {
       "config": {
        "plotlyServerURL": "https://plot.ly"
       },
       "data": [
        {
         "line": {
          "color": "pink",
          "width": 2
         },
         "marker": {
          "size": 6
         },
         "mode": "lines+markers",
         "showlegend": false,
         "type": "scatter",
         "x": [
          "Jan",
          "Feb",
          "Mar",
          "Apr",
          "May",
          "Jun",
          "Jul",
          "Aug",
          "Sep",
          "Oct",
          "Nov",
          "Dec"
         ],
         "xaxis": "x",
         "y": {
          "bdata": "BAMCBAICAgUFBQQL",
          "dtype": "i1"
         },
         "yaxis": "y"
        },
        {
         "line": {
          "color": "pink",
          "width": 2
         },
         "marker": {
          "size": 6
         },
         "mode": "lines+markers",
         "showlegend": false,
         "type": "scatter",
         "x": [
          "Jan",
          "Feb",
          "Mar",
          "Apr",
          "May",
          "Jun",
          "Jul",
          "Aug",
          "Sep",
          "Oct",
          "Nov",
          "Dec"
         ],
         "xaxis": "x2",
         "y": {
          "bdata": "DQ0NCAgICAkQCQwe",
          "dtype": "i1"
         },
         "yaxis": "y2"
        },
        {
         "line": {
          "color": "pink",
          "width": 2
         },
         "marker": {
          "size": 6
         },
         "mode": "lines+markers",
         "showlegend": false,
         "type": "scatter",
         "x": [
          "Jan",
          "Feb",
          "Mar",
          "Apr",
          "May",
          "Jun",
          "Jul",
          "Aug",
          "Sep",
          "Oct",
          "Nov",
          "Dec"
         ],
         "xaxis": "x3",
         "y": {
          "bdata": "FBEOHQ4LFR0SExQy",
          "dtype": "i1"
         },
         "yaxis": "y3"
        },
        {
         "line": {
          "color": "pink",
          "width": 2
         },
         "marker": {
          "size": 6
         },
         "mode": "lines+markers",
         "showlegend": false,
         "type": "scatter",
         "x": [
          "Jan",
          "Feb",
          "Mar",
          "Apr",
          "May",
          "Jun",
          "Jul",
          "Aug",
          "Sep",
          "Oct",
          "Nov",
          "Dec"
         ],
         "xaxis": "x4",
         "y": {
          "bdata": "KTUaJx8cICIZKShS",
          "dtype": "i1"
         },
         "yaxis": "y4"
        },
        {
         "line": {
          "color": "pink",
          "width": 2
         },
         "marker": {
          "size": 6
         },
         "mode": "lines+markers",
         "showlegend": false,
         "type": "scatter",
         "x": [
          "Jan",
          "Feb",
          "Mar",
          "Apr",
          "May",
          "Jun",
          "Jul",
          "Aug",
          "Sep",
          "Oct",
          "Nov",
          "Dec"
         ],
         "xaxis": "x5",
         "y": {
          "bdata": "eQBZADwAWAA4ADgATgBIADwANgBGALoA",
          "dtype": "i2"
         },
         "yaxis": "y5"
        },
        {
         "line": {
          "color": "pink",
          "width": 2
         },
         "marker": {
          "size": 6
         },
         "mode": "lines+markers",
         "showlegend": false,
         "type": "scatter",
         "x": [
          "Jan",
          "Feb",
          "Mar",
          "Apr",
          "May",
          "Jun",
          "Jul",
          "Aug",
          "Sep",
          "Oct",
          "Nov",
          "Dec"
         ],
         "xaxis": "x6",
         "y": {
          "bdata": "XQEpAUkBMgAaABMAHQAfABwAFgAOABAA",
          "dtype": "i2"
         },
         "yaxis": "y6"
        },
        {
         "line": {
          "color": "pink",
          "width": 2
         },
         "marker": {
          "size": 6
         },
         "mode": "lines+markers",
         "showlegend": false,
         "type": "scatter",
         "x": [
          "Jan",
          "Feb",
          "Mar",
          "Apr",
          "May",
          "Jun",
          "Jul",
          "Aug",
          "Sep",
          "Oct",
          "Nov",
          "Dec"
         ],
         "xaxis": "x7",
         "y": {
          "bdata": "Cg4QEhIODg8PCxcf",
          "dtype": "i1"
         },
         "yaxis": "y7"
        },
        {
         "line": {
          "color": "pink",
          "width": 2
         },
         "marker": {
          "size": 6
         },
         "mode": "lines+markers",
         "showlegend": false,
         "type": "scatter",
         "x": [
          "Jan",
          "Feb",
          "Mar",
          "Apr",
          "May",
          "Jun",
          "Jul",
          "Aug",
          "Sep",
          "Oct",
          "Nov",
          "Dec"
         ],
         "xaxis": "x8",
         "y": {
          "bdata": "PAAgACoAPQBNAHcAzAAKAVwBJALsBcgM",
          "dtype": "i2"
         },
         "yaxis": "y8"
        }
       ],
       "layout": {
        "annotations": [
         {
          "font": {
           "size": 13
          },
          "showarrow": false,
          "text": "Year 2015",
          "x": 0.10625,
          "xanchor": "center",
          "xref": "paper",
          "y": 1,
          "yanchor": "bottom",
          "yref": "paper"
         },
         {
          "font": {
           "size": 13
          },
          "showarrow": false,
          "text": "Year 2016",
          "x": 0.36875,
          "xanchor": "center",
          "xref": "paper",
          "y": 1,
          "yanchor": "bottom",
          "yref": "paper"
         },
         {
          "font": {
           "size": 13
          },
          "showarrow": false,
          "text": "Year 2017",
          "x": 0.6312500000000001,
          "xanchor": "center",
          "xref": "paper",
          "y": 1,
          "yanchor": "bottom",
          "yref": "paper"
         },
         {
          "font": {
           "size": 13
          },
          "showarrow": false,
          "text": "Year 2018",
          "x": 0.89375,
          "xanchor": "center",
          "xref": "paper",
          "y": 1,
          "yanchor": "bottom",
          "yref": "paper"
         },
         {
          "font": {
           "size": 13
          },
          "showarrow": false,
          "text": "Year 2019",
          "x": 0.10625,
          "xanchor": "center",
          "xref": "paper",
          "y": 0.45,
          "yanchor": "bottom",
          "yref": "paper"
         },
         {
          "font": {
           "size": 13
          },
          "showarrow": false,
          "text": "Year 2020",
          "x": 0.36875,
          "xanchor": "center",
          "xref": "paper",
          "y": 0.45,
          "yanchor": "bottom",
          "yref": "paper"
         },
         {
          "font": {
           "size": 13
          },
          "showarrow": false,
          "text": "Year 2021",
          "x": 0.6312500000000001,
          "xanchor": "center",
          "xref": "paper",
          "y": 0.45,
          "yanchor": "bottom",
          "yref": "paper"
         },
         {
          "font": {
           "size": 13
          },
          "showarrow": false,
          "text": "Year 2022",
          "x": 0.89375,
          "xanchor": "center",
          "xref": "paper",
          "y": 0.45,
          "yanchor": "bottom",
          "yref": "paper"
         }
        ],
        "height": 600,
        "margin": {
         "t": 80
        },
        "template": {
         "data": {
          "bar": [
           {
            "error_x": {
             "color": "#2a3f5f"
            },
            "error_y": {
             "color": "#2a3f5f"
            },
            "marker": {
             "line": {
              "color": "white",
              "width": 0.5
             },
             "pattern": {
              "fillmode": "overlay",
              "size": 10,
              "solidity": 0.2
             }
            },
            "type": "bar"
           }
          ],
          "barpolar": [
           {
            "marker": {
             "line": {
              "color": "white",
              "width": 0.5
             },
             "pattern": {
              "fillmode": "overlay",
              "size": 10,
              "solidity": 0.2
             }
            },
            "type": "barpolar"
           }
          ],
          "carpet": [
           {
            "aaxis": {
             "endlinecolor": "#2a3f5f",
             "gridcolor": "#C8D4E3",
             "linecolor": "#C8D4E3",
             "minorgridcolor": "#C8D4E3",
             "startlinecolor": "#2a3f5f"
            },
            "baxis": {
             "endlinecolor": "#2a3f5f",
             "gridcolor": "#C8D4E3",
             "linecolor": "#C8D4E3",
             "minorgridcolor": "#C8D4E3",
             "startlinecolor": "#2a3f5f"
            },
            "type": "carpet"
           }
          ],
          "choropleth": [
           {
            "colorbar": {
             "outlinewidth": 0,
             "ticks": ""
            },
            "type": "choropleth"
           }
          ],
          "contour": [
           {
            "colorbar": {
             "outlinewidth": 0,
             "ticks": ""
            },
            "colorscale": [
             [
              0,
              "#0d0887"
             ],
             [
              0.1111111111111111,
              "#46039f"
             ],
             [
              0.2222222222222222,
              "#7201a8"
             ],
             [
              0.3333333333333333,
              "#9c179e"
             ],
             [
              0.4444444444444444,
              "#bd3786"
             ],
             [
              0.5555555555555556,
              "#d8576b"
             ],
             [
              0.6666666666666666,
              "#ed7953"
             ],
             [
              0.7777777777777778,
              "#fb9f3a"
             ],
             [
              0.8888888888888888,
              "#fdca26"
             ],
             [
              1,
              "#f0f921"
             ]
            ],
            "type": "contour"
           }
          ],
          "contourcarpet": [
           {
            "colorbar": {
             "outlinewidth": 0,
             "ticks": ""
            },
            "type": "contourcarpet"
           }
          ],
          "heatmap": [
           {
            "colorbar": {
             "outlinewidth": 0,
             "ticks": ""
            },
            "colorscale": [
             [
              0,
              "#0d0887"
             ],
             [
              0.1111111111111111,
              "#46039f"
             ],
             [
              0.2222222222222222,
              "#7201a8"
             ],
             [
              0.3333333333333333,
              "#9c179e"
             ],
             [
              0.4444444444444444,
              "#bd3786"
             ],
             [
              0.5555555555555556,
              "#d8576b"
             ],
             [
              0.6666666666666666,
              "#ed7953"
             ],
             [
              0.7777777777777778,
              "#fb9f3a"
             ],
             [
              0.8888888888888888,
              "#fdca26"
             ],
             [
              1,
              "#f0f921"
             ]
            ],
            "type": "heatmap"
           }
          ],
          "histogram": [
           {
            "marker": {
             "pattern": {
              "fillmode": "overlay",
              "size": 10,
              "solidity": 0.2
             }
            },
            "type": "histogram"
           }
          ],
          "histogram2d": [
           {
            "colorbar": {
             "outlinewidth": 0,
             "ticks": ""
            },
            "colorscale": [
             [
              0,
              "#0d0887"
             ],
             [
              0.1111111111111111,
              "#46039f"
             ],
             [
              0.2222222222222222,
              "#7201a8"
             ],
             [
              0.3333333333333333,
              "#9c179e"
             ],
             [
              0.4444444444444444,
              "#bd3786"
             ],
             [
              0.5555555555555556,
              "#d8576b"
             ],
             [
              0.6666666666666666,
              "#ed7953"
             ],
             [
              0.7777777777777778,
              "#fb9f3a"
             ],
             [
              0.8888888888888888,
              "#fdca26"
             ],
             [
              1,
              "#f0f921"
             ]
            ],
            "type": "histogram2d"
           }
          ],
          "histogram2dcontour": [
           {
            "colorbar": {
             "outlinewidth": 0,
             "ticks": ""
            },
            "colorscale": [
             [
              0,
              "#0d0887"
             ],
             [
              0.1111111111111111,
              "#46039f"
             ],
             [
              0.2222222222222222,
              "#7201a8"
             ],
             [
              0.3333333333333333,
              "#9c179e"
             ],
             [
              0.4444444444444444,
              "#bd3786"
             ],
             [
              0.5555555555555556,
              "#d8576b"
             ],
             [
              0.6666666666666666,
              "#ed7953"
             ],
             [
              0.7777777777777778,
              "#fb9f3a"
             ],
             [
              0.8888888888888888,
              "#fdca26"
             ],
             [
              1,
              "#f0f921"
             ]
            ],
            "type": "histogram2dcontour"
           }
          ],
          "mesh3d": [
           {
            "colorbar": {
             "outlinewidth": 0,
             "ticks": ""
            },
            "type": "mesh3d"
           }
          ],
          "parcoords": [
           {
            "line": {
             "colorbar": {
              "outlinewidth": 0,
              "ticks": ""
             }
            },
            "type": "parcoords"
           }
          ],
          "pie": [
           {
            "automargin": true,
            "type": "pie"
           }
          ],
          "scatter": [
           {
            "fillpattern": {
             "fillmode": "overlay",
             "size": 10,
             "solidity": 0.2
            },
            "type": "scatter"
           }
          ],
          "scatter3d": [
           {
            "line": {
             "colorbar": {
              "outlinewidth": 0,
              "ticks": ""
             }
            },
            "marker": {
             "colorbar": {
              "outlinewidth": 0,
              "ticks": ""
             }
            },
            "type": "scatter3d"
           }
          ],
          "scattercarpet": [
           {
            "marker": {
             "colorbar": {
              "outlinewidth": 0,
              "ticks": ""
             }
            },
            "type": "scattercarpet"
           }
          ],
          "scattergeo": [
           {
            "marker": {
             "colorbar": {
              "outlinewidth": 0,
              "ticks": ""
             }
            },
            "type": "scattergeo"
           }
          ],
          "scattergl": [
           {
            "marker": {
             "colorbar": {
              "outlinewidth": 0,
              "ticks": ""
             }
            },
            "type": "scattergl"
           }
          ],
          "scattermap": [
           {
            "marker": {
             "colorbar": {
              "outlinewidth": 0,
              "ticks": ""
             }
            },
            "type": "scattermap"
           }
          ],
          "scattermapbox": [
           {
            "marker": {
             "colorbar": {
              "outlinewidth": 0,
              "ticks": ""
             }
            },
            "type": "scattermapbox"
           }
          ],
          "scatterpolar": [
           {
            "marker": {
             "colorbar": {
              "outlinewidth": 0,
              "ticks": ""
             }
            },
            "type": "scatterpolar"
           }
          ],
          "scatterpolargl": [
           {
            "marker": {
             "colorbar": {
              "outlinewidth": 0,
              "ticks": ""
             }
            },
            "type": "scatterpolargl"
           }
          ],
          "scatterternary": [
           {
            "marker": {
             "colorbar": {
              "outlinewidth": 0,
              "ticks": ""
             }
            },
            "type": "scatterternary"
           }
          ],
          "surface": [
           {
            "colorbar": {
             "outlinewidth": 0,
             "ticks": ""
            },
            "colorscale": [
             [
              0,
              "#0d0887"
             ],
             [
              0.1111111111111111,
              "#46039f"
             ],
             [
              0.2222222222222222,
              "#7201a8"
             ],
             [
              0.3333333333333333,
              "#9c179e"
             ],
             [
              0.4444444444444444,
              "#bd3786"
             ],
             [
              0.5555555555555556,
              "#d8576b"
             ],
             [
              0.6666666666666666,
              "#ed7953"
             ],
             [
              0.7777777777777778,
              "#fb9f3a"
             ],
             [
              0.8888888888888888,
              "#fdca26"
             ],
             [
              1,
              "#f0f921"
             ]
            ],
            "type": "surface"
           }
          ],
          "table": [
           {
            "cells": {
             "fill": {
              "color": "#EBF0F8"
             },
             "line": {
              "color": "white"
             }
            },
            "header": {
             "fill": {
              "color": "#C8D4E3"
             },
             "line": {
              "color": "white"
             }
            },
            "type": "table"
           }
          ]
         },
         "layout": {
          "annotationdefaults": {
           "arrowcolor": "#2a3f5f",
           "arrowhead": 0,
           "arrowwidth": 1
          },
          "autotypenumbers": "strict",
          "coloraxis": {
           "colorbar": {
            "outlinewidth": 0,
            "ticks": ""
           }
          },
          "colorscale": {
           "diverging": [
            [
             0,
             "#8e0152"
            ],
            [
             0.1,
             "#c51b7d"
            ],
            [
             0.2,
             "#de77ae"
            ],
            [
             0.3,
             "#f1b6da"
            ],
            [
             0.4,
             "#fde0ef"
            ],
            [
             0.5,
             "#f7f7f7"
            ],
            [
             0.6,
             "#e6f5d0"
            ],
            [
             0.7,
             "#b8e186"
            ],
            [
             0.8,
             "#7fbc41"
            ],
            [
             0.9,
             "#4d9221"
            ],
            [
             1,
             "#276419"
            ]
           ],
           "sequential": [
            [
             0,
             "#0d0887"
            ],
            [
             0.1111111111111111,
             "#46039f"
            ],
            [
             0.2222222222222222,
             "#7201a8"
            ],
            [
             0.3333333333333333,
             "#9c179e"
            ],
            [
             0.4444444444444444,
             "#bd3786"
            ],
            [
             0.5555555555555556,
             "#d8576b"
            ],
            [
             0.6666666666666666,
             "#ed7953"
            ],
            [
             0.7777777777777778,
             "#fb9f3a"
            ],
            [
             0.8888888888888888,
             "#fdca26"
            ],
            [
             1,
             "#f0f921"
            ]
           ],
           "sequentialminus": [
            [
             0,
             "#0d0887"
            ],
            [
             0.1111111111111111,
             "#46039f"
            ],
            [
             0.2222222222222222,
             "#7201a8"
            ],
            [
             0.3333333333333333,
             "#9c179e"
            ],
            [
             0.4444444444444444,
             "#bd3786"
            ],
            [
             0.5555555555555556,
             "#d8576b"
            ],
            [
             0.6666666666666666,
             "#ed7953"
            ],
            [
             0.7777777777777778,
             "#fb9f3a"
            ],
            [
             0.8888888888888888,
             "#fdca26"
            ],
            [
             1,
             "#f0f921"
            ]
           ]
          },
          "colorway": [
           "#636efa",
           "#EF553B",
           "#00cc96",
           "#ab63fa",
           "#FFA15A",
           "#19d3f3",
           "#FF6692",
           "#B6E880",
           "#FF97FF",
           "#FECB52"
          ],
          "font": {
           "color": "#2a3f5f"
          },
          "geo": {
           "bgcolor": "white",
           "lakecolor": "white",
           "landcolor": "white",
           "showlakes": true,
           "showland": true,
           "subunitcolor": "#C8D4E3"
          },
          "hoverlabel": {
           "align": "left"
          },
          "hovermode": "closest",
          "mapbox": {
           "style": "light"
          },
          "paper_bgcolor": "white",
          "plot_bgcolor": "white",
          "polar": {
           "angularaxis": {
            "gridcolor": "#EBF0F8",
            "linecolor": "#EBF0F8",
            "ticks": ""
           },
           "bgcolor": "white",
           "radialaxis": {
            "gridcolor": "#EBF0F8",
            "linecolor": "#EBF0F8",
            "ticks": ""
           }
          },
          "scene": {
           "xaxis": {
            "backgroundcolor": "white",
            "gridcolor": "#DFE8F3",
            "gridwidth": 2,
            "linecolor": "#EBF0F8",
            "showbackground": true,
            "ticks": "",
            "zerolinecolor": "#EBF0F8"
           },
           "yaxis": {
            "backgroundcolor": "white",
            "gridcolor": "#DFE8F3",
            "gridwidth": 2,
            "linecolor": "#EBF0F8",
            "showbackground": true,
            "ticks": "",
            "zerolinecolor": "#EBF0F8"
           },
           "zaxis": {
            "backgroundcolor": "white",
            "gridcolor": "#DFE8F3",
            "gridwidth": 2,
            "linecolor": "#EBF0F8",
            "showbackground": true,
            "ticks": "",
            "zerolinecolor": "#EBF0F8"
           }
          },
          "shapedefaults": {
           "line": {
            "color": "#2a3f5f"
           }
          },
          "ternary": {
           "aaxis": {
            "gridcolor": "#DFE8F3",
            "linecolor": "#A2B1C6",
            "ticks": ""
           },
           "baxis": {
            "gridcolor": "#DFE8F3",
            "linecolor": "#A2B1C6",
            "ticks": ""
           },
           "bgcolor": "white",
           "caxis": {
            "gridcolor": "#DFE8F3",
            "linecolor": "#A2B1C6",
            "ticks": ""
           }
          },
          "title": {
           "x": 0.05
          },
          "xaxis": {
           "automargin": true,
           "gridcolor": "#EBF0F8",
           "linecolor": "#EBF0F8",
           "ticks": "",
           "title": {
            "standoff": 15
           },
           "zerolinecolor": "#EBF0F8",
           "zerolinewidth": 2
          },
          "yaxis": {
           "automargin": true,
           "gridcolor": "#EBF0F8",
           "linecolor": "#EBF0F8",
           "ticks": "",
           "title": {
            "standoff": 15
           },
           "zerolinecolor": "#EBF0F8",
           "zerolinewidth": 2
          }
         }
        },
        "title": {
         "font": {
          "size": 20
         },
         "text": "Monthly Review Counts by Year (2015 -2022)"
        },
        "width": 1200,
        "xaxis": {
         "anchor": "y",
         "domain": [
          0,
          0.2125
         ],
         "tickangle": 45
        },
        "xaxis2": {
         "anchor": "y2",
         "domain": [
          0.2625,
          0.475
         ],
         "tickangle": 45
        },
        "xaxis3": {
         "anchor": "y3",
         "domain": [
          0.525,
          0.7375
         ],
         "tickangle": 45
        },
        "xaxis4": {
         "anchor": "y4",
         "domain": [
          0.7875,
          1
         ],
         "tickangle": 45
        },
        "xaxis5": {
         "anchor": "y5",
         "domain": [
          0,
          0.2125
         ],
         "tickangle": 45
        },
        "xaxis6": {
         "anchor": "y6",
         "domain": [
          0.2625,
          0.475
         ],
         "tickangle": 45
        },
        "xaxis7": {
         "anchor": "y7",
         "domain": [
          0.525,
          0.7375
         ],
         "tickangle": 45
        },
        "xaxis8": {
         "anchor": "y8",
         "domain": [
          0.7875,
          1
         ],
         "tickangle": 45
        },
        "yaxis": {
         "anchor": "x",
         "domain": [
          0.55,
          1
         ]
        },
        "yaxis2": {
         "anchor": "x2",
         "domain": [
          0.55,
          1
         ]
        },
        "yaxis3": {
         "anchor": "x3",
         "domain": [
          0.55,
          1
         ]
        },
        "yaxis4": {
         "anchor": "x4",
         "domain": [
          0.55,
          1
         ]
        },
        "yaxis5": {
         "anchor": "x5",
         "domain": [
          0,
          0.45
         ]
        },
        "yaxis6": {
         "anchor": "x6",
         "domain": [
          0,
          0.45
         ]
        },
        "yaxis7": {
         "anchor": "x7",
         "domain": [
          0,
          0.45
         ]
        },
        "yaxis8": {
         "anchor": "x8",
         "domain": [
          0,
          0.45
         ]
        }
       }
      }
     },
     "metadata": {},
     "output_type": "display_data"
    }
   ],
   "source": [
    "# Ensure the date column is in datetime format\n",
    "df['last_review_datetime'] = pd.to_datetime(df['last_review_datetime'], errors='coerce')\n",
    "\n",
    "# Filter years starting from 2015\n",
    "df = df[df['last_review_datetime'].dt.year >= 2015]\n",
    "\n",
    "# Get the list of unique years\n",
    "years = sorted(df['last_review_datetime'].dt.year.dropna().unique())\n",
    "\n",
    "# Set number of subplot columns and calculate rows\n",
    "n_cols = 4\n",
    "n_rows = -(-len(years) // n_cols)  # Ceiling division\n",
    "\n",
    "# Initialize subplot figure\n",
    "fig = make_subplots(\n",
    "    rows=n_rows,\n",
    "    cols=n_cols,\n",
    "    subplot_titles=[f\"Year {year}\" for year in years],\n",
    "    horizontal_spacing=0.05,\n",
    "    vertical_spacing=0.1\n",
    ")\n",
    "\n",
    "# Abbreviated month names (Jan, Feb, ..., Dec)\n",
    "month_names = [calendar.month_abbr[m] for m in range(1, 13)]\n",
    "\n",
    "# Loop through each year and add a line chart to the subplot\n",
    "for i, year in enumerate(years):\n",
    "    df_year = df[df['last_review_datetime'].dt.year == year]\n",
    "    \n",
    "    # Count number of reviews per month\n",
    "    monthly_counts = df_year['last_review_datetime'].dt.month.value_counts().sort_index()\n",
    "    \n",
    "    # Ensure all months are present (fill missing with 0)\n",
    "    monthly_counts = monthly_counts.reindex(range(1, 13), fill_value=0)\n",
    "\n",
    "    # Determine row and column for the subplot\n",
    "    row = (i // n_cols) + 1\n",
    "    col = (i % n_cols) + 1\n",
    "\n",
    "    # Add trace (line + markers) to the subplot\n",
    "    fig.add_trace(\n",
    "        go.Scatter(\n",
    "            x=month_names,\n",
    "            y=monthly_counts.values,\n",
    "            mode='lines+markers',\n",
    "            line=dict(width=2, color='pink'),\n",
    "            marker=dict(size=6),\n",
    "            showlegend=False\n",
    "        ),\n",
    "        row=row,\n",
    "        col=col\n",
    "    )\n",
    "\n",
    "# Update overall layout of the figure\n",
    "fig.update_layout(\n",
    "    height=300 * n_rows,\n",
    "    width=1200,\n",
    "    title_text=\"Monthly Review Counts by Year (2015 -2022)\",\n",
    "    title_font=dict(size=20),\n",
    "    template=\"plotly_white\",\n",
    "    margin=dict(t=80),\n",
    ")\n",
    "\n",
    "# Improve readability of subplot titles and axis labels\n",
    "fig.update_annotations(font=dict(size=13))\n",
    "fig.update_xaxes(tickangle=45)\n",
    "\n",
    "# Display the plot\n",
    "fig.show()"
   ]
  },
  {
   "cell_type": "markdown",
   "id": "50112264",
   "metadata": {},
   "source": [
    "#### Insights\n",
    "1.\tConsistent Increase in Reviews Toward Year-End\n",
    "In almost every year, there is a clear pattern of increasing review counts in November and December. This trend is likely tied to:\n",
    "-\tHoliday seasons such as Christmas and New Year.\n",
    "-\tPeak travel periods, especially in tourist destinations, leading to more bookings and thus more reviews.\n",
    "-\tThis trend becomes especially obvious in high-activity years like 2019 and 2022.\n",
    "2.\tSharp Decline in 2020 Due to COVID-19 Pandemic\n",
    "-\tIn 2020, reviews dramatically dropped starting March, aligning with global travel restrictions, lockdowns, and reduced tourism activity during the COVID-19 pandemic.\n",
    "-\tThe first three months were relatively high, but from April onward, activity remained flat and low — consistent with halted operations across the hospitality sector.\n",
    "\n",
    "---\n",
    "\n",
    "#### Recommendations\n",
    "1.\tLeverage Year-End Demand\n",
    "-\tOptimize listing visibility and promotions between October to December.\n",
    "-\tEncourage guests to leave reviews during this peak period to boost credibility for the following year.\n",
    "-\tConsider adding special seasonal offerings or discounts to attract more bookings.\n",
    "2.\tCrisis Preparedness for Future Disruptions\n",
    "-\tUse the 2020 drop as a case study to build resilience strategies, such as:\n",
    "-\tDiversifying target customer segments (e.g., domestic vs. international tourists).\n",
    "-\tImproving flexibility (cancellation/refund policies) during global disruptions.\n",
    "-\tEnhancing long-stay or work-from-anywhere features, which became popular during the pandemic.\n",
    "3.\tTarget Growth Based on Historical Patterns\n",
    "-\tAllocate advertising and marketing spend to align with historical spikes (especially Q4).\n",
    "-\tPlan resource allocation (cleaning, customer support, check-in logistics) to handle increased end-of-year demand."
   ]
  },
  {
   "cell_type": "markdown",
   "id": "84032f35",
   "metadata": {},
   "source": [
    "### 4. Total Number of Reviews by Room Type"
   ]
  },
  {
   "cell_type": "code",
   "execution_count": 37,
   "id": "c36c7dc8",
   "metadata": {},
   "outputs": [
    {
     "name": "stderr",
     "output_type": "stream",
     "text": [
      "/var/folders/k5/btcb7n5557sf9xy2f7wdrcnr0000gn/T/ipykernel_11070/2721847139.py:12: FutureWarning:\n",
      "\n",
      "\n",
      "\n",
      "Passing `palette` without assigning `hue` is deprecated and will be removed in v0.14.0. Assign the `x` variable to `hue` and set `legend=False` for the same effect.\n",
      "\n",
      "\n"
     ]
    },
    {
     "data": {
      "image/png": "[encoded data removed]",
      "text/plain": [
       "<Figure size 800x500 with 1 Axes>"
      ]
     },
     "metadata": {},
     "output_type": "display_data"
    }
   ],
   "source": [
    "# Aggregate total number_of_reviews per room_type\n",
    "room_reviews = df.groupby('room_type')['number_of_reviews'].sum().reset_index()\n",
    "\n",
    "# Sort descending by number of reviews\n",
    "room_reviews = room_reviews.sort_values(by='number_of_reviews', ascending=False)\n",
    "\n",
    "# Define pink color gradient (dark pink to light pink)\n",
    "pink_palette = sns.color_palette([\"#8B008B\", \"#C71585\", \"#DB7093\", \"#FFC0CB\"])  # kamu bisa sesuaikan jumlah warna\n",
    "\n",
    "# Plot\n",
    "plt.figure(figsize=(8, 5))\n",
    "sns.barplot(data=room_reviews, x='room_type', y='number_of_reviews', palette=pink_palette)\n",
    "\n",
    "plt.title('Total Number of Reviews by Room Type')\n",
    "plt.xlabel('Room Type')\n",
    "plt.ylabel('Total Number of Reviews')\n",
    "plt.xticks(rotation=30)\n",
    "plt.tight_layout()\n",
    "plt.show()"
   ]
  },
  {
   "cell_type": "markdown",
   "id": "759fcf37",
   "metadata": {},
   "source": [
    "#### **Insights**\n",
    "\n",
    "1. **Dominance of “Entire home/apt”**  \n",
    "   The *Entire home/apt* room type received the **highest number of reviews by far**, totaling nearly **200,000 reviews**. This indicates a strong guest preference for private, fully rented accommodations.\n",
    "\n",
    "2. **“Private room” comes second, but far behind**  \n",
    "   While *Private room* is the second most reviewed category, it only accounts for about **25% of the reviews** compared to *Entire home/apt*, highlighting a significant demand gap.\n",
    "\n",
    "3. **Low engagement with “Hotel room” and “Shared room”**  \n",
    "   Both types received **very few reviews**, suggesting they are either **less available or less popular** among guests.\n",
    "\n",
    "---\n",
    "\n",
    "#### **Recommendations**\n",
    "\n",
    "1. **Prioritize “Entire home/apt” listings**  \n",
    "   If you are a host or investor, focusing on *Entire home/apt* listings is highly recommended, as it is clearly the **most preferred option** by guests — likely due to privacy and comfort.\n",
    "\n",
    "2. **Optimize “Private room” offerings**  \n",
    "   Consider improving *Private room* listings by **revising pricing, enhancing amenities, and improving descriptions**. These could appeal more to solo travelers or budget-conscious guests.\n",
    "\n",
    "3. **Re-evaluate “Hotel room” and “Shared room” strategies**  \n",
    "   If you have listings under these categories, you might want to **reposition, promote, or even convert them** to a more popular type due to their low performance.\n",
    "\n",
    "4. **Leverage review text analysis**  \n",
    "   For *Entire home/apt* listings, perform **text analysis on reviews** to discover what features guests love the most — this can guide enhancements for other room types.\n"
   ]
  },
  {
   "cell_type": "markdown",
   "id": "510add60",
   "metadata": {},
   "source": [
    "### 5. Top Host with most `Calculated_Listing_Host`"
   ]
  },
  {
   "cell_type": "code",
   "execution_count": 38,
   "id": "d62fcdb8",
   "metadata": {},
   "outputs": [
    {
     "name": "stderr",
     "output_type": "stream",
     "text": [
      "/var/folders/k5/btcb7n5557sf9xy2f7wdrcnr0000gn/T/ipykernel_11070/736643600.py:15: FutureWarning:\n",
      "\n",
      "\n",
      "\n",
      "Passing `palette` without assigning `hue` is deprecated and will be removed in v0.14.0. Assign the `y` variable to `hue` and set `legend=False` for the same effect.\n",
      "\n",
      "\n"
     ]
    },
    {
     "data": {
      "image/png": "[encoded data removed]",
      "text/plain": [
       "<Figure size 1200x600 with 1 Axes>"
      ]
     },
     "metadata": {},
     "output_type": "display_data"
    }
   ],
   "source": [
    "# Get top 10 hosts with the most listings\n",
    "top_hosts = (\n",
    "    df.groupby(['host_id', 'host_name'])['calculated_host_listings_count']\n",
    "    .max()\n",
    "    .sort_values(ascending=False)\n",
    "    .head(10)\n",
    "    .reset_index()\n",
    ")\n",
    "\n",
    "# Define pink color palette (dark to light)\n",
    "pink_palette = sns.light_palette(\"pink\", n_colors=10, reverse=True)\n",
    "\n",
    "# Plot\n",
    "plt.figure(figsize=(12, 6))\n",
    "sns.barplot(data=top_hosts, x='calculated_host_listings_count', y='host_name', palette=pink_palette)\n",
    "plt.title('Top 10 Hosts with the Highest Number of Listings on Bangkok Airbnb')\n",
    "plt.xlabel('Number of Listings')\n",
    "plt.ylabel('Host Name')\n",
    "plt.tight_layout()\n",
    "plt.show()"
   ]
  },
  {
   "cell_type": "markdown",
   "id": "d3152b09",
   "metadata": {},
   "source": [
    "#### Insights\n",
    "\n",
    "- Such hosts are likely operating as **professional property managers or agencies** rather than individuals.\n",
    "- This centralization could have implications on pricing, availability, and user experience in the platform.\n",
    "\n",
    "---\n",
    "\n",
    "#### Recommendations\n",
    "1. **Monitor Superhosts**: Platforms like Airbnb should **closely monitor** high-volume hosts for quality and compliance with local regulations.\n",
    "2. **Engage Top Hosts**: Consider creating a **partnership or loyalty program** to retain high-performing hosts such as Curry, Noons, and K.\n",
    "3. **Diversify Host Base**: Encourage new and smaller hosts to join by providing onboarding support and incentives to **reduce host dependency concentration**.\n",
    "4. **Regulatory Considerations**: Local authorities may want to evaluate whether the presence of high-volume hosts affects the housing market and **enforce fair hosting practices**.\n",
    "5. **Improve Listing Quality**: Analyze reviews and performance metrics from these top hosts to **identify best practices** that can be shared with others.\n"
   ]
  },
  {
   "cell_type": "markdown",
   "id": "20755f08",
   "metadata": {},
   "source": [
    "## Conclusion\n",
    "\n",
    "#### Key Insights\n",
    "\n",
    "- **Central districts dominate** in listing counts, but outer districts show growth potential.\n",
    "- **Reviews peak toward the year-end**, especially in November–December, driven by tourism seasons.\n",
    "- **Budget to mid-range prices (0–2000 Baht)** attract the most guest engagement.\n",
    "- **Entire home/apt** listings are vastly preferred over other room types.\n",
    "- A small number of **professional hosts** manage a large share of listings, indicating market centralization.\n",
    "\n",
    "---\n",
    "\n",
    "#### Recommendations\n",
    "\n",
    "1. **Expand Beyond Central Districts**  \n",
    "   Encourage listing growth in underserved but accessible areas to reduce competition and expand guest options.\n",
    "\n",
    "2. **Capitalize on Seasonal Peaks**  \n",
    "   Promote listings more heavily between October–December with tailored offers to maximize visibility and bookings.\n",
    "\n",
    "3. **Strengthen Mid-Range Offerings**  \n",
    "   Improve amenities, descriptions, and pricing strategies for listings in the 1000–2000 Baht range.\n",
    "\n",
    "4. **Prioritize Entire Home Listings**  \n",
    "   Invest more in entire apartments/homes, as guests clearly favor privacy and autonomy.\n",
    "\n",
    "5. **Monitor and Engage Superhosts**  \n",
    "   Work closely with high-volume hosts to maintain platform quality, ensure regulatory compliance,  \n",
    "   and gather best practices to support new hosts.\n",
    "\n",
    "6. **Prepare for Market Disruptions**  \n",
    "   Build adaptive strategies for listings to cope with external events like pandemics through long-stay options, flexible bookings,  \n",
    "   and localized marketing.\n"
   ]
  }
 ],
 "metadata": {
  "kernelspec": {
   "display_name": "Python 3",
   "language": "python",
   "name": "python3"
  },
  "language_info": {
   "codemirror_mode": {
    "name": "ipython",
    "version": 3
   },
   "file_extension": ".py",
   "mimetype": "text/x-python",
   "name": "python",
   "nbconvert_exporter": "python",
   "pygments_lexer": "ipython3",
   "version": "3.11.5"
  }
 },
 "nbformat": 4,
 "nbformat_minor": 5
}
